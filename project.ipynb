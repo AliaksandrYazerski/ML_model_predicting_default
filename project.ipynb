{
 "cells": [
  {
   "cell_type": "markdown",
   "id": "32234520",
   "metadata": {},
   "source": [
    "**File Contents:**\n",
    "1. **Data Preparation**\\\n",
    "    1.1.  **Sample Dataset Preparation**\\\n",
    "        1.1.1. Data Encoding\\\n",
    "        1.1.2. Merge with Target\\\n",
    "    1.2.  **Feature Engeneering**\\\n",
    "    1.3.  **Full Dataset Preparation**\\\n",
    "        1.3.1. Data Encoding\\\n",
    "        1.3.2. Merge with Target\\\n",
    "2. **Modeling**\\\n",
    "    2.1. **Random Forest Classifier**\\\n",
    "        2.1.1. Hyperparameter Selection\\\n",
    "        2.1.2. Best Random Forest Classifier\\\n",
    "    2.2. **Gradient Boosting Classifier**\\\n",
    "        2.2.1. Hyperparameter Selection\\\n",
    "        2.2.2. Best Gradient Boosting Classifier\\\n",
    "    2.3. **MLP Classifier**\\\n",
    "        2.3.1. Hyperparameter Selection\\\n",
    "        2.3.2. Best MLP Classifier\\\n",
    "    2.4. **Cat Boost Classifier**\\\n",
    "        2.4.1. Hyperparameter Selection\\\n",
    "        2.4.2. Best Cat Boost Classifier\\\n",
    "    2.5. **Best Model**\n",
    "3. **PipeLine**\n",
    "4. **Result**"
   ]
  },
  {
   "cell_type": "code",
   "execution_count": 1,
   "id": "521a470a",
   "metadata": {
    "ExecuteTime": {
     "end_time": "2024-04-13T12:55:29.006570Z",
     "start_time": "2024-04-13T12:55:25.197504Z"
    }
   },
   "outputs": [],
   "source": [
    "import os\n",
    "import time\n",
    "import gc\n",
    "import datetime\n",
    "import tqdm\n",
    "import dill\n",
    "\n",
    "import pandas as pd\n",
    "import numpy as np\n",
    "\n",
    "import optuna\n",
    "from catboost import CatBoostClassifier\n",
    "\n",
    "from matplotlib import pyplot as plt\n",
    "from sklearn.linear_model import LogisticRegression\n",
    "from sklearn.ensemble import RandomForestClassifier, GradientBoostingClassifier\n",
    "from sklearn.neural_network import MLPClassifier\n",
    "from sklearn.preprocessing import OneHotEncoder, MinMaxScaler\n",
    "from sklearn.metrics import confusion_matrix, roc_auc_score, precision_score, recall_score, f1_score\n",
    "from sklearn.model_selection import train_test_split, cross_val_score, StratifiedKFold, GridSearchCV\n",
    "from sklearn.pipeline import Pipeline\n",
    "from sklearn.compose import ColumnTransformer\n",
    "\n",
    "import warnings\n",
    "warnings.filterwarnings('ignore')"
   ]
  },
  {
   "cell_type": "markdown",
   "id": "22e797bf",
   "metadata": {
    "jp-MarkdownHeadingCollapsed": true
   },
   "source": [
    "# 1. Data Preparation"
   ]
  },
  {
   "cell_type": "markdown",
   "id": "9a9603f7",
   "metadata": {},
   "source": [
    "**Data description:** \\\n",
    "**id** - Application identifier. Applications are numbered so that a higher number corresponds to a later application date;\\\n",
    "**rn** - Sequence number of the credit product in the credit history. The higher the number, the product with the later opening date corresponds to;\\\n",
    "**pre_since_opened** - Days from the loan opening date to the data collection date (binarized(a));\\\n",
    "**pre_since_confirmed** - Days from the loan information confirmation date to the data collection date (binarized(a));\\\n",
    "**pre_pterm** - Planned number of days from the loan opening date to the closing date (binarized(a));\\\n",
    "**pre_fterm** - Actual number of days from the loan opening date to the closing date (binarized(a));\\\n",
    "**pre_till_pclose** - Planned number of days from the data collection date to the loan closing date (binarized(a));\\\n",
    "**pre_till_fclose** - Actual number of days from the data collection date to the loan closing date (binarized(a));\\\n",
    "**pre_loans_credit_limit** - Credit limit (binarized(a));\\\n",
    "**pre_loans_next_pay_summ** - Next loan payment amount (binarized(a));\\\n",
    "**pre_loans_outstanding** - Remaining outstanding loan amount (binarized(a));\\\n",
    "**pre_loans_total_overdue** - Current overdue amount (binarized(a));\\\n",
    "**pre_loans_max_overdue_sum** - Maximum overdue amount (binarized(a));\\\n",
    "**pre_loans_credit_cost_rate** - Total cost of loan (binarized(a));\\\n",
    "**pre_loans5** - Number of overdue payments up to 5 days (binarized(a));\\\n",
    "**pre_loans530** - Number of overdue payments from 5 to 30 days (binarized(a));\\\n",
    "**pre_loans3060** - Number of overdue payments from 30 to 60 days (binarized(a));\\\n",
    "**pre_loans6090** - Number of overdue payments from 60 to 90 days (binarized(a));\\\n",
    "**pre_loans90** - Number of overdue payments more than 90 days (binarized(a));\\\n",
    "**is_zero_loans_5** - Flag: no overdue payments up to 5 days;\\\n",
    "**is_zero_loans_530** - Flag: no overdue payments from 5 to 30 days;\\\n",
    "**is_zero_loans_3060** - Flag: no overdue payments from 30 to 60 days;\\\n",
    "**is_zero_loans_6090** - Flag: no overdue payments from 60 to 90 days;\\\n",
    "**is_zero_loans90** - Flag: no overdue payments more than 90 days;\\\n",
    "**pre_util** - Ratio of the remaining unpaid loan amount to the credit limit (binarized(a));\\\n",
    "**pre_over2limit** - Ratio of the current overdue debt to the credit limit (binarized(a));\\\n",
    "**pre_maxover2limit** - Ratio of the maximum overdue debt to the credit limit (binarized(a));\\\n",
    "**is_zero_util** - Flag: the ratio of the remaining unpaid loan amount to the credit limit is 0;\\\n",
    "**is_zero_over2limit** - Flag: the ratio of the current overdue debt to the credit limit is 0;\\\n",
    "**is_zero_maxover2limit** - Flag: the ratio of the maximum overdue debt to the credit limit is 0;\\\n",
    "**enc_paym_{0..N}** - Monthly payment statuses for the last N months (coded(b));\\\n",
    "**enc_loans_account_holder_type** - Loan relationship type (coded(b));\\\n",
    "**enc_loans_credit_status** - Loan status (coded(b));\\\n",
    "**enc_loans_account_cur** - Loan currency (coded(b));\\\n",
    "**enc_loans_credit_type** - Loan type (coded(b));\\\n",
    "**pclose_flag** - Flag: planned number of days from loan opening date to closing date is not defined;\\\n",
    "**fclose_flag** - Flag: actual number of days from loan opening date to closing date is not defined.\n",
    "\n",
    "**(a)** - The range of field values ​​is divided into N non-intersecting intervals, each interval is randomly assigned a unique number from 0 to N-1, the field value is replaced by the number of the interval to which it belongs.\\\n",
    "**(b)** - Each unique field value is randomly assigned a unique number from 0 to K, the field value is replaced by the number of this value."
   ]
  },
  {
   "cell_type": "markdown",
   "id": "25e86fb1",
   "metadata": {},
   "source": [
    "**Target Description:**\\\n",
    "**id** - Application identifier. Applications are numbered so that later applications correspond to a later date;\\\n",
    "**flag** - Target variable, 1 – fact of default. Available to participants in the training sample."
   ]
  },
  {
   "cell_type": "code",
   "execution_count": 2,
   "id": "c36b3c42",
   "metadata": {
    "ExecuteTime": {
     "end_time": "2024-04-04T18:41:19.191104Z",
     "start_time": "2024-04-04T18:41:19.183097Z"
    },
    "code_folding": [
     0
    ]
   },
   "outputs": [],
   "source": [
    "def read_parquet_dataset_from_local(path_to_dataset: str, start_from: int = 0,\n",
    "                                     num_parts_to_read: int = 2, columns=None, verbose=False) -> pd.DataFrame:\n",
    "    \"\"\"\n",
    "    reading num_parts_to_read parquets, transform them to pd.DataFrame and return\n",
    "    :param path_to_dataset: path to parquets\n",
    "    :param start_from: the start parquet number\n",
    "    :param num_parts_to_read: amount of parquets to read\n",
    "    :param columns: column list to read from parquet\n",
    "    :return: pd.DataFrame\n",
    "    \"\"\"\n",
    "\n",
    "    res = []\n",
    "    dataset_paths = sorted([os.path.join(path_to_dataset, filename) for filename in os.listdir(path_to_dataset)\n",
    "                              if filename.startswith('train')])\n",
    "    print(dataset_paths)\n",
    "\n",
    "    start_from = max(0, start_from)\n",
    "    chunks = dataset_paths[start_from: start_from + num_parts_to_read]\n",
    "    if verbose:\n",
    "        print('Reading chunks:\\n')\n",
    "        for chunk in chunks:\n",
    "            print(chunk)\n",
    "    \n",
    "    for chunk_path in tqdm.tqdm_notebook(chunks, desc=\"Reading dataset with pandas\"):\n",
    "        print('chunk_path', chunk_path)\n",
    "        chunk = pd.read_parquet(chunk_path,columns=columns)\n",
    "        res.append(chunk)\n",
    "\n",
    "    return pd.concat(res).reset_index(drop=True)"
   ]
  },
  {
   "cell_type": "code",
   "execution_count": 3,
   "id": "9aaf83d0",
   "metadata": {
    "ExecuteTime": {
     "end_time": "2024-04-04T18:41:19.661381Z",
     "start_time": "2024-04-04T18:41:19.655380Z"
    },
    "code_folding": [
     0
    ]
   },
   "outputs": [],
   "source": [
    "def prepare_transactions_dataset(path_to_dataset: str, num_parts_to_preprocess_at_once: int = 1, num_parts_total: int=50,\n",
    "                                 save_to_path=None, verbose: bool=False):\n",
    "    \"\"\"\n",
    "    return a prepared pd.DataFrame with features\n",
    "    path_to_dataset: str\n",
    "        path to parquets\n",
    "    num_parts_to_preprocess_at_once: int\n",
    "        amount of parquets to processing simultaneously (in RAM)\n",
    "    num_parts_total: int\n",
    "        total amount of parquets to process\n",
    "    save_to_path: str\n",
    "        path to the folder where each processed block will be saved in .parquet format; if None, it will not be saved\n",
    "    verbose: bool\n",
    "        logs each processed piece of data\n",
    "    \"\"\"\n",
    "    preprocessed_frames = []\n",
    "\n",
    "    for step in tqdm.tqdm_notebook(range(0, num_parts_total, num_parts_to_preprocess_at_once),\n",
    "                                   desc=\"Transforming transactions data\"):\n",
    "        transactions_frame = read_parquet_dataset_from_local(path_to_dataset, step, num_parts_to_preprocess_at_once,\n",
    "                                                             verbose=verbose)\n",
    "\n",
    "        if save_to_path:\n",
    "            block_as_str = str(step)\n",
    "            if len(block_as_str) == 1:\n",
    "                block_as_str = '00' + block_as_str\n",
    "            else:\n",
    "                block_as_str = '0' + block_as_str\n",
    "            transactions_frame.to_parquet(os.path.join(save_to_path, f'processed_chunk_{block_as_str}.parquet'))\n",
    "\n",
    "        preprocessed_frames.append(transactions_frame)\n",
    "        \n",
    "    return pd.concat(preprocessed_frames)"
   ]
  },
  {
   "cell_type": "markdown",
   "id": "40607729",
   "metadata": {
    "heading_collapsed": true
   },
   "source": [
    "## 1.1. Sample Dataset Preparation"
   ]
  },
  {
   "cell_type": "markdown",
   "id": "96621a0a",
   "metadata": {
    "hidden": true
   },
   "source": [
    "**Done:**\\\n",
    "**1) Loading a trial dataset.**\\\n",
    "**2) Checking for missing values - no missing values.**\\\n",
    "**3) Encoding categorical features using OneHotEncoder.**\\\n",
    "**4) Merging with the target variable.**"
   ]
  },
  {
   "cell_type": "code",
   "execution_count": 4,
   "id": "d4e8d0ed",
   "metadata": {
    "ExecuteTime": {
     "end_time": "2024-04-04T18:41:27.416789Z",
     "start_time": "2024-04-04T18:41:23.897377Z"
    },
    "hidden": true
   },
   "outputs": [
    {
     "data": {
      "application/vnd.jupyter.widget-view+json": {
       "model_id": "3f49595c07a4487db767136e8be33447",
       "version_major": 2,
       "version_minor": 0
      },
      "text/plain": [
       "Transforming transactions data:   0%|          | 0/1 [00:00<?, ?it/s]"
      ]
     },
     "metadata": {},
     "output_type": "display_data"
    },
    {
     "name": "stdout",
     "output_type": "stream",
     "text": [
      "['C:/Users/user/Desktop/Data_Science/Homework/Core_courses/Junior_courses/FInal_project/train_data\\\\train_data_0.pq', 'C:/Users/user/Desktop/Data_Science/Homework/Core_courses/Junior_courses/FInal_project/train_data\\\\train_data_1.pq', 'C:/Users/user/Desktop/Data_Science/Homework/Core_courses/Junior_courses/FInal_project/train_data\\\\train_data_10.pq', 'C:/Users/user/Desktop/Data_Science/Homework/Core_courses/Junior_courses/FInal_project/train_data\\\\train_data_11.pq', 'C:/Users/user/Desktop/Data_Science/Homework/Core_courses/Junior_courses/FInal_project/train_data\\\\train_data_2.pq', 'C:/Users/user/Desktop/Data_Science/Homework/Core_courses/Junior_courses/FInal_project/train_data\\\\train_data_3.pq', 'C:/Users/user/Desktop/Data_Science/Homework/Core_courses/Junior_courses/FInal_project/train_data\\\\train_data_4.pq', 'C:/Users/user/Desktop/Data_Science/Homework/Core_courses/Junior_courses/FInal_project/train_data\\\\train_data_5.pq', 'C:/Users/user/Desktop/Data_Science/Homework/Core_courses/Junior_courses/FInal_project/train_data\\\\train_data_6.pq', 'C:/Users/user/Desktop/Data_Science/Homework/Core_courses/Junior_courses/FInal_project/train_data\\\\train_data_7.pq', 'C:/Users/user/Desktop/Data_Science/Homework/Core_courses/Junior_courses/FInal_project/train_data\\\\train_data_8.pq', 'C:/Users/user/Desktop/Data_Science/Homework/Core_courses/Junior_courses/FInal_project/train_data\\\\train_data_9.pq']\n"
     ]
    },
    {
     "data": {
      "application/vnd.jupyter.widget-view+json": {
       "model_id": "91596accd30e4f349ba9c9af60873a90",
       "version_major": 2,
       "version_minor": 0
      },
      "text/plain": [
       "Reading dataset with pandas:   0%|          | 0/2 [00:00<?, ?it/s]"
      ]
     },
     "metadata": {},
     "output_type": "display_data"
    },
    {
     "name": "stdout",
     "output_type": "stream",
     "text": [
      "chunk_path C:/Users/user/Desktop/Data_Science/Homework/Core_courses/Junior_courses/FInal_project/train_data\\train_data_0.pq\n",
      "chunk_path C:/Users/user/Desktop/Data_Science/Homework/Core_courses/Junior_courses/FInal_project/train_data\\train_data_1.pq\n",
      "Shape: (4082029, 61)\n"
     ]
    },
    {
     "data": {
      "text/html": [
       "<div>\n",
       "<style scoped>\n",
       "    .dataframe tbody tr th:only-of-type {\n",
       "        vertical-align: middle;\n",
       "    }\n",
       "\n",
       "    .dataframe tbody tr th {\n",
       "        vertical-align: top;\n",
       "    }\n",
       "\n",
       "    .dataframe thead th {\n",
       "        text-align: right;\n",
       "    }\n",
       "</style>\n",
       "<table border=\"1\" class=\"dataframe\">\n",
       "  <thead>\n",
       "    <tr style=\"text-align: right;\">\n",
       "      <th></th>\n",
       "      <th>id</th>\n",
       "      <th>rn</th>\n",
       "      <th>pre_since_opened</th>\n",
       "      <th>pre_since_confirmed</th>\n",
       "      <th>pre_pterm</th>\n",
       "      <th>pre_fterm</th>\n",
       "      <th>pre_till_pclose</th>\n",
       "      <th>pre_till_fclose</th>\n",
       "      <th>pre_loans_credit_limit</th>\n",
       "      <th>pre_loans_next_pay_summ</th>\n",
       "      <th>...</th>\n",
       "      <th>enc_paym_21</th>\n",
       "      <th>enc_paym_22</th>\n",
       "      <th>enc_paym_23</th>\n",
       "      <th>enc_paym_24</th>\n",
       "      <th>enc_loans_account_holder_type</th>\n",
       "      <th>enc_loans_credit_status</th>\n",
       "      <th>enc_loans_credit_type</th>\n",
       "      <th>enc_loans_account_cur</th>\n",
       "      <th>pclose_flag</th>\n",
       "      <th>fclose_flag</th>\n",
       "    </tr>\n",
       "  </thead>\n",
       "  <tbody>\n",
       "    <tr>\n",
       "      <th>0</th>\n",
       "      <td>0</td>\n",
       "      <td>1</td>\n",
       "      <td>18</td>\n",
       "      <td>9</td>\n",
       "      <td>2</td>\n",
       "      <td>3</td>\n",
       "      <td>16</td>\n",
       "      <td>10</td>\n",
       "      <td>11</td>\n",
       "      <td>3</td>\n",
       "      <td>...</td>\n",
       "      <td>3</td>\n",
       "      <td>3</td>\n",
       "      <td>3</td>\n",
       "      <td>4</td>\n",
       "      <td>1</td>\n",
       "      <td>3</td>\n",
       "      <td>4</td>\n",
       "      <td>1</td>\n",
       "      <td>0</td>\n",
       "      <td>0</td>\n",
       "    </tr>\n",
       "    <tr>\n",
       "      <th>1</th>\n",
       "      <td>0</td>\n",
       "      <td>2</td>\n",
       "      <td>18</td>\n",
       "      <td>9</td>\n",
       "      <td>14</td>\n",
       "      <td>14</td>\n",
       "      <td>12</td>\n",
       "      <td>12</td>\n",
       "      <td>0</td>\n",
       "      <td>3</td>\n",
       "      <td>...</td>\n",
       "      <td>0</td>\n",
       "      <td>0</td>\n",
       "      <td>0</td>\n",
       "      <td>4</td>\n",
       "      <td>1</td>\n",
       "      <td>3</td>\n",
       "      <td>4</td>\n",
       "      <td>1</td>\n",
       "      <td>0</td>\n",
       "      <td>0</td>\n",
       "    </tr>\n",
       "    <tr>\n",
       "      <th>2</th>\n",
       "      <td>0</td>\n",
       "      <td>3</td>\n",
       "      <td>18</td>\n",
       "      <td>9</td>\n",
       "      <td>4</td>\n",
       "      <td>8</td>\n",
       "      <td>1</td>\n",
       "      <td>11</td>\n",
       "      <td>11</td>\n",
       "      <td>0</td>\n",
       "      <td>...</td>\n",
       "      <td>0</td>\n",
       "      <td>0</td>\n",
       "      <td>0</td>\n",
       "      <td>4</td>\n",
       "      <td>1</td>\n",
       "      <td>2</td>\n",
       "      <td>3</td>\n",
       "      <td>1</td>\n",
       "      <td>1</td>\n",
       "      <td>1</td>\n",
       "    </tr>\n",
       "    <tr>\n",
       "      <th>3</th>\n",
       "      <td>0</td>\n",
       "      <td>4</td>\n",
       "      <td>4</td>\n",
       "      <td>1</td>\n",
       "      <td>9</td>\n",
       "      <td>12</td>\n",
       "      <td>16</td>\n",
       "      <td>7</td>\n",
       "      <td>12</td>\n",
       "      <td>2</td>\n",
       "      <td>...</td>\n",
       "      <td>3</td>\n",
       "      <td>3</td>\n",
       "      <td>3</td>\n",
       "      <td>4</td>\n",
       "      <td>1</td>\n",
       "      <td>3</td>\n",
       "      <td>1</td>\n",
       "      <td>1</td>\n",
       "      <td>0</td>\n",
       "      <td>0</td>\n",
       "    </tr>\n",
       "    <tr>\n",
       "      <th>4</th>\n",
       "      <td>0</td>\n",
       "      <td>5</td>\n",
       "      <td>5</td>\n",
       "      <td>12</td>\n",
       "      <td>15</td>\n",
       "      <td>2</td>\n",
       "      <td>11</td>\n",
       "      <td>12</td>\n",
       "      <td>10</td>\n",
       "      <td>2</td>\n",
       "      <td>...</td>\n",
       "      <td>3</td>\n",
       "      <td>3</td>\n",
       "      <td>3</td>\n",
       "      <td>4</td>\n",
       "      <td>1</td>\n",
       "      <td>3</td>\n",
       "      <td>4</td>\n",
       "      <td>1</td>\n",
       "      <td>0</td>\n",
       "      <td>0</td>\n",
       "    </tr>\n",
       "  </tbody>\n",
       "</table>\n",
       "<p>5 rows × 61 columns</p>\n",
       "</div>"
      ],
      "text/plain": [
       "   id  rn  pre_since_opened  pre_since_confirmed  pre_pterm  pre_fterm  \\\n",
       "0   0   1                18                    9          2          3   \n",
       "1   0   2                18                    9         14         14   \n",
       "2   0   3                18                    9          4          8   \n",
       "3   0   4                 4                    1          9         12   \n",
       "4   0   5                 5                   12         15          2   \n",
       "\n",
       "   pre_till_pclose  pre_till_fclose  pre_loans_credit_limit  \\\n",
       "0               16               10                      11   \n",
       "1               12               12                       0   \n",
       "2                1               11                      11   \n",
       "3               16                7                      12   \n",
       "4               11               12                      10   \n",
       "\n",
       "   pre_loans_next_pay_summ  ...  enc_paym_21  enc_paym_22  enc_paym_23  \\\n",
       "0                        3  ...            3            3            3   \n",
       "1                        3  ...            0            0            0   \n",
       "2                        0  ...            0            0            0   \n",
       "3                        2  ...            3            3            3   \n",
       "4                        2  ...            3            3            3   \n",
       "\n",
       "   enc_paym_24  enc_loans_account_holder_type  enc_loans_credit_status  \\\n",
       "0            4                              1                        3   \n",
       "1            4                              1                        3   \n",
       "2            4                              1                        2   \n",
       "3            4                              1                        3   \n",
       "4            4                              1                        3   \n",
       "\n",
       "   enc_loans_credit_type  enc_loans_account_cur  pclose_flag  fclose_flag  \n",
       "0                      4                      1            0            0  \n",
       "1                      4                      1            0            0  \n",
       "2                      3                      1            1            1  \n",
       "3                      1                      1            0            0  \n",
       "4                      4                      1            0            0  \n",
       "\n",
       "[5 rows x 61 columns]"
      ]
     },
     "execution_count": 4,
     "metadata": {},
     "output_type": "execute_result"
    }
   ],
   "source": [
    "path = './data/train_data'\n",
    "df = prepare_transactions_dataset(path, num_parts_to_preprocess_at_once=2, num_parts_total=2) # total_full = 12\n",
    "                                   \n",
    "print('Shape:', df.shape)\n",
    "df.head()"
   ]
  },
  {
   "cell_type": "code",
   "execution_count": 5,
   "id": "8eead131",
   "metadata": {
    "ExecuteTime": {
     "end_time": "2024-04-04T18:41:33.130881Z",
     "start_time": "2024-04-04T18:41:32.838486Z"
    },
    "hidden": true
   },
   "outputs": [
    {
     "data": {
      "text/plain": [
       "id                    0.0\n",
       "enc_paym_1            0.0\n",
       "enc_paym_3            0.0\n",
       "enc_paym_4            0.0\n",
       "enc_paym_5            0.0\n",
       "                     ... \n",
       "pre_over2limit        0.0\n",
       "pre_maxover2limit     0.0\n",
       "is_zero_util          0.0\n",
       "is_zero_over2limit    0.0\n",
       "fclose_flag           0.0\n",
       "Length: 61, dtype: float64"
      ]
     },
     "execution_count": 5,
     "metadata": {},
     "output_type": "execute_result"
    }
   ],
   "source": [
    "missing_values = (df.isna().sum() / len(df) * 100).sort_values(ascending=False)\n",
    "missing_values"
   ]
  },
  {
   "cell_type": "code",
   "execution_count": 6,
   "id": "7ddaf6d1",
   "metadata": {
    "ExecuteTime": {
     "end_time": "2024-04-04T17:15:25.064171Z",
     "start_time": "2024-04-04T17:14:55.885316Z"
    },
    "hidden": true
   },
   "outputs": [],
   "source": [
    "df.to_csv('./data/initial_data_short.csv',\n",
    "          index=False)"
   ]
  },
  {
   "cell_type": "markdown",
   "id": "6024fc6f",
   "metadata": {
    "heading_collapsed": true,
    "hidden": true
   },
   "source": [
    "### 1.1.1. Data Encoding"
   ]
  },
  {
   "cell_type": "code",
   "execution_count": 7,
   "id": "b5e38f1e",
   "metadata": {
    "ExecuteTime": {
     "end_time": "2024-04-04T17:27:20.575119Z",
     "start_time": "2024-04-04T17:15:32.092081Z"
    },
    "hidden": true
   },
   "outputs": [
    {
     "data": {
      "text/plain": [
       "(4082029, 452)"
      ]
     },
     "execution_count": 7,
     "metadata": {},
     "output_type": "execute_result"
    }
   ],
   "source": [
    "ohe = OneHotEncoder(sparse_output=False, handle_unknown='ignore')\n",
    "columns = df.columns[1:]\n",
    "\n",
    "for i in range(0, len(columns), 2):\n",
    "    df[ohe.get_feature_names_out()] = ohe.fit_transform(df[[columns[i], columns[i+1]]])\n",
    "    df = df.drop(columns=[columns[i], columns[i+1]])\n",
    "    \n",
    "df.shape"
   ]
  },
  {
   "cell_type": "code",
   "execution_count": 9,
   "id": "82b8005f",
   "metadata": {
    "ExecuteTime": {
     "end_time": "2024-04-04T17:28:34.159263Z",
     "start_time": "2024-04-04T17:28:01.797867Z"
    },
    "hidden": true
   },
   "outputs": [
    {
     "data": {
      "text/plain": [
       "(500000, 451)"
      ]
     },
     "execution_count": 9,
     "metadata": {},
     "output_type": "execute_result"
    }
   ],
   "source": [
    "df = df.groupby('id')[df.columns[1:]].sum()\n",
    "df.shape"
   ]
  },
  {
   "cell_type": "markdown",
   "id": "9888a378",
   "metadata": {
    "heading_collapsed": true,
    "hidden": true
   },
   "source": [
    "### 1.1.2. Merge with Target"
   ]
  },
  {
   "cell_type": "code",
   "execution_count": 10,
   "id": "9460a25a",
   "metadata": {
    "ExecuteTime": {
     "end_time": "2024-04-04T17:28:44.184418Z",
     "start_time": "2024-04-04T17:28:43.759353Z"
    },
    "hidden": true
   },
   "outputs": [
    {
     "data": {
      "text/html": [
       "<div>\n",
       "<style scoped>\n",
       "    .dataframe tbody tr th:only-of-type {\n",
       "        vertical-align: middle;\n",
       "    }\n",
       "\n",
       "    .dataframe tbody tr th {\n",
       "        vertical-align: top;\n",
       "    }\n",
       "\n",
       "    .dataframe thead th {\n",
       "        text-align: right;\n",
       "    }\n",
       "</style>\n",
       "<table border=\"1\" class=\"dataframe\">\n",
       "  <thead>\n",
       "    <tr style=\"text-align: right;\">\n",
       "      <th></th>\n",
       "      <th>id</th>\n",
       "      <th>flag</th>\n",
       "    </tr>\n",
       "  </thead>\n",
       "  <tbody>\n",
       "    <tr>\n",
       "      <th>0</th>\n",
       "      <td>0</td>\n",
       "      <td>0</td>\n",
       "    </tr>\n",
       "    <tr>\n",
       "      <th>1</th>\n",
       "      <td>1</td>\n",
       "      <td>0</td>\n",
       "    </tr>\n",
       "    <tr>\n",
       "      <th>2</th>\n",
       "      <td>2</td>\n",
       "      <td>0</td>\n",
       "    </tr>\n",
       "    <tr>\n",
       "      <th>3</th>\n",
       "      <td>3</td>\n",
       "      <td>0</td>\n",
       "    </tr>\n",
       "    <tr>\n",
       "      <th>4</th>\n",
       "      <td>4</td>\n",
       "      <td>0</td>\n",
       "    </tr>\n",
       "  </tbody>\n",
       "</table>\n",
       "</div>"
      ],
      "text/plain": [
       "   id  flag\n",
       "0   0     0\n",
       "1   1     0\n",
       "2   2     0\n",
       "3   3     0\n",
       "4   4     0"
      ]
     },
     "execution_count": 10,
     "metadata": {},
     "output_type": "execute_result"
    }
   ],
   "source": [
    "df_target = pd.read_csv('./data/train_target.csv')\n",
    "df_target.head()"
   ]
  },
  {
   "cell_type": "code",
   "execution_count": 11,
   "id": "7fdc93f8",
   "metadata": {
    "ExecuteTime": {
     "end_time": "2024-04-04T17:28:52.243248Z",
     "start_time": "2024-04-04T17:28:50.765127Z"
    },
    "hidden": true
   },
   "outputs": [
    {
     "name": "stdout",
     "output_type": "stream",
     "text": [
      "Shape: (500000, 453)\n"
     ]
    },
    {
     "data": {
      "text/html": [
       "<div>\n",
       "<style scoped>\n",
       "    .dataframe tbody tr th:only-of-type {\n",
       "        vertical-align: middle;\n",
       "    }\n",
       "\n",
       "    .dataframe tbody tr th {\n",
       "        vertical-align: top;\n",
       "    }\n",
       "\n",
       "    .dataframe thead th {\n",
       "        text-align: right;\n",
       "    }\n",
       "</style>\n",
       "<table border=\"1\" class=\"dataframe\">\n",
       "  <thead>\n",
       "    <tr style=\"text-align: right;\">\n",
       "      <th></th>\n",
       "      <th>id</th>\n",
       "      <th>rn_1</th>\n",
       "      <th>rn_2</th>\n",
       "      <th>rn_3</th>\n",
       "      <th>rn_4</th>\n",
       "      <th>rn_5</th>\n",
       "      <th>rn_6</th>\n",
       "      <th>rn_7</th>\n",
       "      <th>rn_8</th>\n",
       "      <th>rn_9</th>\n",
       "      <th>...</th>\n",
       "      <th>enc_loans_credit_type_5</th>\n",
       "      <th>enc_loans_account_cur_0</th>\n",
       "      <th>enc_loans_account_cur_1</th>\n",
       "      <th>enc_loans_account_cur_2</th>\n",
       "      <th>enc_loans_account_cur_3</th>\n",
       "      <th>pclose_flag_0</th>\n",
       "      <th>pclose_flag_1</th>\n",
       "      <th>fclose_flag_0</th>\n",
       "      <th>fclose_flag_1</th>\n",
       "      <th>flag</th>\n",
       "    </tr>\n",
       "  </thead>\n",
       "  <tbody>\n",
       "    <tr>\n",
       "      <th>0</th>\n",
       "      <td>0</td>\n",
       "      <td>1.0</td>\n",
       "      <td>1.0</td>\n",
       "      <td>1.0</td>\n",
       "      <td>1.0</td>\n",
       "      <td>1.0</td>\n",
       "      <td>1.0</td>\n",
       "      <td>1.0</td>\n",
       "      <td>1.0</td>\n",
       "      <td>1.0</td>\n",
       "      <td>...</td>\n",
       "      <td>0.0</td>\n",
       "      <td>0.0</td>\n",
       "      <td>10.0</td>\n",
       "      <td>0.0</td>\n",
       "      <td>0.0</td>\n",
       "      <td>9.0</td>\n",
       "      <td>1.0</td>\n",
       "      <td>8.0</td>\n",
       "      <td>2.0</td>\n",
       "      <td>0</td>\n",
       "    </tr>\n",
       "    <tr>\n",
       "      <th>1</th>\n",
       "      <td>1</td>\n",
       "      <td>1.0</td>\n",
       "      <td>1.0</td>\n",
       "      <td>1.0</td>\n",
       "      <td>1.0</td>\n",
       "      <td>1.0</td>\n",
       "      <td>1.0</td>\n",
       "      <td>1.0</td>\n",
       "      <td>1.0</td>\n",
       "      <td>1.0</td>\n",
       "      <td>...</td>\n",
       "      <td>0.0</td>\n",
       "      <td>0.0</td>\n",
       "      <td>14.0</td>\n",
       "      <td>0.0</td>\n",
       "      <td>0.0</td>\n",
       "      <td>13.0</td>\n",
       "      <td>1.0</td>\n",
       "      <td>12.0</td>\n",
       "      <td>2.0</td>\n",
       "      <td>0</td>\n",
       "    </tr>\n",
       "    <tr>\n",
       "      <th>2</th>\n",
       "      <td>2</td>\n",
       "      <td>1.0</td>\n",
       "      <td>1.0</td>\n",
       "      <td>1.0</td>\n",
       "      <td>0.0</td>\n",
       "      <td>0.0</td>\n",
       "      <td>0.0</td>\n",
       "      <td>0.0</td>\n",
       "      <td>0.0</td>\n",
       "      <td>0.0</td>\n",
       "      <td>...</td>\n",
       "      <td>0.0</td>\n",
       "      <td>0.0</td>\n",
       "      <td>3.0</td>\n",
       "      <td>0.0</td>\n",
       "      <td>0.0</td>\n",
       "      <td>1.0</td>\n",
       "      <td>2.0</td>\n",
       "      <td>1.0</td>\n",
       "      <td>2.0</td>\n",
       "      <td>0</td>\n",
       "    </tr>\n",
       "    <tr>\n",
       "      <th>3</th>\n",
       "      <td>3</td>\n",
       "      <td>1.0</td>\n",
       "      <td>1.0</td>\n",
       "      <td>1.0</td>\n",
       "      <td>1.0</td>\n",
       "      <td>1.0</td>\n",
       "      <td>1.0</td>\n",
       "      <td>1.0</td>\n",
       "      <td>1.0</td>\n",
       "      <td>1.0</td>\n",
       "      <td>...</td>\n",
       "      <td>1.0</td>\n",
       "      <td>0.0</td>\n",
       "      <td>15.0</td>\n",
       "      <td>0.0</td>\n",
       "      <td>0.0</td>\n",
       "      <td>10.0</td>\n",
       "      <td>5.0</td>\n",
       "      <td>9.0</td>\n",
       "      <td>6.0</td>\n",
       "      <td>0</td>\n",
       "    </tr>\n",
       "    <tr>\n",
       "      <th>4</th>\n",
       "      <td>4</td>\n",
       "      <td>1.0</td>\n",
       "      <td>0.0</td>\n",
       "      <td>0.0</td>\n",
       "      <td>0.0</td>\n",
       "      <td>0.0</td>\n",
       "      <td>0.0</td>\n",
       "      <td>0.0</td>\n",
       "      <td>0.0</td>\n",
       "      <td>0.0</td>\n",
       "      <td>...</td>\n",
       "      <td>0.0</td>\n",
       "      <td>0.0</td>\n",
       "      <td>1.0</td>\n",
       "      <td>0.0</td>\n",
       "      <td>0.0</td>\n",
       "      <td>0.0</td>\n",
       "      <td>1.0</td>\n",
       "      <td>0.0</td>\n",
       "      <td>1.0</td>\n",
       "      <td>0</td>\n",
       "    </tr>\n",
       "  </tbody>\n",
       "</table>\n",
       "<p>5 rows × 453 columns</p>\n",
       "</div>"
      ],
      "text/plain": [
       "   id  rn_1  rn_2  rn_3  rn_4  rn_5  rn_6  rn_7  rn_8  rn_9  ...  \\\n",
       "0   0   1.0   1.0   1.0   1.0   1.0   1.0   1.0   1.0   1.0  ...   \n",
       "1   1   1.0   1.0   1.0   1.0   1.0   1.0   1.0   1.0   1.0  ...   \n",
       "2   2   1.0   1.0   1.0   0.0   0.0   0.0   0.0   0.0   0.0  ...   \n",
       "3   3   1.0   1.0   1.0   1.0   1.0   1.0   1.0   1.0   1.0  ...   \n",
       "4   4   1.0   0.0   0.0   0.0   0.0   0.0   0.0   0.0   0.0  ...   \n",
       "\n",
       "   enc_loans_credit_type_5  enc_loans_account_cur_0  enc_loans_account_cur_1  \\\n",
       "0                      0.0                      0.0                     10.0   \n",
       "1                      0.0                      0.0                     14.0   \n",
       "2                      0.0                      0.0                      3.0   \n",
       "3                      1.0                      0.0                     15.0   \n",
       "4                      0.0                      0.0                      1.0   \n",
       "\n",
       "   enc_loans_account_cur_2  enc_loans_account_cur_3  pclose_flag_0  \\\n",
       "0                      0.0                      0.0            9.0   \n",
       "1                      0.0                      0.0           13.0   \n",
       "2                      0.0                      0.0            1.0   \n",
       "3                      0.0                      0.0           10.0   \n",
       "4                      0.0                      0.0            0.0   \n",
       "\n",
       "   pclose_flag_1  fclose_flag_0  fclose_flag_1  flag  \n",
       "0            1.0            8.0            2.0     0  \n",
       "1            1.0           12.0            2.0     0  \n",
       "2            2.0            1.0            2.0     0  \n",
       "3            5.0            9.0            6.0     0  \n",
       "4            1.0            0.0            1.0     0  \n",
       "\n",
       "[5 rows x 453 columns]"
      ]
     },
     "execution_count": 11,
     "metadata": {},
     "output_type": "execute_result"
    }
   ],
   "source": [
    "df = pd.merge(left=df, right=df_target, on='id', how='inner')\n",
    "\n",
    "print('Shape:', df.shape)\n",
    "df.head()"
   ]
  },
  {
   "cell_type": "code",
   "execution_count": 12,
   "id": "e6717722",
   "metadata": {
    "ExecuteTime": {
     "end_time": "2024-04-04T17:30:22.772126Z",
     "start_time": "2024-04-04T17:28:52.453206Z"
    },
    "hidden": true
   },
   "outputs": [],
   "source": [
    "df.to_csv('./data/prepared_data_short.csv',\n",
    "          index=False)"
   ]
  },
  {
   "cell_type": "markdown",
   "id": "d7e70cf6",
   "metadata": {
    "heading_collapsed": true
   },
   "source": [
    "## 1.2. Feature Engeneering"
   ]
  },
  {
   "cell_type": "markdown",
   "id": "fd24b7ae",
   "metadata": {
    "hidden": true
   },
   "source": [
    "**The analysis of the influence of features on the quality metric (ROC-AUC) was performed.\\\n",
    "Based on the analysis results, all features from the original dataset were selected.**"
   ]
  },
  {
   "cell_type": "code",
   "execution_count": 13,
   "id": "6a926389",
   "metadata": {
    "ExecuteTime": {
     "end_time": "2024-04-04T18:44:25.343438Z",
     "start_time": "2024-04-04T18:44:25.334458Z"
    },
    "hidden": true
   },
   "outputs": [
    {
     "data": {
      "text/plain": [
       "0    484054\n",
       "1     15946\n",
       "Name: flag, dtype: int64"
      ]
     },
     "execution_count": 13,
     "metadata": {},
     "output_type": "execute_result"
    }
   ],
   "source": [
    "df['flag'].value_counts()"
   ]
  },
  {
   "cell_type": "code",
   "execution_count": 14,
   "id": "c1f94422",
   "metadata": {
    "ExecuteTime": {
     "end_time": "2024-04-04T18:44:33.656178Z",
     "start_time": "2024-04-04T18:44:31.302186Z"
    },
    "hidden": true
   },
   "outputs": [],
   "source": [
    "y = df['flag']\n",
    "X = df.drop(columns=['flag', 'id'])\n",
    "\n",
    "X_train, X_test, y_train, y_test = train_test_split(X, y, test_size=.2, stratify=y, random_state=42)"
   ]
  },
  {
   "cell_type": "code",
   "execution_count": 15,
   "id": "4e1b1852",
   "metadata": {
    "ExecuteTime": {
     "end_time": "2024-04-04T18:44:41.443281Z",
     "start_time": "2024-04-04T18:44:38.438091Z"
    },
    "hidden": true
   },
   "outputs": [],
   "source": [
    "mm_scaler = MinMaxScaler()\n",
    "columns = X_train.columns\n",
    "\n",
    "X_train[columns] = mm_scaler.fit_transform(X_train[columns])\n",
    "X_test[columns] = mm_scaler.transform(X_test[columns])"
   ]
  },
  {
   "cell_type": "code",
   "execution_count": 16,
   "id": "d5c76775",
   "metadata": {
    "ExecuteTime": {
     "end_time": "2024-04-04T17:30:43.403400Z",
     "start_time": "2024-04-04T17:30:28.202773Z"
    },
    "hidden": true
   },
   "outputs": [
    {
     "name": "stdout",
     "output_type": "stream",
     "text": [
      "ROC-AUC train_set for LogisticRegression: 0.7621582652850412\n",
      "ROC-AUC test_set for LogisticRegression: 0.7533968752705333\n",
      "\n",
      "Precision train_set for LogisticRegression: 0.06852140739481136\n",
      "Precision test_set for LogisticRegression: 0.0669379570653456\n",
      "\n",
      "Recall train_set for LogisticRegression: 0.7265030963392647\n",
      "Recall test_set for LogisticRegression: 0.7118218877391032\n",
      "\n",
      "Confusion_matrix test_set for LogisticRegression:\n"
     ]
    },
    {
     "data": {
      "text/plain": [
       "array([[65169, 31642],\n",
       "       [  919,  2270]], dtype=int64)"
      ]
     },
     "execution_count": 16,
     "metadata": {},
     "output_type": "execute_result"
    }
   ],
   "source": [
    "logreg = LogisticRegression(class_weight='balanced', random_state=42)\n",
    "logreg.fit(X_train, y_train)\n",
    "\n",
    "pred_logreg_train = logreg.predict(X_train)\n",
    "pred_logreg_test = logreg.predict(X_test)\n",
    "\n",
    "print(\n",
    "    f'ROC-AUC train_set for LogisticRegression: {roc_auc_score(y_train, logreg.predict_proba(X_train)[:,1])}\\n'\n",
    "    f'ROC-AUC test_set for LogisticRegression: {roc_auc_score(y_test, logreg.predict_proba(X_test)[:,1])}\\n\\n'\n",
    "    f'Precision train_set for LogisticRegression: {precision_score(y_train, pred_logreg_train)}\\n'\n",
    "    f'Precision test_set for LogisticRegression: {precision_score(y_test, pred_logreg_test)}\\n\\n'\n",
    "    f'Recall train_set for LogisticRegression: {recall_score(y_train, pred_logreg_train)}\\n'\n",
    "    f'Recall test_set for LogisticRegression: {recall_score(y_test, pred_logreg_test)}\\n'\n",
    "    )\n",
    "print('Confusion_matrix test_set for LogisticRegression:')\n",
    "confusion_matrix(y_test, pred_logreg_test)"
   ]
  },
  {
   "cell_type": "code",
   "execution_count": 17,
   "id": "86c2a5dd",
   "metadata": {
    "ExecuteTime": {
     "end_time": "2024-04-04T17:45:10.463377Z",
     "start_time": "2024-04-04T17:30:43.405373Z"
    },
    "hidden": true,
    "scrolled": true
   },
   "outputs": [
    {
     "name": "stdout",
     "output_type": "stream",
     "text": [
      "REMOVED column: pre_loans6090\n",
      "ROC-AUC train_set: 0.7620177017802554\n",
      "ROC-AUC test_set: 0.7535343998442083\n",
      "\n",
      "REMOVED column: is_zero_loans530\n",
      "ROC-AUC train_set: 0.7607013792293509\n",
      "ROC-AUC test_set: 0.7523804897024695\n",
      "\n",
      "REMOVED column: enc_paym_11\n",
      "ROC-AUC train_set: 0.7616890459856377\n",
      "ROC-AUC test_set: 0.7530849104049169\n",
      "\n",
      "REMOVED column: is_zero_over2limit\n",
      "ROC-AUC train_set: 0.7618330274658296\n",
      "ROC-AUC test_set: 0.7533081959220463\n",
      "\n",
      "REMOVED column: rn\n",
      "ROC-AUC train_set: 0.7613660304071137\n",
      "ROC-AUC test_set: 0.7521526824390297\n",
      "\n",
      "REMOVED column: enc_paym_10\n",
      "ROC-AUC train_set: 0.7620641684322281\n",
      "ROC-AUC test_set: 0.7534172328461506\n",
      "\n",
      "REMOVED column: enc_paym_9\n",
      "ROC-AUC train_set: 0.7614079621941743\n",
      "ROC-AUC test_set: 0.753519250698439\n",
      "\n",
      "REMOVED column: pre_since_confirmed\n",
      "ROC-AUC train_set: 0.7609422991276364\n",
      "ROC-AUC test_set: 0.7534744915642045\n",
      "\n",
      "REMOVED column: pre_over2limit\n",
      "ROC-AUC train_set: 0.7616452187758518\n",
      "ROC-AUC test_set: 0.7529387342664889\n",
      "\n",
      "REMOVED column: pre_loans_outstanding\n",
      "ROC-AUC train_set: 0.7606038824171109\n",
      "ROC-AUC test_set: 0.7528917596061253\n",
      "\n",
      "REMOVED column: pre_loans90\n",
      "ROC-AUC train_set: 0.7617506446432687\n",
      "ROC-AUC test_set: 0.753000211877501\n",
      "\n",
      "REMOVED column: enc_paym_6\n",
      "ROC-AUC train_set: 0.7617377396353261\n",
      "ROC-AUC test_set: 0.7531831417805314\n",
      "\n",
      "REMOVED column: enc_paym_7\n",
      "ROC-AUC train_set: 0.7616909928247535\n",
      "ROC-AUC test_set: 0.7535146868441758\n",
      "\n",
      "REMOVED column: fclose_flag\n",
      "ROC-AUC train_set: 0.7612120142288561\n",
      "ROC-AUC test_set: 0.7530885381669997\n",
      "\n",
      "REMOVED column: enc_paym_3\n",
      "ROC-AUC train_set: 0.7616283696854207\n",
      "ROC-AUC test_set: 0.7529547385276064\n",
      "\n",
      "REMOVED column: pre_loans5\n",
      "ROC-AUC train_set: 0.7613276662900292\n",
      "ROC-AUC test_set: 0.7528456141485234\n",
      "\n",
      "REMOVED column: enc_paym_14\n",
      "ROC-AUC train_set: 0.7621957565380478\n",
      "ROC-AUC test_set: 0.7537421637221401\n",
      "\n",
      "REMOVED column: enc_paym_23\n",
      "ROC-AUC train_set: 0.7616660497013571\n",
      "ROC-AUC test_set: 0.7532839644147765\n",
      "\n",
      "REMOVED column: enc_paym_0\n",
      "ROC-AUC train_set: 0.7616084714410931\n",
      "ROC-AUC test_set: 0.7528440723496382\n",
      "\n",
      "REMOVED column: pre_till_fclose\n",
      "ROC-AUC train_set: 0.7616087491705724\n",
      "ROC-AUC test_set: 0.7534161121267927\n",
      "\n",
      "REMOVED column: pre_loans3060\n",
      "ROC-AUC train_set: 0.7615644867433081\n",
      "ROC-AUC test_set: 0.7530356149485422\n",
      "\n",
      "REMOVED column: is_zero_loans5\n",
      "ROC-AUC train_set: 0.761784630978587\n",
      "ROC-AUC test_set: 0.7533204104674165\n",
      "\n",
      "REMOVED column: enc_paym_15\n",
      "ROC-AUC train_set: 0.761222158439785\n",
      "ROC-AUC test_set: 0.7532519656097613\n",
      "\n",
      "REMOVED column: pre_fterm\n",
      "ROC-AUC train_set: 0.7615456201668311\n",
      "ROC-AUC test_set: 0.7532676103337438\n",
      "\n",
      "REMOVED column: enc_paym_16\n",
      "ROC-AUC train_set: 0.7620293530582203\n",
      "ROC-AUC test_set: 0.7538823022279587\n",
      "\n",
      "REMOVED column: enc_paym_4\n",
      "ROC-AUC train_set: 0.7613001923263891\n",
      "ROC-AUC test_set: 0.7532088535442939\n",
      "\n",
      "REMOVED column: pre_loans_credit_cost_rate\n",
      "ROC-AUC train_set: 0.7585989622130725\n",
      "ROC-AUC test_set: 0.7506241086900323\n",
      "\n",
      "REMOVED column: is_zero_loans6090\n",
      "ROC-AUC train_set: 0.7619587929690679\n",
      "ROC-AUC test_set: 0.7532436249960438\n",
      "\n",
      "REMOVED column: enc_paym_1\n",
      "ROC-AUC train_set: 0.7616887627906366\n",
      "ROC-AUC test_set: 0.7529449905365454\n",
      "\n",
      "REMOVED column: pre_maxover2limit\n",
      "ROC-AUC train_set: 0.7616272759737761\n",
      "ROC-AUC test_set: 0.7533417656776061\n",
      "\n",
      "REMOVED column: enc_paym_12\n",
      "ROC-AUC train_set: 0.7611553173345926\n",
      "ROC-AUC test_set: 0.7535803979239757\n",
      "\n",
      "REMOVED column: pre_util\n",
      "ROC-AUC train_set: 0.7566741055272884\n",
      "ROC-AUC test_set: 0.7441529358382111\n",
      "\n",
      "REMOVED column: pclose_flag\n",
      "ROC-AUC train_set: 0.7618508011403688\n",
      "ROC-AUC test_set: 0.7530536533476847\n",
      "\n",
      "REMOVED column: enc_paym_5\n",
      "ROC-AUC train_set: 0.7615286499239997\n",
      "ROC-AUC test_set: 0.7532443246358741\n",
      "\n",
      "REMOVED column: is_zero_loans90\n",
      "ROC-AUC train_set: 0.7608050723239235\n",
      "ROC-AUC test_set: 0.752997290233395\n",
      "\n",
      "REMOVED column: enc_paym_22\n",
      "ROC-AUC train_set: 0.7618305606936471\n",
      "ROC-AUC test_set: 0.7530561312387504\n",
      "\n",
      "REMOVED column: pre_since_opened\n",
      "ROC-AUC train_set: 0.759391149925571\n",
      "ROC-AUC test_set: 0.751356241283998\n",
      "\n",
      "REMOVED column: enc_paym_8\n",
      "ROC-AUC train_set: 0.7616318059804466\n",
      "ROC-AUC test_set: 0.753464763007583\n",
      "\n",
      "REMOVED column: enc_paym_24\n",
      "ROC-AUC train_set: 0.7614496332556011\n",
      "ROC-AUC test_set: 0.7534315884189642\n",
      "\n",
      "REMOVED column: enc_paym_19\n",
      "ROC-AUC train_set: 0.7621519024055063\n",
      "ROC-AUC test_set: 0.7534243814808976\n",
      "\n",
      "REMOVED column: pre_loans_next_pay_summ\n",
      "ROC-AUC train_set: 0.7612143917308488\n",
      "ROC-AUC test_set: 0.7529658517880587\n",
      "\n",
      "REMOVED column: pre_loans_total_overdue\n",
      "ROC-AUC train_set: 0.7621007916793987\n",
      "ROC-AUC test_set: 0.7530986635100989\n",
      "\n",
      "REMOVED column: pre_till_pclose\n",
      "ROC-AUC train_set: 0.7607556978119147\n",
      "ROC-AUC test_set: 0.7526999400664554\n",
      "\n",
      "REMOVED column: enc_paym_18\n",
      "ROC-AUC train_set: 0.7620562080009073\n",
      "ROC-AUC test_set: 0.7535051510124149\n",
      "\n",
      "REMOVED column: enc_paym_13\n",
      "ROC-AUC train_set: 0.7621991583193154\n",
      "ROC-AUC test_set: 0.7538285789583987\n",
      "\n",
      "REMOVED column: is_zero_loans3060\n",
      "ROC-AUC train_set: 0.7614001711940299\n",
      "ROC-AUC test_set: 0.7524846453431281\n",
      "\n",
      "REMOVED column: is_zero_maxover2limit\n",
      "ROC-AUC train_set: 0.7621757778290934\n",
      "ROC-AUC test_set: 0.7532863580899366\n",
      "\n",
      "REMOVED column: pre_loans_credit_limit\n",
      "ROC-AUC train_set: 0.7602848783291776\n",
      "ROC-AUC test_set: 0.7529910307242652\n",
      "\n",
      "REMOVED column: pre_loans_max_overdue_sum\n",
      "ROC-AUC train_set: 0.7609259940590535\n",
      "ROC-AUC test_set: 0.7529539255202112\n",
      "\n",
      "REMOVED column: enc_paym_2\n",
      "ROC-AUC train_set: 0.7616994309831668\n",
      "ROC-AUC test_set: 0.7528028405662146\n",
      "\n",
      "REMOVED column: enc_paym_20\n",
      "ROC-AUC train_set: 0.7617733316194996\n",
      "ROC-AUC test_set: 0.7529638597579863\n",
      "\n",
      "REMOVED column: enc_loans_credit_status\n",
      "ROC-AUC train_set: 0.7606731726833598\n",
      "ROC-AUC test_set: 0.7526071114650856\n",
      "\n",
      "REMOVED column: enc_loans_credit_type\n",
      "ROC-AUC train_set: 0.7603045268801287\n",
      "ROC-AUC test_set: 0.7520927741590256\n",
      "\n",
      "REMOVED column: is_zero_util\n",
      "ROC-AUC train_set: 0.7622596275369832\n",
      "ROC-AUC test_set: 0.7535224006972119\n",
      "\n",
      "REMOVED column: enc_paym_17\n",
      "ROC-AUC train_set: 0.76199043145791\n",
      "ROC-AUC test_set: 0.7536569080741187\n",
      "\n",
      "REMOVED column: enc_paym_21\n",
      "ROC-AUC train_set: 0.7617493602456404\n",
      "ROC-AUC test_set: 0.7533312775582987\n",
      "\n",
      "REMOVED column: enc_loans_account_holder_type\n",
      "ROC-AUC train_set: 0.761752782978075\n",
      "ROC-AUC test_set: 0.7531352844726966\n",
      "\n",
      "REMOVED column: enc_loans_account_cur\n",
      "ROC-AUC train_set: 0.7622915576215357\n",
      "ROC-AUC test_set: 0.753540048788023\n",
      "\n",
      "REMOVED column: pre_pterm\n",
      "ROC-AUC train_set: 0.7610177913441665\n",
      "ROC-AUC test_set: 0.7524767047549619\n",
      "\n",
      "REMOVED column: pre_loans530\n",
      "ROC-AUC train_set: 0.7618375450232557\n",
      "ROC-AUC test_set: 0.7532129509720036\n",
      "\n"
     ]
    }
   ],
   "source": [
    "# Features selection\n",
    "list_columns = list(set(['_'.join(col.split('_')[:-1]) for col in x_train.columns])) # get columns list before OHE\n",
    "\n",
    "for col in list_columns:\n",
    "    new_list_columns = [i for i in x_train.columns if col+'_' not in i] # remove all columns based on initial column\n",
    "    X_train_short = X_train[new_list_columns]\n",
    "    X_test_short = X_test[new_list_columns]\n",
    "    \n",
    "    logreg = LogisticRegression(class_weight='balanced', random_state=42)\n",
    "    logreg.fit(X_train_short, y_train)\n",
    "    \n",
    "    print(\n",
    "        f'REMOVED column: {col}\\n'\n",
    "        f'ROC-AUC train_set: {roc_auc_score(y_train, logreg.predict_proba(X_train_short)[:,1])}\\n'\n",
    "        f'ROC-AUC test_set: {roc_auc_score(y_test, logreg.predict_proba(X_test_short)[:,1])}\\n'\n",
    "    )"
   ]
  },
  {
   "cell_type": "markdown",
   "id": "d87df7b1",
   "metadata": {
    "heading_collapsed": true
   },
   "source": [
    "## 1.3. Full Dataset Preparation"
   ]
  },
  {
   "cell_type": "markdown",
   "id": "cfe4dbcc",
   "metadata": {
    "hidden": true
   },
   "source": [
    "**Done:**\\\n",
    "**1) Loading the full dataset.**\\\n",
    "**2) Checking for missing values - no missing values.**\\\n",
    "**3) Encoding categorical attributes using OneHotEncoder.**\\\n",
    "**4) Merging with the target variable.**"
   ]
  },
  {
   "cell_type": "code",
   "execution_count": 18,
   "id": "d0a27462",
   "metadata": {
    "ExecuteTime": {
     "end_time": "2024-04-04T17:45:47.505520Z",
     "start_time": "2024-04-04T17:45:10.464367Z"
    },
    "hidden": true
   },
   "outputs": [
    {
     "data": {
      "application/vnd.jupyter.widget-view+json": {
       "model_id": "bf840b5deb7f426f923216593c1634bc",
       "version_major": 2,
       "version_minor": 0
      },
      "text/plain": [
       "Transforming transactions data:   0%|          | 0/1 [00:00<?, ?it/s]"
      ]
     },
     "metadata": {},
     "output_type": "display_data"
    },
    {
     "name": "stdout",
     "output_type": "stream",
     "text": [
      "['C:/Users/user/Desktop/Data_Science/Homework/Core_courses/Junior_courses/FInal_project/train_data\\\\train_data_0.pq', 'C:/Users/user/Desktop/Data_Science/Homework/Core_courses/Junior_courses/FInal_project/train_data\\\\train_data_1.pq', 'C:/Users/user/Desktop/Data_Science/Homework/Core_courses/Junior_courses/FInal_project/train_data\\\\train_data_10.pq', 'C:/Users/user/Desktop/Data_Science/Homework/Core_courses/Junior_courses/FInal_project/train_data\\\\train_data_11.pq', 'C:/Users/user/Desktop/Data_Science/Homework/Core_courses/Junior_courses/FInal_project/train_data\\\\train_data_2.pq', 'C:/Users/user/Desktop/Data_Science/Homework/Core_courses/Junior_courses/FInal_project/train_data\\\\train_data_3.pq', 'C:/Users/user/Desktop/Data_Science/Homework/Core_courses/Junior_courses/FInal_project/train_data\\\\train_data_4.pq', 'C:/Users/user/Desktop/Data_Science/Homework/Core_courses/Junior_courses/FInal_project/train_data\\\\train_data_5.pq', 'C:/Users/user/Desktop/Data_Science/Homework/Core_courses/Junior_courses/FInal_project/train_data\\\\train_data_6.pq', 'C:/Users/user/Desktop/Data_Science/Homework/Core_courses/Junior_courses/FInal_project/train_data\\\\train_data_7.pq', 'C:/Users/user/Desktop/Data_Science/Homework/Core_courses/Junior_courses/FInal_project/train_data\\\\train_data_8.pq', 'C:/Users/user/Desktop/Data_Science/Homework/Core_courses/Junior_courses/FInal_project/train_data\\\\train_data_9.pq']\n"
     ]
    },
    {
     "data": {
      "application/vnd.jupyter.widget-view+json": {
       "model_id": "bc2d837dea464556816076326cb7b5eb",
       "version_major": 2,
       "version_minor": 0
      },
      "text/plain": [
       "Reading dataset with pandas:   0%|          | 0/12 [00:00<?, ?it/s]"
      ]
     },
     "metadata": {},
     "output_type": "display_data"
    },
    {
     "name": "stdout",
     "output_type": "stream",
     "text": [
      "chunk_path C:/Users/user/Desktop/Data_Science/Homework/Core_courses/Junior_courses/FInal_project/train_data\\train_data_0.pq\n",
      "chunk_path C:/Users/user/Desktop/Data_Science/Homework/Core_courses/Junior_courses/FInal_project/train_data\\train_data_1.pq\n",
      "chunk_path C:/Users/user/Desktop/Data_Science/Homework/Core_courses/Junior_courses/FInal_project/train_data\\train_data_10.pq\n",
      "chunk_path C:/Users/user/Desktop/Data_Science/Homework/Core_courses/Junior_courses/FInal_project/train_data\\train_data_11.pq\n",
      "chunk_path C:/Users/user/Desktop/Data_Science/Homework/Core_courses/Junior_courses/FInal_project/train_data\\train_data_2.pq\n",
      "chunk_path C:/Users/user/Desktop/Data_Science/Homework/Core_courses/Junior_courses/FInal_project/train_data\\train_data_3.pq\n",
      "chunk_path C:/Users/user/Desktop/Data_Science/Homework/Core_courses/Junior_courses/FInal_project/train_data\\train_data_4.pq\n",
      "chunk_path C:/Users/user/Desktop/Data_Science/Homework/Core_courses/Junior_courses/FInal_project/train_data\\train_data_5.pq\n",
      "chunk_path C:/Users/user/Desktop/Data_Science/Homework/Core_courses/Junior_courses/FInal_project/train_data\\train_data_6.pq\n",
      "chunk_path C:/Users/user/Desktop/Data_Science/Homework/Core_courses/Junior_courses/FInal_project/train_data\\train_data_7.pq\n",
      "chunk_path C:/Users/user/Desktop/Data_Science/Homework/Core_courses/Junior_courses/FInal_project/train_data\\train_data_8.pq\n",
      "chunk_path C:/Users/user/Desktop/Data_Science/Homework/Core_courses/Junior_courses/FInal_project/train_data\\train_data_9.pq\n",
      "Shape: (26162717, 61)\n"
     ]
    },
    {
     "data": {
      "text/html": [
       "<div>\n",
       "<style scoped>\n",
       "    .dataframe tbody tr th:only-of-type {\n",
       "        vertical-align: middle;\n",
       "    }\n",
       "\n",
       "    .dataframe tbody tr th {\n",
       "        vertical-align: top;\n",
       "    }\n",
       "\n",
       "    .dataframe thead th {\n",
       "        text-align: right;\n",
       "    }\n",
       "</style>\n",
       "<table border=\"1\" class=\"dataframe\">\n",
       "  <thead>\n",
       "    <tr style=\"text-align: right;\">\n",
       "      <th></th>\n",
       "      <th>id</th>\n",
       "      <th>rn</th>\n",
       "      <th>pre_since_opened</th>\n",
       "      <th>pre_since_confirmed</th>\n",
       "      <th>pre_pterm</th>\n",
       "      <th>pre_fterm</th>\n",
       "      <th>pre_till_pclose</th>\n",
       "      <th>pre_till_fclose</th>\n",
       "      <th>pre_loans_credit_limit</th>\n",
       "      <th>pre_loans_next_pay_summ</th>\n",
       "      <th>...</th>\n",
       "      <th>enc_paym_21</th>\n",
       "      <th>enc_paym_22</th>\n",
       "      <th>enc_paym_23</th>\n",
       "      <th>enc_paym_24</th>\n",
       "      <th>enc_loans_account_holder_type</th>\n",
       "      <th>enc_loans_credit_status</th>\n",
       "      <th>enc_loans_credit_type</th>\n",
       "      <th>enc_loans_account_cur</th>\n",
       "      <th>pclose_flag</th>\n",
       "      <th>fclose_flag</th>\n",
       "    </tr>\n",
       "  </thead>\n",
       "  <tbody>\n",
       "    <tr>\n",
       "      <th>0</th>\n",
       "      <td>0</td>\n",
       "      <td>1</td>\n",
       "      <td>18</td>\n",
       "      <td>9</td>\n",
       "      <td>2</td>\n",
       "      <td>3</td>\n",
       "      <td>16</td>\n",
       "      <td>10</td>\n",
       "      <td>11</td>\n",
       "      <td>3</td>\n",
       "      <td>...</td>\n",
       "      <td>3</td>\n",
       "      <td>3</td>\n",
       "      <td>3</td>\n",
       "      <td>4</td>\n",
       "      <td>1</td>\n",
       "      <td>3</td>\n",
       "      <td>4</td>\n",
       "      <td>1</td>\n",
       "      <td>0</td>\n",
       "      <td>0</td>\n",
       "    </tr>\n",
       "    <tr>\n",
       "      <th>1</th>\n",
       "      <td>0</td>\n",
       "      <td>2</td>\n",
       "      <td>18</td>\n",
       "      <td>9</td>\n",
       "      <td>14</td>\n",
       "      <td>14</td>\n",
       "      <td>12</td>\n",
       "      <td>12</td>\n",
       "      <td>0</td>\n",
       "      <td>3</td>\n",
       "      <td>...</td>\n",
       "      <td>0</td>\n",
       "      <td>0</td>\n",
       "      <td>0</td>\n",
       "      <td>4</td>\n",
       "      <td>1</td>\n",
       "      <td>3</td>\n",
       "      <td>4</td>\n",
       "      <td>1</td>\n",
       "      <td>0</td>\n",
       "      <td>0</td>\n",
       "    </tr>\n",
       "    <tr>\n",
       "      <th>2</th>\n",
       "      <td>0</td>\n",
       "      <td>3</td>\n",
       "      <td>18</td>\n",
       "      <td>9</td>\n",
       "      <td>4</td>\n",
       "      <td>8</td>\n",
       "      <td>1</td>\n",
       "      <td>11</td>\n",
       "      <td>11</td>\n",
       "      <td>0</td>\n",
       "      <td>...</td>\n",
       "      <td>0</td>\n",
       "      <td>0</td>\n",
       "      <td>0</td>\n",
       "      <td>4</td>\n",
       "      <td>1</td>\n",
       "      <td>2</td>\n",
       "      <td>3</td>\n",
       "      <td>1</td>\n",
       "      <td>1</td>\n",
       "      <td>1</td>\n",
       "    </tr>\n",
       "    <tr>\n",
       "      <th>3</th>\n",
       "      <td>0</td>\n",
       "      <td>4</td>\n",
       "      <td>4</td>\n",
       "      <td>1</td>\n",
       "      <td>9</td>\n",
       "      <td>12</td>\n",
       "      <td>16</td>\n",
       "      <td>7</td>\n",
       "      <td>12</td>\n",
       "      <td>2</td>\n",
       "      <td>...</td>\n",
       "      <td>3</td>\n",
       "      <td>3</td>\n",
       "      <td>3</td>\n",
       "      <td>4</td>\n",
       "      <td>1</td>\n",
       "      <td>3</td>\n",
       "      <td>1</td>\n",
       "      <td>1</td>\n",
       "      <td>0</td>\n",
       "      <td>0</td>\n",
       "    </tr>\n",
       "    <tr>\n",
       "      <th>4</th>\n",
       "      <td>0</td>\n",
       "      <td>5</td>\n",
       "      <td>5</td>\n",
       "      <td>12</td>\n",
       "      <td>15</td>\n",
       "      <td>2</td>\n",
       "      <td>11</td>\n",
       "      <td>12</td>\n",
       "      <td>10</td>\n",
       "      <td>2</td>\n",
       "      <td>...</td>\n",
       "      <td>3</td>\n",
       "      <td>3</td>\n",
       "      <td>3</td>\n",
       "      <td>4</td>\n",
       "      <td>1</td>\n",
       "      <td>3</td>\n",
       "      <td>4</td>\n",
       "      <td>1</td>\n",
       "      <td>0</td>\n",
       "      <td>0</td>\n",
       "    </tr>\n",
       "  </tbody>\n",
       "</table>\n",
       "<p>5 rows × 61 columns</p>\n",
       "</div>"
      ],
      "text/plain": [
       "   id  rn  pre_since_opened  pre_since_confirmed  pre_pterm  pre_fterm  \\\n",
       "0   0   1                18                    9          2          3   \n",
       "1   0   2                18                    9         14         14   \n",
       "2   0   3                18                    9          4          8   \n",
       "3   0   4                 4                    1          9         12   \n",
       "4   0   5                 5                   12         15          2   \n",
       "\n",
       "   pre_till_pclose  pre_till_fclose  pre_loans_credit_limit  \\\n",
       "0               16               10                      11   \n",
       "1               12               12                       0   \n",
       "2                1               11                      11   \n",
       "3               16                7                      12   \n",
       "4               11               12                      10   \n",
       "\n",
       "   pre_loans_next_pay_summ  ...  enc_paym_21  enc_paym_22  enc_paym_23  \\\n",
       "0                        3  ...            3            3            3   \n",
       "1                        3  ...            0            0            0   \n",
       "2                        0  ...            0            0            0   \n",
       "3                        2  ...            3            3            3   \n",
       "4                        2  ...            3            3            3   \n",
       "\n",
       "   enc_paym_24  enc_loans_account_holder_type  enc_loans_credit_status  \\\n",
       "0            4                              1                        3   \n",
       "1            4                              1                        3   \n",
       "2            4                              1                        2   \n",
       "3            4                              1                        3   \n",
       "4            4                              1                        3   \n",
       "\n",
       "   enc_loans_credit_type  enc_loans_account_cur  pclose_flag  fclose_flag  \n",
       "0                      4                      1            0            0  \n",
       "1                      4                      1            0            0  \n",
       "2                      3                      1            1            1  \n",
       "3                      1                      1            0            0  \n",
       "4                      4                      1            0            0  \n",
       "\n",
       "[5 rows x 61 columns]"
      ]
     },
     "execution_count": 18,
     "metadata": {},
     "output_type": "execute_result"
    }
   ],
   "source": [
    "# loading the full dataset\n",
    "path = './data/train_data'\n",
    "df_full = prepare_transactions_dataset(path, num_parts_to_preprocess_at_once=12, num_parts_total=12)\n",
    "\n",
    "print('Shape:', df_full.shape)\n",
    "df_full.head()"
   ]
  },
  {
   "cell_type": "code",
   "execution_count": 19,
   "id": "a2b9c6b1",
   "metadata": {
    "ExecuteTime": {
     "end_time": "2024-04-04T17:45:49.371132Z",
     "start_time": "2024-04-04T17:45:47.510505Z"
    },
    "hidden": true
   },
   "outputs": [
    {
     "data": {
      "text/plain": [
       "id                    0.0\n",
       "enc_paym_1            0.0\n",
       "enc_paym_3            0.0\n",
       "enc_paym_4            0.0\n",
       "enc_paym_5            0.0\n",
       "                     ... \n",
       "pre_over2limit        0.0\n",
       "pre_maxover2limit     0.0\n",
       "is_zero_util          0.0\n",
       "is_zero_over2limit    0.0\n",
       "fclose_flag           0.0\n",
       "Length: 61, dtype: float64"
      ]
     },
     "execution_count": 19,
     "metadata": {},
     "output_type": "execute_result"
    }
   ],
   "source": [
    "# checking missed values\n",
    "missing_values = (df_full.isna().sum() / len(df_full) * 100).sort_values(ascending=False)\n",
    "missing_values"
   ]
  },
  {
   "cell_type": "code",
   "execution_count": 20,
   "id": "688f403f",
   "metadata": {
    "ExecuteTime": {
     "end_time": "2024-04-04T17:48:49.623297Z",
     "start_time": "2024-04-04T17:45:49.373100Z"
    },
    "hidden": true
   },
   "outputs": [],
   "source": [
    "# saving the initial dataset\n",
    "df_full.to_csv('./data/initial_data.csv', index=False)"
   ]
  },
  {
   "cell_type": "markdown",
   "id": "03ce7dae",
   "metadata": {
    "heading_collapsed": true,
    "hidden": true
   },
   "source": [
    "### 1.3.1. Data Encoding"
   ]
  },
  {
   "cell_type": "code",
   "execution_count": 21,
   "id": "6cf1fb43",
   "metadata": {
    "ExecuteTime": {
     "end_time": "2024-04-04T17:58:34.108719Z",
     "start_time": "2024-04-04T17:48:49.626242Z"
    },
    "hidden": true
   },
   "outputs": [],
   "source": [
    "# saving the initial dataset in split form by 2 columns + id column\n",
    "path_folder = './data/data_columns'\n",
    "columns = df_full.columns[1:]\n",
    "\n",
    "for i in range(0, len(columns), 2):\n",
    "    df_full[['id', columns[i], columns[i+1]]].to_csv(f'{path_folder}/id_columns_{i+1}-{i+2}.csv', index=False)"
   ]
  },
  {
   "cell_type": "code",
   "execution_count": 22,
   "id": "f11658e2",
   "metadata": {
    "ExecuteTime": {
     "end_time": "2024-04-04T18:20:49.010643Z",
     "start_time": "2024-04-04T18:00:46.950864Z"
    },
    "hidden": true
   },
   "outputs": [],
   "source": [
    "# reading splited datasets and encoding them with OHE encoder, then agregate and save splited prepared datasets\n",
    "path_folder = './data/data_columns'\n",
    "\n",
    "for i in range(1, 60, 2):\n",
    "    df = pd.read_csv(f'{path_folder}/id_columns_{i}-{i+1}.csv')\n",
    "    \n",
    "    ohe = OneHotEncoder(sparse_output=False, handle_unknown='ignore')\n",
    "    df_new = pd.concat(\n",
    "            [df['id'], pd.DataFrame(ohe.fit_transform(df[df.columns[1:]]), columns=ohe.get_feature_names_out())], axis=1\n",
    "    )\n",
    "    \n",
    "    df_new = df_new.groupby('id')[df_new.columns[1:]].sum()\n",
    "    df_new.to_csv(f'{path_folder}/id_columns_{i}-{i+1}_prepared.csv')"
   ]
  },
  {
   "cell_type": "code",
   "execution_count": 24,
   "id": "ba6292df",
   "metadata": {
    "ExecuteTime": {
     "end_time": "2024-04-04T18:24:54.208032Z",
     "start_time": "2024-04-04T18:20:49.860276Z"
    },
    "hidden": true
   },
   "outputs": [
    {
     "name": "stdout",
     "output_type": "stream",
     "text": [
      "Shape (3000000, 478)\n"
     ]
    },
    {
     "data": {
      "text/html": [
       "<div>\n",
       "<style scoped>\n",
       "    .dataframe tbody tr th:only-of-type {\n",
       "        vertical-align: middle;\n",
       "    }\n",
       "\n",
       "    .dataframe tbody tr th {\n",
       "        vertical-align: top;\n",
       "    }\n",
       "\n",
       "    .dataframe thead th {\n",
       "        text-align: right;\n",
       "    }\n",
       "</style>\n",
       "<table border=\"1\" class=\"dataframe\">\n",
       "  <thead>\n",
       "    <tr style=\"text-align: right;\">\n",
       "      <th></th>\n",
       "      <th>id</th>\n",
       "      <th>rn_1</th>\n",
       "      <th>rn_2</th>\n",
       "      <th>rn_3</th>\n",
       "      <th>rn_4</th>\n",
       "      <th>rn_5</th>\n",
       "      <th>rn_6</th>\n",
       "      <th>rn_7</th>\n",
       "      <th>rn_8</th>\n",
       "      <th>rn_9</th>\n",
       "      <th>...</th>\n",
       "      <th>enc_loans_credit_type_6</th>\n",
       "      <th>enc_loans_credit_type_7</th>\n",
       "      <th>enc_loans_account_cur_0</th>\n",
       "      <th>enc_loans_account_cur_1</th>\n",
       "      <th>enc_loans_account_cur_2</th>\n",
       "      <th>enc_loans_account_cur_3</th>\n",
       "      <th>pclose_flag_0</th>\n",
       "      <th>pclose_flag_1</th>\n",
       "      <th>fclose_flag_0</th>\n",
       "      <th>fclose_flag_1</th>\n",
       "    </tr>\n",
       "  </thead>\n",
       "  <tbody>\n",
       "    <tr>\n",
       "      <th>0</th>\n",
       "      <td>0</td>\n",
       "      <td>1.0</td>\n",
       "      <td>1.0</td>\n",
       "      <td>1.0</td>\n",
       "      <td>1.0</td>\n",
       "      <td>1.0</td>\n",
       "      <td>1.0</td>\n",
       "      <td>1.0</td>\n",
       "      <td>1.0</td>\n",
       "      <td>1.0</td>\n",
       "      <td>...</td>\n",
       "      <td>0.0</td>\n",
       "      <td>0.0</td>\n",
       "      <td>0.0</td>\n",
       "      <td>10.0</td>\n",
       "      <td>0.0</td>\n",
       "      <td>0.0</td>\n",
       "      <td>9.0</td>\n",
       "      <td>1.0</td>\n",
       "      <td>8.0</td>\n",
       "      <td>2.0</td>\n",
       "    </tr>\n",
       "    <tr>\n",
       "      <th>1</th>\n",
       "      <td>1</td>\n",
       "      <td>1.0</td>\n",
       "      <td>1.0</td>\n",
       "      <td>1.0</td>\n",
       "      <td>1.0</td>\n",
       "      <td>1.0</td>\n",
       "      <td>1.0</td>\n",
       "      <td>1.0</td>\n",
       "      <td>1.0</td>\n",
       "      <td>1.0</td>\n",
       "      <td>...</td>\n",
       "      <td>0.0</td>\n",
       "      <td>0.0</td>\n",
       "      <td>0.0</td>\n",
       "      <td>14.0</td>\n",
       "      <td>0.0</td>\n",
       "      <td>0.0</td>\n",
       "      <td>13.0</td>\n",
       "      <td>1.0</td>\n",
       "      <td>12.0</td>\n",
       "      <td>2.0</td>\n",
       "    </tr>\n",
       "    <tr>\n",
       "      <th>2</th>\n",
       "      <td>2</td>\n",
       "      <td>1.0</td>\n",
       "      <td>1.0</td>\n",
       "      <td>1.0</td>\n",
       "      <td>0.0</td>\n",
       "      <td>0.0</td>\n",
       "      <td>0.0</td>\n",
       "      <td>0.0</td>\n",
       "      <td>0.0</td>\n",
       "      <td>0.0</td>\n",
       "      <td>...</td>\n",
       "      <td>0.0</td>\n",
       "      <td>0.0</td>\n",
       "      <td>0.0</td>\n",
       "      <td>3.0</td>\n",
       "      <td>0.0</td>\n",
       "      <td>0.0</td>\n",
       "      <td>1.0</td>\n",
       "      <td>2.0</td>\n",
       "      <td>1.0</td>\n",
       "      <td>2.0</td>\n",
       "    </tr>\n",
       "    <tr>\n",
       "      <th>3</th>\n",
       "      <td>3</td>\n",
       "      <td>1.0</td>\n",
       "      <td>1.0</td>\n",
       "      <td>1.0</td>\n",
       "      <td>1.0</td>\n",
       "      <td>1.0</td>\n",
       "      <td>1.0</td>\n",
       "      <td>1.0</td>\n",
       "      <td>1.0</td>\n",
       "      <td>1.0</td>\n",
       "      <td>...</td>\n",
       "      <td>0.0</td>\n",
       "      <td>0.0</td>\n",
       "      <td>0.0</td>\n",
       "      <td>15.0</td>\n",
       "      <td>0.0</td>\n",
       "      <td>0.0</td>\n",
       "      <td>10.0</td>\n",
       "      <td>5.0</td>\n",
       "      <td>9.0</td>\n",
       "      <td>6.0</td>\n",
       "    </tr>\n",
       "    <tr>\n",
       "      <th>4</th>\n",
       "      <td>4</td>\n",
       "      <td>1.0</td>\n",
       "      <td>0.0</td>\n",
       "      <td>0.0</td>\n",
       "      <td>0.0</td>\n",
       "      <td>0.0</td>\n",
       "      <td>0.0</td>\n",
       "      <td>0.0</td>\n",
       "      <td>0.0</td>\n",
       "      <td>0.0</td>\n",
       "      <td>...</td>\n",
       "      <td>0.0</td>\n",
       "      <td>0.0</td>\n",
       "      <td>0.0</td>\n",
       "      <td>1.0</td>\n",
       "      <td>0.0</td>\n",
       "      <td>0.0</td>\n",
       "      <td>0.0</td>\n",
       "      <td>1.0</td>\n",
       "      <td>0.0</td>\n",
       "      <td>1.0</td>\n",
       "    </tr>\n",
       "  </tbody>\n",
       "</table>\n",
       "<p>5 rows × 478 columns</p>\n",
       "</div>"
      ],
      "text/plain": [
       "   id  rn_1  rn_2  rn_3  rn_4  rn_5  rn_6  rn_7  rn_8  rn_9  ...  \\\n",
       "0   0   1.0   1.0   1.0   1.0   1.0   1.0   1.0   1.0   1.0  ...   \n",
       "1   1   1.0   1.0   1.0   1.0   1.0   1.0   1.0   1.0   1.0  ...   \n",
       "2   2   1.0   1.0   1.0   0.0   0.0   0.0   0.0   0.0   0.0  ...   \n",
       "3   3   1.0   1.0   1.0   1.0   1.0   1.0   1.0   1.0   1.0  ...   \n",
       "4   4   1.0   0.0   0.0   0.0   0.0   0.0   0.0   0.0   0.0  ...   \n",
       "\n",
       "   enc_loans_credit_type_6  enc_loans_credit_type_7  enc_loans_account_cur_0  \\\n",
       "0                      0.0                      0.0                      0.0   \n",
       "1                      0.0                      0.0                      0.0   \n",
       "2                      0.0                      0.0                      0.0   \n",
       "3                      0.0                      0.0                      0.0   \n",
       "4                      0.0                      0.0                      0.0   \n",
       "\n",
       "   enc_loans_account_cur_1  enc_loans_account_cur_2  enc_loans_account_cur_3  \\\n",
       "0                     10.0                      0.0                      0.0   \n",
       "1                     14.0                      0.0                      0.0   \n",
       "2                      3.0                      0.0                      0.0   \n",
       "3                     15.0                      0.0                      0.0   \n",
       "4                      1.0                      0.0                      0.0   \n",
       "\n",
       "   pclose_flag_0  pclose_flag_1  fclose_flag_0  fclose_flag_1  \n",
       "0            9.0            1.0            8.0            2.0  \n",
       "1           13.0            1.0           12.0            2.0  \n",
       "2            1.0            2.0            1.0            2.0  \n",
       "3           10.0            5.0            9.0            6.0  \n",
       "4            0.0            1.0            0.0            1.0  \n",
       "\n",
       "[5 rows x 478 columns]"
      ]
     },
     "execution_count": 24,
     "metadata": {},
     "output_type": "execute_result"
    }
   ],
   "source": [
    "# merging splited prepared datasets\n",
    "path_folder = './data/data_columns'\n",
    "df_full = pd.read_csv(f'{path_folder}/id_columns_{1}-{1+1}_prepared.csv')\n",
    "\n",
    "for i in range(3, 60, 2):\n",
    "    df = pd.read_csv(f'{path_folder}/id_columns_{i}-{i+1}_prepared.csv')\n",
    "    df_full = pd.merge(left=df_full, right=df, on='id', how='inner')\n",
    "    \n",
    "print('Shape', df_full.shape)\n",
    "df_full.head()"
   ]
  },
  {
   "cell_type": "markdown",
   "id": "2cdf6c9f",
   "metadata": {
    "heading_collapsed": true,
    "hidden": true
   },
   "source": [
    "### 1.3.2. Merge with Target"
   ]
  },
  {
   "cell_type": "code",
   "execution_count": 25,
   "id": "42b542b0",
   "metadata": {
    "ExecuteTime": {
     "end_time": "2024-04-04T18:24:54.593968Z",
     "start_time": "2024-04-04T18:24:54.209994Z"
    },
    "hidden": true
   },
   "outputs": [
    {
     "data": {
      "text/html": [
       "<div>\n",
       "<style scoped>\n",
       "    .dataframe tbody tr th:only-of-type {\n",
       "        vertical-align: middle;\n",
       "    }\n",
       "\n",
       "    .dataframe tbody tr th {\n",
       "        vertical-align: top;\n",
       "    }\n",
       "\n",
       "    .dataframe thead th {\n",
       "        text-align: right;\n",
       "    }\n",
       "</style>\n",
       "<table border=\"1\" class=\"dataframe\">\n",
       "  <thead>\n",
       "    <tr style=\"text-align: right;\">\n",
       "      <th></th>\n",
       "      <th>id</th>\n",
       "      <th>flag</th>\n",
       "    </tr>\n",
       "  </thead>\n",
       "  <tbody>\n",
       "    <tr>\n",
       "      <th>0</th>\n",
       "      <td>0</td>\n",
       "      <td>0</td>\n",
       "    </tr>\n",
       "    <tr>\n",
       "      <th>1</th>\n",
       "      <td>1</td>\n",
       "      <td>0</td>\n",
       "    </tr>\n",
       "    <tr>\n",
       "      <th>2</th>\n",
       "      <td>2</td>\n",
       "      <td>0</td>\n",
       "    </tr>\n",
       "    <tr>\n",
       "      <th>3</th>\n",
       "      <td>3</td>\n",
       "      <td>0</td>\n",
       "    </tr>\n",
       "    <tr>\n",
       "      <th>4</th>\n",
       "      <td>4</td>\n",
       "      <td>0</td>\n",
       "    </tr>\n",
       "  </tbody>\n",
       "</table>\n",
       "</div>"
      ],
      "text/plain": [
       "   id  flag\n",
       "0   0     0\n",
       "1   1     0\n",
       "2   2     0\n",
       "3   3     0\n",
       "4   4     0"
      ]
     },
     "execution_count": 25,
     "metadata": {},
     "output_type": "execute_result"
    }
   ],
   "source": [
    "# reading the target dataset\n",
    "df_target = pd.read_csv('./data/train_target.csv')\n",
    "df_target.head()"
   ]
  },
  {
   "cell_type": "code",
   "execution_count": 26,
   "id": "c1a24d6e",
   "metadata": {
    "ExecuteTime": {
     "end_time": "2024-04-04T18:25:00.606986Z",
     "start_time": "2024-04-04T18:24:54.594964Z"
    },
    "hidden": true
   },
   "outputs": [
    {
     "data": {
      "text/plain": [
       "(3000000, 479)"
      ]
     },
     "execution_count": 26,
     "metadata": {},
     "output_type": "execute_result"
    }
   ],
   "source": [
    "# merging the prepared dataset with target\n",
    "df_full = pd.merge(left=df_full, right=df_target, on='id', how='inner')\n",
    "df_full.shape"
   ]
  },
  {
   "cell_type": "code",
   "execution_count": 27,
   "id": "720af4e1",
   "metadata": {
    "ExecuteTime": {
     "end_time": "2024-04-04T18:34:14.049556Z",
     "start_time": "2024-04-04T18:25:00.607984Z"
    },
    "hidden": true
   },
   "outputs": [],
   "source": [
    "# saving the final dataset\n",
    "df_full.to_csv('./data/prepared_data.csv', index=False)"
   ]
  },
  {
   "cell_type": "markdown",
   "id": "39303b8f",
   "metadata": {},
   "source": [
    "# 2. Modeling"
   ]
  },
  {
   "cell_type": "markdown",
   "id": "b4aa51a3",
   "metadata": {},
   "source": [
    "**Done:**\\\n",
    "**1) The dataset was divided into training and testing 80/20, respectively.**\\\n",
    "**2) Standardization of numerical features using the MinMaxScale method.**\\\n",
    "**3) Based on the analysis of the initial data, four models were selected: RandomForestClassifier, GradientBoostingClassifier, MLPClassifier, and CatBoostClassifier.**\\\n",
    "**4) Selection of hyperparameters on a reduced dataset for each model.**\\\n",
    "**5) Models with the best hyperparameters were trained on the full training dataset.**"
   ]
  },
  {
   "cell_type": "code",
   "execution_count": 28,
   "id": "9d503444",
   "metadata": {
    "ExecuteTime": {
     "end_time": "2024-04-13T13:11:07.044627Z",
     "start_time": "2024-04-13T13:10:46.733263Z"
    }
   },
   "outputs": [
    {
     "name": "stdout",
     "output_type": "stream",
     "text": [
      "Shape of the train dataset: (2400000, 479)\n",
      "Shape of the test dataset: (600000, 479)\n"
     ]
    }
   ],
   "source": [
    "df_train, df_test = train_test_split(df_full, stratify=df_full['flag'], test_size=.2, random_state=42)\n",
    "\n",
    "print('Shape of the train dataset:', df_train.shape)\n",
    "print('Shape of the test dataset:', df_test.shape)"
   ]
  },
  {
   "cell_type": "code",
   "execution_count": 29,
   "id": "7cb31a6d",
   "metadata": {
    "ExecuteTime": {
     "end_time": "2024-04-09T17:26:15.861660Z",
     "start_time": "2024-04-09T17:26:00.793145Z"
    }
   },
   "outputs": [],
   "source": [
    "y_train = df_train['flag']\n",
    "X_train = df_train.drop(columns=['flag', 'id'])\n",
    "\n",
    "y_test = df_test['flag']\n",
    "X_test = df_test.drop(columns=['flag', 'id'])"
   ]
  },
  {
   "cell_type": "code",
   "execution_count": 31,
   "id": "cc7db20a",
   "metadata": {
    "ExecuteTime": {
     "end_time": "2024-04-09T17:28:16.076277Z",
     "start_time": "2024-04-09T17:27:47.273647Z"
    }
   },
   "outputs": [],
   "source": [
    "mm_scaler = MinMaxScaler()\n",
    "columns = X_train.columns\n",
    "\n",
    "X_train[columns] = mm_scaler.fit_transform(X_train[columns])\n",
    "X_test[columns] = mm_scaler.transform(X_test[columns])"
   ]
  },
  {
   "cell_type": "markdown",
   "id": "4130d553",
   "metadata": {
    "heading_collapsed": true
   },
   "source": [
    "## 2.1. Random Forest Classifier"
   ]
  },
  {
   "cell_type": "code",
   "execution_count": 33,
   "id": "b74e6cbf",
   "metadata": {
    "ExecuteTime": {
     "end_time": "2024-04-04T18:59:27.185767Z",
     "start_time": "2024-04-04T18:49:54.523671Z"
    },
    "hidden": true
   },
   "outputs": [
    {
     "name": "stdout",
     "output_type": "stream",
     "text": [
      "ROC-AUC train_set for RandomForestClassifier: 0.9988047202597948\n",
      "ROC-AUC test_set for RandomForestClassifier: 0.7059097466934293\n",
      "\n",
      "Precision train_set for RandomForestClassifier: 0.9371228085660381\n",
      "Precision test_set for RandomForestClassifier: 0.1527313266443701\n",
      "\n",
      "Recall train_set for RandomForestClassifier: 0.9974634192169481\n",
      "Recall test_set for RandomForestClassifier: 0.012871101089815859\n",
      "\n",
      "Confusion_matrix test_set for RandomForestClassifier:\n",
      " [[577192   1520]\n",
      " [ 21014    274]]\n"
     ]
    }
   ],
   "source": [
    "rfc = RandomForestClassifier(class_weight='balanced_subsample', n_jobs=-2, random_state=42)\n",
    "rfc.fit(X_train, y_train)\n",
    "\n",
    "pred_rfc_train = rfc.predict(X_train)\n",
    "pred_rfc_test = rfc.predict(X_test)\n",
    "\n",
    "print(\n",
    "    f'ROC-AUC train_set for RandomForestClassifier: {roc_auc_score(y_train, rfc.predict_proba(X_train)[:, 1])}\\n'\n",
    "    f'ROC-AUC test_set for RandomForestClassifier: {roc_auc_score(y_test, rfc.predict_proba(X_test)[:, 1])}\\n\\n'\n",
    "    f'Precision train_set for RandomForestClassifier: {precision_score(y_train, pred_rfc_train)}\\n'\n",
    "    f'Precision test_set for RandomForestClassifier: {precision_score(y_test, pred_rfc_test)}\\n\\n'\n",
    "    f'Recall train_set for RandomForestClassifier: {recall_score(y_train, pred_rfc_train)}\\n'\n",
    "    f'Recall test_set for RandomForestClassifier: {recall_score(y_test, pred_rfc_test)}\\n\\n'\n",
    "    f'Confusion_matrix test_set for RandomForestClassifier:\\n {confusion_matrix(y_test, pred_rfc_test)}'\n",
    "    )"
   ]
  },
  {
   "cell_type": "markdown",
   "id": "5a9f72e4",
   "metadata": {
    "heading_collapsed": true,
    "hidden": true
   },
   "source": [
    "### 2.1.1. Hyperparameter Selection"
   ]
  },
  {
   "cell_type": "code",
   "execution_count": 36,
   "id": "c6e81570",
   "metadata": {
    "ExecuteTime": {
     "end_time": "2024-04-04T19:02:17.746826Z",
     "start_time": "2024-04-04T19:02:16.216181Z"
    },
    "hidden": true
   },
   "outputs": [
    {
     "data": {
      "text/plain": [
       "0    144713\n",
       "1      5287\n",
       "Name: flag, dtype: int64"
      ]
     },
     "execution_count": 36,
     "metadata": {},
     "output_type": "execute_result"
    }
   ],
   "source": [
    "# Reduce the dataset so that  to speed up hyperparameter selection \n",
    "df_short = df_full.sample(150000)\n",
    "df_short['flag'].value_counts()"
   ]
  },
  {
   "cell_type": "code",
   "execution_count": 39,
   "id": "3f3f80cd",
   "metadata": {
    "ExecuteTime": {
     "end_time": "2024-04-04T19:02:54.537699Z",
     "start_time": "2024-04-04T19:02:53.823589Z"
    },
    "hidden": true
   },
   "outputs": [],
   "source": [
    "X_short = df_short.drop(columns=['flag', 'id'])\n",
    "y_short = df_short['flag']\n",
    "\n",
    "X_train_short, X_test_short, y_train_short, y_test_short = train_test_split(X_short, y_short, test_size=.3,\n",
    "                                                                            stratify=y_short, random_state=42)"
   ]
  },
  {
   "cell_type": "code",
   "execution_count": 40,
   "id": "1edfccbe",
   "metadata": {
    "ExecuteTime": {
     "end_time": "2024-04-04T19:02:59.892281Z",
     "start_time": "2024-04-04T19:02:58.871964Z"
    },
    "hidden": true
   },
   "outputs": [],
   "source": [
    "mm_scaler = MinMaxScaler()\n",
    "columns = X_train_short.columns\n",
    "\n",
    "X_train_short[columns] = mm_scaler.fit_transform(X_train_short[columns])\n",
    "X_test_short[columns] = mm_scaler.transform(X_test_short[columns])"
   ]
  },
  {
   "cell_type": "code",
   "execution_count": 41,
   "id": "0bc3b1f2",
   "metadata": {
    "ExecuteTime": {
     "end_time": "2024-04-04T19:03:16.677753Z",
     "start_time": "2024-04-04T19:03:02.759051Z"
    },
    "hidden": true
   },
   "outputs": [
    {
     "name": "stdout",
     "output_type": "stream",
     "text": [
      "ROC-AUC train for RandomForestClassifier: 0.9999953761940151\n",
      "ROC-AUC test for RandomForestClassifier: 0.6887118325449959\n",
      "\n",
      "Precision train_set for RandomForestClassifier: 0.9991845610220168\n",
      "Precision test_set for RandomForestClassifier: 0.1111111111111111\n",
      "\n",
      "Recall train_set for RandomForestClassifier: 0.9932450689002972\n",
      "Recall test_set for RandomForestClassifier: 0.0012610340479192938\n",
      "\n",
      "Recall train_set for RandomForestClassifier: 0.9932450689002972\n",
      "Confusion_matrix test_set for RandomForestClassifier:\n",
      " [[43398    16]\n",
      " [ 1584     2]]\n"
     ]
    }
   ],
   "source": [
    "rfc = RandomForestClassifier(n_jobs=-2, random_state=42)\n",
    "rfc.fit(X_train_short, y_train_short)\n",
    "\n",
    "pred_rfc_train = rfc.predict(X_train_short)\n",
    "pred_rfc_test = rfc.predict(X_test_short)\n",
    "\n",
    "print(\n",
    "    f'ROC-AUC train for RandomForestClassifier: {roc_auc_score(y_train_short, rfc.predict_proba(X_train_short)[:, 1])}\\n'\n",
    "    f'ROC-AUC test for RandomForestClassifier: {roc_auc_score(y_test_short, rfc.predict_proba(X_test_short)[:, 1])}\\n\\n'\n",
    "    f'Precision train_set for RandomForestClassifier: {precision_score(y_train_short, pred_rfc_train)}\\n'\n",
    "    f'Precision test_set for RandomForestClassifier: {precision_score(y_test_short, pred_rfc_test)}\\n\\n'\n",
    "    f'Recall train_set for RandomForestClassifier: {recall_score(y_train_short, pred_rfc_train)}\\n'\n",
    "    f'Recall test_set for RandomForestClassifier: {recall_score(y_test_short, pred_rfc_test)}\\n\\n'\n",
    "    f'Recall train_set for RandomForestClassifier: {recall_score(y_train_short, pred_rfc_train)}\\n'\n",
    "    f'Confusion_matrix test_set for RandomForestClassifier:\\n {confusion_matrix(y_test_short, pred_rfc_test)}'\n",
    "    )"
   ]
  },
  {
   "cell_type": "code",
   "execution_count": 42,
   "id": "0dd9fb82",
   "metadata": {
    "ExecuteTime": {
     "end_time": "2024-04-04T19:07:51.857253Z",
     "start_time": "2024-04-04T19:03:16.679715Z"
    },
    "hidden": true
   },
   "outputs": [
    {
     "data": {
      "image/png": "[encoded data removed]",
      "text/plain": [
       "<Figure size 640x480 with 2 Axes>"
      ]
     },
     "metadata": {},
     "output_type": "display_data"
    }
   ],
   "source": [
    "N = []\n",
    "f1 = []\n",
    "roc_auc = []\n",
    "\n",
    "for n in range(10, 510, 50):\n",
    "    rfc = RandomForestClassifier(n_estimators = n, random_state=42, n_jobs=-2)\n",
    "    rfc.fit(X_train_short, y_train_short)\n",
    "\n",
    "    N.append(n)\n",
    "    f1.append(f1_score(y_test_short, rfc.predict(X_test_short)))\n",
    "    roc_auc.append(roc_auc_score(y_test_short, rfc.predict_proba(X_test_short)[:, 1]))\n",
    "    \n",
    "fig, ax = plt.subplots(nrows=2, ncols=1, sharex=True)\n",
    "ax[0].plot(N, f1, '-')\n",
    "ax[0].set_ylim(0.0, 0.02)\n",
    "ax[1].plot(N, roc_auc, '-.')\n",
    "ax[1].set_ylim(0.55, 0.75)\n",
    "plt.xlabel('N estimators')\n",
    "plt.title('Dependence of F1-score (-) and ROC-AUC (-.) on N estimators')\n",
    "plt.show();"
   ]
  },
  {
   "cell_type": "code",
   "execution_count": 44,
   "id": "6a55ba6d",
   "metadata": {
    "ExecuteTime": {
     "end_time": "2024-04-04T19:11:16.864193Z",
     "start_time": "2024-04-04T19:09:31.585944Z"
    },
    "hidden": true
   },
   "outputs": [
    {
     "data": {
      "image/png": "[encoded data removed]",
      "text/plain": [
       "<Figure size 640x480 with 2 Axes>"
      ]
     },
     "metadata": {},
     "output_type": "display_data"
    }
   ],
   "source": [
    "depths = []\n",
    "f1 = []\n",
    "roc_auc = []\n",
    "\n",
    "for depth in range(1, 30, 2):\n",
    "    rfc = RandomForestClassifier(n_estimators = 100, max_depth=depth, random_state=42, n_jobs=-2)\n",
    "    rfc.fit(X_train_short, y_train_short)\n",
    "\n",
    "    depths.append(depth)\n",
    "    f1.append(f1_score(y_test_short, rfc.predict(X_test_short)))\n",
    "    roc_auc.append(roc_auc_score(y_test_short, rfc.predict_proba(X_test_short)[:, 1]))\n",
    "\n",
    "fig, ax = plt.subplots(nrows=2, ncols=1, sharex=True)\n",
    "ax[0].plot(depths, f1, '-')\n",
    "ax[0].set_ylim(0.0, 0.02)\n",
    "ax[1].plot(depths, roc_auc, '-.')\n",
    "ax[1].set_ylim(0.55, 0.75)\n",
    "plt.xlabel('Max depth')\n",
    "plt.title('Dependence of F1-score (-) and ROC-AUC (-.) on Max depth')\n",
    "plt.show();"
   ]
  },
  {
   "cell_type": "code",
   "execution_count": 45,
   "id": "863c8035",
   "metadata": {
    "ExecuteTime": {
     "end_time": "2024-04-04T20:10:53.676285Z",
     "start_time": "2024-04-04T19:11:37.560485Z"
    },
    "hidden": true
   },
   "outputs": [
    {
     "name": "stdout",
     "output_type": "stream",
     "text": [
      "f1 {'class_weight': 'balanced_subsample', 'criterion': 'log_loss', 'max_depth': 15, 'max_features': 'log2', 'min_samples_split': 100, 'n_estimators': 400}\n",
      "roc_auc {'class_weight': 'balanced_subsample', 'criterion': 'log_loss', 'max_depth': 25, 'max_features': 'sqrt', 'min_samples_split': 100, 'n_estimators': 400}\n"
     ]
    }
   ],
   "source": [
    "parameters_rfc = {\n",
    "                  'n_estimators': [100, 400],\n",
    "                  'criterion': ['gini', 'log_loss'],\n",
    "                  'max_depth': [15, 25],\n",
    "                  'max_features': ['sqrt', 'log2'],\n",
    "                  'min_samples_split': [2, 50, 100],\n",
    "                  'class_weight': ['balanced_subsample']\n",
    "}\n",
    "\n",
    "scores = ['f1', 'roc_auc']\n",
    "cv = StratifiedKFold(n_splits=4, shuffle=True, random_state=42)\n",
    "\n",
    "list_params = []\n",
    "\n",
    "for score in scores:\n",
    "    grid = GridSearchCV(RandomForestClassifier(random_state=42), parameters_rfc, scoring=score, cv=cv, n_jobs=-2)\n",
    "    grid.fit(X_train_short, y_train_short)\n",
    "    \n",
    "    list_params.append((score, grid.best_params_))\n",
    "    print(score, grid.best_params_)"
   ]
  },
  {
   "cell_type": "code",
   "execution_count": 46,
   "id": "b7343287",
   "metadata": {
    "ExecuteTime": {
     "end_time": "2024-04-04T20:34:38.019127Z",
     "start_time": "2024-04-04T20:34:16.570129Z"
    },
    "hidden": true
   },
   "outputs": [
    {
     "name": "stdout",
     "output_type": "stream",
     "text": [
      "ROC-AUC train for RandomForestClassifier: 0.9190264145592846\n",
      "ROC-AUC test for RandomForestClassifier: 0.7135448052246441\n",
      "\n",
      "Precision train_set for RandomForestClassifier: 0.21626106194690264\n",
      "Precision test_set for RandomForestClassifier: 0.09351403678606002\n",
      "\n",
      "Recall train_set for RandomForestClassifier: 0.7395298567954607\n",
      "Recall test_set for RandomForestClassifier: 0.30453972257250944\n",
      "\n",
      "Confusion_matrix test_set for RandomForestClassifier:\n",
      " [[38732  4682]\n",
      " [ 1103   483]]\n"
     ]
    }
   ],
   "source": [
    "# F1\n",
    "rfc1 = RandomForestClassifier(n_estimators=400, class_weight='balanced_subsample', criterion='log_loss', max_depth=15,\n",
    "                              max_features='log2', min_samples_split=100, n_jobs=-2, random_state=42)\n",
    "rfc1.fit(X_train_short, y_train_short)\n",
    "\n",
    "pred_rfc_train1 = rfc1.predict(X_train_short)\n",
    "pred_rfc_test1 = rfc1.predict(X_test_short)\n",
    "\n",
    "print(\n",
    "    f'ROC-AUC train for RandomForestClassifier: {roc_auc_score(y_train_short, rfc1.predict_proba(X_train_short)[:, 1])}\\n'\n",
    "    f'ROC-AUC test for RandomForestClassifier: {roc_auc_score(y_test_short, rfc1.predict_proba(X_test_short)[:, 1])}\\n\\n'\n",
    "    f'Precision train_set for RandomForestClassifier: {precision_score(y_train_short, pred_rfc_train1)}\\n'\n",
    "    f'Precision test_set for RandomForestClassifier: {precision_score(y_test_short, pred_rfc_test1)}\\n\\n'\n",
    "    f'Recall train_set for RandomForestClassifier: {recall_score(y_train_short, pred_rfc_train1)}\\n'\n",
    "    f'Recall test_set for RandomForestClassifier: {recall_score(y_test_short, pred_rfc_test1)}\\n\\n'\n",
    "    f'Confusion_matrix test_set for RandomForestClassifier:\\n {confusion_matrix(y_test_short, pred_rfc_test1)}'\n",
    "    )"
   ]
  },
  {
   "cell_type": "code",
   "execution_count": 47,
   "id": "0a75ea6d",
   "metadata": {
    "ExecuteTime": {
     "end_time": "2024-04-04T20:35:13.301995Z",
     "start_time": "2024-04-04T20:34:38.021121Z"
    },
    "hidden": true
   },
   "outputs": [
    {
     "name": "stdout",
     "output_type": "stream",
     "text": [
      "ROC-AUC train for RandomForestClassifier: 0.9864824065622634\n",
      "ROC-AUC test for RandomForestClassifier: 0.7310442305354048\n",
      "\n",
      "Precision train_set for RandomForestClassifier: 0.5336359215431998\n",
      "Precision test_set for RandomForestClassifier: 0.1386530843237125\n",
      "\n",
      "Recall train_set for RandomForestClassifier: 0.8894893272088624\n",
      "Recall test_set for RandomForestClassifier: 0.1544766708701135\n",
      "\n",
      "Confusion_matrix test_set for RandomForestClassifier:\n",
      " [[41892  1522]\n",
      " [ 1341   245]]\n"
     ]
    }
   ],
   "source": [
    "# ROC AUC\n",
    "rfc2 = RandomForestClassifier(n_estimators=400, class_weight='balanced_subsample', criterion='log_loss', max_depth=25,\n",
    "                              max_features='sqrt', min_samples_split=100, n_jobs=-2, random_state=42)\n",
    "rfc2.fit(X_train_short, y_train_short)\n",
    "\n",
    "pred_rfc_train2 = rfc2.predict(X_train_short)\n",
    "pred_rfc_test2 = rfc2.predict(X_test_short)\n",
    "\n",
    "print(\n",
    "    f'ROC-AUC train for RandomForestClassifier: {roc_auc_score(y_train_short, rfc2.predict_proba(X_train_short)[:, 1])}\\n'\n",
    "    f'ROC-AUC test for RandomForestClassifier: {roc_auc_score(y_test_short, rfc2.predict_proba(X_test_short)[:, 1])}\\n\\n'\n",
    "    f'Precision train_set for RandomForestClassifier: {precision_score(y_train_short, pred_rfc_train2)}\\n'\n",
    "    f'Precision test_set for RandomForestClassifier: {precision_score(y_test_short, pred_rfc_test2)}\\n\\n'\n",
    "    f'Recall train_set for RandomForestClassifier: {recall_score(y_train_short, pred_rfc_train2)}\\n'\n",
    "    f'Recall test_set for RandomForestClassifier: {recall_score(y_test_short, pred_rfc_test2)}\\n\\n'\n",
    "    f'Confusion_matrix test_set for RandomForestClassifier:\\n {confusion_matrix(y_test_short, pred_rfc_test2)}'\n",
    "    )"
   ]
  },
  {
   "cell_type": "markdown",
   "id": "889840fa",
   "metadata": {
    "heading_collapsed": true,
    "hidden": true
   },
   "source": [
    "### 2.1.2. Best Random Forest Classifier"
   ]
  },
  {
   "cell_type": "code",
   "execution_count": 48,
   "id": "55fa5d48",
   "metadata": {
    "ExecuteTime": {
     "end_time": "2024-04-04T20:49:08.431957Z",
     "start_time": "2024-04-04T20:36:41.849778Z"
    },
    "hidden": true
   },
   "outputs": [
    {
     "name": "stdout",
     "output_type": "stream",
     "text": [
      "ROC-AUC train_set for RandomForestClassifier: 0.7952642747820704\n",
      "ROC-AUC test_set for RandomForestClassifier: 0.7278504232184072\n",
      "\n",
      "Precision train_set for RandomForestClassifier: 0.09241225046150522\n",
      "Precision test_set for RandomForestClassifier: 0.07606968020853201\n",
      "\n",
      "Recall train_set for RandomForestClassifier: 0.6831152969913333\n",
      "Recall test_set for RandomForestClassifier: 0.562053739195791\n",
      "\n",
      "Confusion_matrix test_set for RandomForestClassifier:\n",
      " [[433387 145325]\n",
      " [  9323  11965]]\n"
     ]
    }
   ],
   "source": [
    "rfc_best = RandomForestClassifier(n_estimators=400, class_weight='balanced_subsample', criterion='log_loss', max_depth=15,\n",
    "                                  max_features='log2', min_samples_split=100, n_jobs=-2, random_state=42)\n",
    "rfc_best.fit(X_train, y_train)\n",
    "\n",
    "pred_rfc_best_train = rfc_best.predict(X_train)\n",
    "pred_rfc_best_test = rfc_best.predict(X_test)\n",
    "\n",
    "print(\n",
    "    f'ROC-AUC train_set for RandomForestClassifier: {roc_auc_score(y_train, rfc_best.predict_proba(X_train)[:, 1])}\\n'\n",
    "    f'ROC-AUC test_set for RandomForestClassifier: {roc_auc_score(y_test, rfc_best.predict_proba(X_test)[:, 1])}\\n\\n'\n",
    "    f'Precision train_set for RandomForestClassifier: {precision_score(y_train, pred_rfc_best_train)}\\n'\n",
    "    f'Precision test_set for RandomForestClassifier: {precision_score(y_test, pred_rfc_best_test)}\\n\\n'\n",
    "    f'Recall train_set for RandomForestClassifier: {recall_score(y_train, pred_rfc_best_train)}\\n'\n",
    "    f'Recall test_set for RandomForestClassifier: {recall_score(y_test, pred_rfc_best_test)}\\n\\n'\n",
    "    f'Confusion_matrix test_set for RandomForestClassifier:\\n {confusion_matrix(y_test, pred_rfc_best_test)}'\n",
    "    )"
   ]
  },
  {
   "cell_type": "markdown",
   "id": "199d511f",
   "metadata": {
    "heading_collapsed": true
   },
   "source": [
    "## 2.2. Gradient Boosting Classifier"
   ]
  },
  {
   "cell_type": "code",
   "execution_count": 54,
   "id": "81fa88e9",
   "metadata": {
    "ExecuteTime": {
     "end_time": "2024-04-05T07:34:19.351084Z",
     "start_time": "2024-04-05T06:06:40.375514Z"
    },
    "hidden": true
   },
   "outputs": [
    {
     "name": "stdout",
     "output_type": "stream",
     "text": [
      "ROC-AUC train_set for GradientBoostingClassifier: 0.7485434603014609\n",
      "ROC-AUC test_set for GradientBoostingClassifier: 0.7452088822593084\n",
      "\n",
      "Precision train_set for GradientBoostingClassifier: 0.5631067961165048\n",
      "Precision test_set for GradientBoostingClassifier: 0.3953488372093023\n",
      "\n",
      "Recall train_set for GradientBoostingClassifier: 0.0006811189139676351\n",
      "Recall test_set for GradientBoostingClassifier: 0.0007985719654265313\n",
      "\n",
      "Confusion_matrix test_set for GradientBoostingClassifier:\n",
      " [[578686     26]\n",
      " [ 21271     17]]\n"
     ]
    }
   ],
   "source": [
    "gbc = GradientBoostingClassifier(random_state=42)\n",
    "gbc.fit(X_train, y_train)\n",
    "\n",
    "pred_gbc_train = gbc.predict(X_train)\n",
    "pred_gbc_test = gbc.predict(X_test)\n",
    "\n",
    "print(\n",
    "    f'ROC-AUC train_set for GradientBoostingClassifier: {roc_auc_score(y_train, gbc.predict_proba(X_train)[:, 1])}\\n'\n",
    "    f'ROC-AUC test_set for GradientBoostingClassifier: {roc_auc_score(y_test, gbc.predict_proba(X_test)[:, 1])}\\n\\n'\n",
    "    f'Precision train_set for GradientBoostingClassifier: {precision_score(y_train, pred_gbc_train)}\\n'\n",
    "    f'Precision test_set for GradientBoostingClassifier: {precision_score(y_test, pred_gbc_test)}\\n\\n'\n",
    "    f'Recall train_set for GradientBoostingClassifier: {recall_score(y_train, pred_gbc_train)}\\n'\n",
    "    f'Recall test_set for GradientBoostingClassifier: {recall_score(y_test, pred_gbc_test)}\\n\\n'\n",
    "    f'Confusion_matrix test_set for GradientBoostingClassifier:\\n {confusion_matrix(y_test, pred_gbc_test)}'\n",
    "    )"
   ]
  },
  {
   "cell_type": "markdown",
   "id": "9ff487db",
   "metadata": {
    "heading_collapsed": true,
    "hidden": true
   },
   "source": [
    "### 2.2.1. Hyperparameter Selection"
   ]
  },
  {
   "cell_type": "markdown",
   "id": "a7c90409",
   "metadata": {
    "hidden": true
   },
   "source": [
    "**Reduce the dataset so that to speed up hyperparameter selection.**"
   ]
  },
  {
   "cell_type": "code",
   "execution_count": 55,
   "id": "c88c121d",
   "metadata": {
    "ExecuteTime": {
     "end_time": "2024-04-05T07:36:34.573804Z",
     "start_time": "2024-04-05T07:34:19.354075Z"
    },
    "hidden": true
   },
   "outputs": [
    {
     "name": "stdout",
     "output_type": "stream",
     "text": [
      "ROC-AUC train_set for GBC: 0.770562220585985\n",
      "ROC-AUC test_set for GBC: 0.741394344523425\n",
      "\n",
      "Precision train_set for GBC: 0.9591836734693877\n",
      "Precision test_set for GBC: 0.18518518518518517\n",
      "\n",
      "Recall train_set for GBC: 0.012699270467441232\n",
      "Recall test_set for GBC: 0.0031525851197982345\n",
      "\n",
      "Confusion_matrix test_set for GBC:\n",
      " [[43392    22]\n",
      " [ 1581     5]]\n"
     ]
    }
   ],
   "source": [
    "gbc = GradientBoostingClassifier(random_state=42)\n",
    "gbc.fit(X_train_short, y_train_short)\n",
    "\n",
    "pred_gbc_train = gbc.predict(X_train_short)\n",
    "pred_gbc_test = gbc.predict(X_test_short)\n",
    "\n",
    "print(\n",
    "    f'ROC-AUC train_set for GBC: {roc_auc_score(y_train_short, gbc.predict_proba(X_train_short)[:, 1])}\\n'\n",
    "    f'ROC-AUC test_set for GBC: {roc_auc_score(y_test_short, gbc.predict_proba(X_test_short)[:, 1])}\\n\\n'\n",
    "    f'Precision train_set for GBC: {precision_score(y_train_short, pred_gbc_train)}\\n'\n",
    "    f'Precision test_set for GBC: {precision_score(y_test_short, pred_gbc_test)}\\n\\n'\n",
    "    f'Recall train_set for GBC: {recall_score(y_train_short, pred_gbc_train)}\\n'\n",
    "    f'Recall test_set for GBC: {recall_score(y_test_short, pred_gbc_test)}\\n\\n'\n",
    "    f'Confusion_matrix test_set for GBC:\\n {confusion_matrix(y_test_short, pred_gbc_test)}'\n",
    "    )"
   ]
  },
  {
   "cell_type": "code",
   "execution_count": 56,
   "id": "574b8eae",
   "metadata": {
    "ExecuteTime": {
     "end_time": "2024-04-05T07:52:30.067577Z",
     "start_time": "2024-04-05T07:36:34.574801Z"
    },
    "hidden": true
   },
   "outputs": [
    {
     "name": "stdout",
     "output_type": "stream",
     "text": [
      "f1 {'max_depth': 10, 'max_features': 'sqrt', 'min_samples_split': 2, 'n_estimators': 50}\n",
      "roc_auc {'max_depth': 5, 'max_features': 'sqrt', 'min_samples_split': 20, 'n_estimators': 100}\n"
     ]
    }
   ],
   "source": [
    "parameters_gbc = {\n",
    "    'n_estimators': [50, 100, 200],\n",
    "    'max_depth': [5, 10],\n",
    "    'min_samples_split': [2, 10, 20],\n",
    "    'max_features': ['sqrt', 'log2']\n",
    "}\n",
    "\n",
    "scores = ['f1', 'roc_auc']\n",
    "cv = StratifiedKFold(n_splits=4, shuffle=True, random_state=42)\n",
    "\n",
    "list_params = []\n",
    "\n",
    "for score in scores:\n",
    "    grid = GridSearchCV(GradientBoostingClassifier(random_state=42), parameters_gbc, scoring=score, cv=cv, n_jobs=-2)\n",
    "    grid.fit(X_train_short, y_train_short)\n",
    "    \n",
    "    list_params.append((score, grid.best_params_))\n",
    "    print(score, grid.best_params_)"
   ]
  },
  {
   "cell_type": "code",
   "execution_count": 60,
   "id": "7d444512",
   "metadata": {
    "ExecuteTime": {
     "end_time": "2024-04-05T16:47:29.761174Z",
     "start_time": "2024-04-05T16:47:11.478185Z"
    },
    "hidden": true
   },
   "outputs": [
    {
     "name": "stdout",
     "output_type": "stream",
     "text": [
      "ROC-AUC train_set for GBC: 0.9472655380879597\n",
      "ROC-AUC test_set for GBC: 0.7265623588511234\n",
      "\n",
      "Precision train_set for GBC: 0.9991582491582491\n",
      "Precision test_set for GBC: 0.08080808080808081\n",
      "\n",
      "Recall train_set for GBC: 0.32072412861388816\n",
      "Recall test_set for GBC: 0.01008827238335435\n",
      "\n",
      "Confusion_matrix test_set for GBC:\n",
      " [[43232   182]\n",
      " [ 1570    16]]\n"
     ]
    }
   ],
   "source": [
    "# F1\n",
    "gbc1 = GradientBoostingClassifier(n_estimators=50, max_depth=10, max_features='sqrt', min_samples_split=2,\n",
    "                                  random_state=42)\n",
    "gbc1.fit(X_train_short, y_train_short)\n",
    "\n",
    "pred_gbc_train1 = gbc1.predict(X_train_short)\n",
    "pred_gbc_test1 = gbc1.predict(X_test_short)\n",
    "\n",
    "print(\n",
    "    f'ROC-AUC train_set for GBC: {roc_auc_score(y_train_short, gbc1.predict_proba(X_train_short)[:, 1])}\\n'\n",
    "    f'ROC-AUC test_set for GBC: {roc_auc_score(y_test_short, gbc1.predict_proba(X_test_short)[:, 1])}\\n\\n'\n",
    "    f'Precision train_set for GBC: {precision_score(y_train_short, pred_gbc_train1)}\\n'\n",
    "    f'Precision test_set for GBC: {precision_score(y_test_short, pred_gbc_test1)}\\n\\n'\n",
    "    f'Recall train_set for GBC: {recall_score(y_train_short, pred_gbc_train1)}\\n'\n",
    "    f'Recall test_set for GBC: {recall_score(y_test_short, pred_gbc_test1)}\\n\\n'\n",
    "    f'Confusion_matrix test_set for GBC:\\n {confusion_matrix(y_test_short, pred_gbc_test1)}'\n",
    "    )"
   ]
  },
  {
   "cell_type": "code",
   "execution_count": 61,
   "id": "7d196a46",
   "metadata": {
    "ExecuteTime": {
     "end_time": "2024-04-05T16:47:44.764057Z",
     "start_time": "2024-04-05T16:47:29.763167Z"
    },
    "hidden": true
   },
   "outputs": [
    {
     "name": "stdout",
     "output_type": "stream",
     "text": [
      "ROC-AUC train_set for GBC: 0.8058443235235677\n",
      "ROC-AUC test_set for GBC: 0.7418299653571458\n",
      "\n",
      "Precision train_set for GBC: 0.9838709677419355\n",
      "Precision test_set for GBC: 0.17647058823529413\n",
      "\n",
      "Recall train_set for GBC: 0.03296406376654958\n",
      "Recall test_set for GBC: 0.0037831021437578815\n",
      "\n",
      "Confusion_matrix test_set for GBC:\n",
      " [[43386    28]\n",
      " [ 1580     6]]\n"
     ]
    }
   ],
   "source": [
    "# ROC-AUC\n",
    "gbc2 = GradientBoostingClassifier(n_estimators=100, max_depth=5, max_features='sqrt', min_samples_split=20,\n",
    "                                  random_state=42)\n",
    "gbc2.fit(X_train_short, y_train_short)\n",
    "\n",
    "pred_gbc_train2 = gbc2.predict(X_train_short)\n",
    "pred_gbc_test2 = gbc2.predict(X_test_short)\n",
    "\n",
    "print(\n",
    "    f'ROC-AUC train_set for GBC: {roc_auc_score(y_train_short, gbc2.predict_proba(X_train_short)[:, 1])}\\n'\n",
    "    f'ROC-AUC test_set for GBC: {roc_auc_score(y_test_short, gbc2.predict_proba(X_test_short)[:, 1])}\\n\\n'\n",
    "    f'Precision train_set for GBC: {precision_score(y_train_short, pred_gbc_train2)}\\n'\n",
    "    f'Precision test_set for GBC: {precision_score(y_test_short, pred_gbc_test2)}\\n\\n'\n",
    "    f'Recall train_set for GBC: {recall_score(y_train_short, pred_gbc_train2)}\\n'\n",
    "    f'Recall test_set for GBC: {recall_score(y_test_short, pred_gbc_test2)}\\n\\n'\n",
    "    f'Confusion_matrix test_set for GBC:\\n {confusion_matrix(y_test_short, pred_gbc_test2)}'\n",
    "    )"
   ]
  },
  {
   "cell_type": "markdown",
   "id": "3600cef9",
   "metadata": {
    "heading_collapsed": true,
    "hidden": true
   },
   "source": [
    "###  2.2.2. Best Gradiant Boosting Classifier"
   ]
  },
  {
   "cell_type": "code",
   "execution_count": 62,
   "id": "3ee4bc29",
   "metadata": {
    "ExecuteTime": {
     "end_time": "2024-04-05T17:07:36.661444Z",
     "start_time": "2024-04-05T16:49:24.997585Z"
    },
    "hidden": true
   },
   "outputs": [
    {
     "name": "stdout",
     "output_type": "stream",
     "text": [
      "ROC-AUC train for GradientBoostingClassifier: 0.7986389019251484\n",
      "ROC-AUC test for GradientBoostingClassifier: 0.7557502349851499\n",
      "\n",
      "Precision train_set for GradientBoostingClassifier: 0.979296066252588\n",
      "Precision test_set for GradientBoostingClassifier: 0.24415584415584415\n",
      "\n",
      "Recall train_set for GradientBoostingClassifier: 0.02777321088850788\n",
      "Recall test_set for GradientBoostingClassifier: 0.0044156332205937615\n",
      "\n",
      "Confusion_matrix test_set for GradientBoostingClassifier:\n",
      " [[578421    291]\n",
      " [ 21194     94]]\n"
     ]
    }
   ],
   "source": [
    "gbc_best = GradientBoostingClassifier(n_estimators=100, max_depth=10, max_features='sqrt', min_samples_split=20,\n",
    "                                  random_state=42)\n",
    "gbc_best.fit(X_train, y_train)\n",
    "\n",
    "pred_gbc_best_train = gbc_best.predict(X_train)\n",
    "pred_gbc_best_test = gbc_best.predict(X_test)\n",
    "\n",
    "print(\n",
    "    f'ROC-AUC train for GradientBoostingClassifier: {roc_auc_score(y_train, gbc_best.predict_proba(X_train)[:, 1])}\\n'\n",
    "    f'ROC-AUC test for GradientBoostingClassifier: {roc_auc_score(y_test, gbc_best.predict_proba(X_test)[:, 1])}\\n\\n'\n",
    "    f'Precision train_set for GradientBoostingClassifier: {precision_score(y_train, pred_gbc_best_train)}\\n'\n",
    "    f'Precision test_set for GradientBoostingClassifier: {precision_score(y_test, pred_gbc_best_test)}\\n\\n'\n",
    "    f'Recall train_set for GradientBoostingClassifier: {recall_score(y_train, pred_gbc_best_train)}\\n'\n",
    "    f'Recall test_set for GradientBoostingClassifier: {recall_score(y_test, pred_gbc_best_test)}\\n\\n'\n",
    "    f'Confusion_matrix test_set for GradientBoostingClassifier:\\n {confusion_matrix(y_test, pred_gbc_best_test)}'\n",
    "    )"
   ]
  },
  {
   "cell_type": "markdown",
   "id": "6ad7b8b5",
   "metadata": {
    "heading_collapsed": true
   },
   "source": [
    "## 2.3. MLP Classifier"
   ]
  },
  {
   "cell_type": "code",
   "execution_count": 63,
   "id": "ce125b03",
   "metadata": {
    "ExecuteTime": {
     "end_time": "2024-04-05T17:53:35.520946Z",
     "start_time": "2024-04-05T17:07:36.663401Z"
    },
    "hidden": true
   },
   "outputs": [
    {
     "name": "stdout",
     "output_type": "stream",
     "text": [
      "ROC-AUC train_set for MLPClassifier: 0.7739574417381931\n",
      "ROC-AUC test_set for MLPClassifier: 0.756198953494824\n",
      "\n",
      "Precision train_set for MLPClassifier: 0.7205882352941176\n",
      "Precision test_set for MLPClassifier: 0.3125\n",
      "\n",
      "Recall train_set for MLPClassifier: 0.00057542804800714\n",
      "Recall test_set for MLPClassifier: 0.00023487410747839157\n",
      "\n",
      "Confusion_matrix test_set for MLPClassifier:\n",
      " [[578701     11]\n",
      " [ 21283      5]]\n"
     ]
    }
   ],
   "source": [
    "mlp = MLPClassifier(max_iter=1000, random_state=42)\n",
    "mlp.fit(X_train, y_train)\n",
    "\n",
    "pred_mlp_train = mlp.predict(X_train)\n",
    "pred_mlp_test = mlp.predict(X_test)\n",
    "\n",
    "print(\n",
    "    f'ROC-AUC train_set for MLPClassifier: {roc_auc_score(y_train, mlp.predict_proba(X_train)[:, 1])}\\n'\n",
    "    f'ROC-AUC test_set for MLPClassifier: {roc_auc_score(y_test, mlp.predict_proba(X_test)[:, 1])}\\n\\n'\n",
    "    f'Precision train_set for MLPClassifier: {precision_score(y_train, pred_mlp_train)}\\n'\n",
    "    f'Precision test_set for MLPClassifier: {precision_score(y_test, pred_mlp_test)}\\n\\n'\n",
    "    f'Recall train_set for MLPClassifier: {recall_score(y_train, pred_mlp_train)}\\n'\n",
    "    f'Recall test_set for MLPClassifier: {recall_score(y_test, pred_mlp_test)}\\n\\n'\n",
    "    f'Confusion_matrix test_set for MLPClassifier:\\n {confusion_matrix(y_test, pred_mlp_test)}'\n",
    "    )"
   ]
  },
  {
   "cell_type": "markdown",
   "id": "0cc15f20",
   "metadata": {
    "heading_collapsed": true,
    "hidden": true
   },
   "source": [
    "### 2.3.1. Hyperparameter Selection"
   ]
  },
  {
   "cell_type": "markdown",
   "id": "2de448c1",
   "metadata": {
    "hidden": true
   },
   "source": [
    "**Reduce the dataset so that to speed up hyperparameter selection.**"
   ]
  },
  {
   "cell_type": "code",
   "execution_count": 64,
   "id": "eb66545b",
   "metadata": {
    "ExecuteTime": {
     "end_time": "2024-04-05T18:04:52.055099Z",
     "start_time": "2024-04-05T17:53:35.522941Z"
    },
    "hidden": true
   },
   "outputs": [
    {
     "name": "stdout",
     "output_type": "stream",
     "text": [
      "ROC-AUC train_set for MLPClassifier: 0.9999585404509233\n",
      "ROC-AUC test_set for MLPClassifier: 0.616286733709194\n",
      "\n",
      "Precision train_set for MLPClassifier: 0.9922523519645822\n",
      "Precision test_set for MLPClassifier: 0.08768821966341896\n",
      "\n",
      "Recall train_set for MLPClassifier: 0.9689273169413672\n",
      "Recall test_set for MLPClassifier: 0.06242118537200504\n",
      "\n",
      "Confusion_matrix test_set for MLPClassifier:\n",
      " [[42384  1030]\n",
      " [ 1487    99]]\n"
     ]
    }
   ],
   "source": [
    "mlp = MLPClassifier(max_iter=1000, random_state=42)\n",
    "mlp.fit(X_train_short, y_train_short)\n",
    "\n",
    "pred_mlp_train = mlp.predict(X_train_short)\n",
    "pred_mlp_test = mlp.predict(X_test_short)\n",
    "\n",
    "print(\n",
    "    f'ROC-AUC train_set for MLPClassifier: {roc_auc_score(y_train_short, mlp.predict_proba(X_train_short)[:, 1])}\\n'\n",
    "    f'ROC-AUC test_set for MLPClassifier: {roc_auc_score(y_test_short, mlp.predict_proba(X_test_short)[:, 1])}\\n\\n'\n",
    "    f'Precision train_set for MLPClassifier: {precision_score(y_train_short, pred_mlp_train)}\\n'\n",
    "    f'Precision test_set for MLPClassifier: {precision_score(y_test_short, pred_mlp_test)}\\n\\n'\n",
    "    f'Recall train_set for MLPClassifier: {recall_score(y_train_short, pred_mlp_train)}\\n'\n",
    "    f'Recall test_set for MLPClassifier: {recall_score(y_test_short, pred_mlp_test)}\\n\\n'\n",
    "    f'Confusion_matrix test_set for MLPClassifier:\\n {confusion_matrix(y_test_short, pred_mlp_test)}'\n",
    "    )"
   ]
  },
  {
   "cell_type": "code",
   "execution_count": 66,
   "id": "397ff3e2",
   "metadata": {
    "ExecuteTime": {
     "end_time": "2024-04-06T01:57:42.692587Z",
     "start_time": "2024-04-05T18:24:12.711720Z"
    },
    "hidden": true,
    "scrolled": true
   },
   "outputs": [
    {
     "name": "stdout",
     "output_type": "stream",
     "text": [
      "ELAPSED TIME = 16.23 min, Amount Neurons = 70\n",
      "\n",
      "ROC-AUC test_set for MLPClassifier: 0.6066636880229533\n",
      "Confusion_matrix test_set for MLPClassifier:\n",
      " [[41889  1525]\n",
      " [ 1476   110]]\n",
      "\n",
      "\n",
      "ELAPSED TIME = 14.477 min, Amount Neurons = 90\n",
      "\n",
      "ROC-AUC test_set for MLPClassifier: 0.604299822855709\n",
      "Confusion_matrix test_set for MLPClassifier:\n",
      " [[42074  1340]\n",
      " [ 1471   115]]\n",
      "\n",
      "\n",
      "ELAPSED TIME = 22.149 min, Amount Neurons = 110\n",
      "\n",
      "ROC-AUC test_set for MLPClassifier: 0.6248941465119747\n",
      "Confusion_matrix test_set for MLPClassifier:\n",
      " [[41762  1652]\n",
      " [ 1424   162]]\n",
      "\n",
      "\n",
      "ELAPSED TIME = 14.615 min, Amount Neurons = 130\n",
      "\n",
      "ROC-AUC test_set for MLPClassifier: 0.6177999658526828\n",
      "Confusion_matrix test_set for MLPClassifier:\n",
      " [[42645   769]\n",
      " [ 1498    88]]\n",
      "\n",
      "\n",
      "ELAPSED TIME = 19.459 min, Amount Neurons = 150\n",
      "\n",
      "ROC-AUC test_set for MLPClassifier: 0.6227412040594991\n",
      "Confusion_matrix test_set for MLPClassifier:\n",
      " [[42289  1125]\n",
      " [ 1471   115]]\n",
      "\n",
      "\n",
      "ELAPSED TIME = 19.414 min, Amount Neurons = 170\n",
      "\n",
      "ROC-AUC test_set for MLPClassifier: 0.625590802904044\n",
      "Confusion_matrix test_set for MLPClassifier:\n",
      " [[42496   918]\n",
      " [ 1492    94]]\n",
      "\n",
      "\n",
      "ELAPSED TIME = 20.686 min, Amount Neurons = 190\n",
      "\n",
      "ROC-AUC test_set for MLPClassifier: 0.6285709086352453\n",
      "Confusion_matrix test_set for MLPClassifier:\n",
      " [[42707   707]\n",
      " [ 1495    91]]\n",
      "\n",
      "\n",
      "ELAPSED TIME = 21.485 min, Amount Neurons = 210\n",
      "\n",
      "ROC-AUC test_set for MLPClassifier: 0.6300130634692198\n",
      "Confusion_matrix test_set for MLPClassifier:\n",
      " [[42813   601]\n",
      " [ 1505    81]]\n",
      "\n",
      "\n",
      "ELAPSED TIME = 26.436 min, Amount Neurons = 230\n",
      "\n",
      "ROC-AUC test_set for MLPClassifier: 0.6307674647290108\n",
      "Confusion_matrix test_set for MLPClassifier:\n",
      " [[42548   866]\n",
      " [ 1476   110]]\n",
      "\n",
      "\n",
      "ELAPSED TIME = 21.51 min, Amount Neurons = 250\n",
      "\n",
      "ROC-AUC test_set for MLPClassifier: 0.6277865021197421\n",
      "Confusion_matrix test_set for MLPClassifier:\n",
      " [[42511   903]\n",
      " [ 1486   100]]\n",
      "\n",
      "\n",
      "ELAPSED TIME = 23.229 min, Amount Neurons = 270\n",
      "\n",
      "ROC-AUC test_set for MLPClassifier: 0.6131856338902189\n",
      "Confusion_matrix test_set for MLPClassifier:\n",
      " [[42370  1044]\n",
      " [ 1479   107]]\n",
      "\n",
      "\n",
      "ELAPSED TIME = 21.675 min, Amount Neurons = 290\n",
      "\n",
      "ROC-AUC test_set for MLPClassifier: 0.6234019441895272\n",
      "Confusion_matrix test_set for MLPClassifier:\n",
      " [[42744   670]\n",
      " [ 1498    88]]\n",
      "\n",
      "\n",
      "ELAPSED TIME = 19.204 min, Amount Neurons = 310\n",
      "\n",
      "ROC-AUC test_set for MLPClassifier: 0.6350202667638608\n",
      "Confusion_matrix test_set for MLPClassifier:\n",
      " [[42919   495]\n",
      " [ 1515    71]]\n",
      "\n",
      "\n",
      "ELAPSED TIME = 21.408 min, Amount Neurons = 330\n",
      "\n",
      "ROC-AUC test_set for MLPClassifier: 0.6267515531713754\n",
      "Confusion_matrix test_set for MLPClassifier:\n",
      " [[42749   665]\n",
      " [ 1503    83]]\n",
      "\n",
      "\n",
      "ELAPSED TIME = 23.381 min, Amount Neurons = 350\n",
      "\n",
      "ROC-AUC test_set for MLPClassifier: 0.6230991176712019\n",
      "Confusion_matrix test_set for MLPClassifier:\n",
      " [[42765   649]\n",
      " [ 1510    76]]\n",
      "\n",
      "\n",
      "ELAPSED TIME = 20.085 min, Amount Neurons = 370\n",
      "\n",
      "ROC-AUC test_set for MLPClassifier: 0.6247407943846428\n",
      "Confusion_matrix test_set for MLPClassifier:\n",
      " [[42658   756]\n",
      " [ 1491    95]]\n",
      "\n",
      "\n",
      "ELAPSED TIME = 22.355 min, Amount Neurons = 390\n",
      "\n",
      "ROC-AUC test_set for MLPClassifier: 0.6365195710079169\n",
      "Confusion_matrix test_set for MLPClassifier:\n",
      " [[42826   588]\n",
      " [ 1525    61]]\n",
      "\n",
      "\n",
      "ELAPSED TIME = 24.638 min, Amount Neurons = 410\n",
      "\n",
      "ROC-AUC test_set for MLPClassifier: 0.6310298727446025\n",
      "Confusion_matrix test_set for MLPClassifier:\n",
      " [[42937   477]\n",
      " [ 1515    71]]\n",
      "\n",
      "\n",
      "ELAPSED TIME = 29.649 min, Amount Neurons = 430\n",
      "\n",
      "ROC-AUC test_set for MLPClassifier: 0.6330674126017775\n",
      "Confusion_matrix test_set for MLPClassifier:\n",
      " [[42914   500]\n",
      " [ 1511    75]]\n",
      "\n",
      "\n",
      "ELAPSED TIME = 25.106 min, Amount Neurons = 450\n",
      "\n",
      "ROC-AUC test_set for MLPClassifier: 0.6375227864210794\n",
      "Confusion_matrix test_set for MLPClassifier:\n",
      " [[42123  1291]\n",
      " [ 1461   125]]\n",
      "\n",
      "\n",
      "ELAPSED TIME = 24.988 min, Amount Neurons = 470\n",
      "\n",
      "ROC-AUC test_set for MLPClassifier: 0.6282465875484521\n",
      "Confusion_matrix test_set for MLPClassifier:\n",
      " [[41523  1891]\n",
      " [ 1421   165]]\n",
      "\n",
      "\n"
     ]
    }
   ],
   "source": [
    "list_amount_neurons = []\n",
    "list_roc_auc = []\n",
    "\n",
    "for amount_neurons in range(70, 478, 20):\n",
    "    start_time = time.time()\n",
    "    mlp = MLPClassifier(hidden_layer_sizes=(amount_neurons,), max_iter=1000, random_state=42)\n",
    "    mlp.fit(X_train_short, y_train_short)\n",
    "    end_time = time.time()\n",
    "\n",
    "    elapsed_time = round((end_time-start_time) / 60, 3)\n",
    "    roc_auc = roc_auc_score(y_test_short, mlp.predict_proba(X_test_short)[:, 1])\n",
    "    list_amount_neurons.append(amount_neurons)\n",
    "    list_roc_auc.append(roc_auc)\n",
    "\n",
    "    print(\n",
    "        f'ELAPSED TIME = {elapsed_time} min, Amount Neurons = {amount_neurons}\\n\\n'\n",
    "        f'ROC-AUC test_set for MLPClassifier: {roc_auc}\\n'\n",
    "        f'Confusion_matrix test_set for MLPClassifier:\\n {confusion_matrix(y_test_short, mlp.predict(X_test_short))}\\n\\n'\n",
    "        )\n"
   ]
  },
  {
   "cell_type": "code",
   "execution_count": 67,
   "id": "85557ae1",
   "metadata": {
    "ExecuteTime": {
     "end_time": "2024-04-06T01:57:42.884095Z",
     "start_time": "2024-04-06T01:57:42.695578Z"
    },
    "hidden": true
   },
   "outputs": [
    {
     "data": {
      "image/png": "[encoded data removed]",
      "text/plain": [
       "<Figure size 640x480 with 1 Axes>"
      ]
     },
     "metadata": {},
     "output_type": "display_data"
    }
   ],
   "source": [
    "plt.plot(list_amount_neurons, list_roc_auc)\n",
    "plt.xlabel('Amount Neurons')\n",
    "plt.ylabel('ROC-AUC')\n",
    "plt.title('Dependence of ROC-AUC on Amount Neurons in hidden layer')\n",
    "plt.show();"
   ]
  },
  {
   "cell_type": "code",
   "execution_count": 68,
   "id": "bbd1f0a0",
   "metadata": {
    "ExecuteTime": {
     "end_time": "2024-04-06T02:06:03.000931Z",
     "start_time": "2024-04-06T01:57:42.886089Z"
    },
    "hidden": true
   },
   "outputs": [
    {
     "name": "stdout",
     "output_type": "stream",
     "text": [
      "ROC-AUC test_set for MLPClassifier: 0.5783681364284661\n",
      "Confusion_matrix test_set for MLPClassifier:\n",
      " [[42384  1030]\n",
      " [ 1487    99]]\n"
     ]
    }
   ],
   "source": [
    "mlp = MLPClassifier(hidden_layer_sizes=(110, 110), max_iter=1000, random_state=42)\n",
    "mlp.fit(X_train_short, y_train_short)\n",
    "\n",
    "roc_auc = roc_auc_score(y_test_short, mlp.predict_proba(X_test_short)[:, 1])\n",
    "print(\n",
    "    f'ROC-AUC test_set for MLPClassifier: {roc_auc}\\n'\n",
    "    f'Confusion_matrix test_set for MLPClassifier:\\n {confusion_matrix(y_test_short, pred_mlp_test)}'\n",
    "    )"
   ]
  },
  {
   "cell_type": "code",
   "execution_count": 69,
   "id": "50e14bae",
   "metadata": {
    "ExecuteTime": {
     "end_time": "2024-04-06T11:38:33.138282Z",
     "start_time": "2024-04-06T06:34:44.128801Z"
    },
    "hidden": true
   },
   "outputs": [
    {
     "name": "stdout",
     "output_type": "stream",
     "text": [
      "f1 {'activation': 'relu', 'hidden_layer_sizes': (450,), 'solver': 'lbfgs'}\n",
      "roc_auc {'activation': 'logistic', 'hidden_layer_sizes': (450,), 'solver': 'lbfgs'}\n"
     ]
    }
   ],
   "source": [
    "parameters_mlp = {\n",
    "                  'hidden_layer_sizes': [(450,)],\n",
    "                  'activation': ['logistic', 'relu'],\n",
    "                  'solver': ['adam', 'lbfgs']\n",
    "}\n",
    "\n",
    "scores = ['f1', 'roc_auc']\n",
    "cv = StratifiedKFold(n_splits=4, shuffle=True, random_state=42)\n",
    "\n",
    "list_params = []\n",
    "\n",
    "for score in scores:\n",
    "    grid = GridSearchCV(MLPClassifier(max_iter=1000, random_state=42), parameters_mlp, scoring=score, cv=cv, n_jobs=-2)\n",
    "    grid.fit(X_train_short, y_train_short)\n",
    "    \n",
    "    list_params.append((score, grid.best_params_))\n",
    "    print(score, grid.best_params_)"
   ]
  },
  {
   "cell_type": "code",
   "execution_count": 70,
   "id": "4c525333",
   "metadata": {
    "ExecuteTime": {
     "end_time": "2024-04-06T11:57:00.910451Z",
     "start_time": "2024-04-06T11:38:33.140276Z"
    },
    "hidden": true
   },
   "outputs": [
    {
     "name": "stdout",
     "output_type": "stream",
     "text": [
      "ROC-AUC train_set for MLPClassifier: 0.999597430386092\n",
      "ROC-AUC test_set for MLPClassifier: 0.5967957280751113\n",
      "\n",
      "Precision train_set for MLPClassifier: 0.9916036943744753\n",
      "Precision test_set for MLPClassifier: 0.0854119425547997\n",
      "\n",
      "Recall train_set for MLPClassifier: 0.939787798408488\n",
      "Recall test_set for MLPClassifier: 0.06996904024767801\n",
      "\n",
      "Confusion_matrix test_set for MLPClassifier:\n",
      " [[42175  1210]\n",
      " [ 1502   113]]\n"
     ]
    }
   ],
   "source": [
    "# F1\n",
    "mlp1 = MLPClassifier(hidden_layer_sizes=(450,), solver='lbfgs', activation='relu', max_iter=1000, random_state=42)\n",
    "mlp1.fit(X_train_short, y_train_short)\n",
    "\n",
    "pred_mlp_train1 = mlp1.predict(X_train_short)\n",
    "pred_mlp_test1 = mlp1.predict(X_test_short)\n",
    "\n",
    "print(\n",
    "    f'ROC-AUC train_set for MLPClassifier: {roc_auc_score(y_train_short, mlp1.predict_proba(X_train_short)[:, 1])}\\n'\n",
    "    f'ROC-AUC test_set for MLPClassifier: {roc_auc_score(y_test_short, mlp1.predict_proba(X_test_short)[:, 1])}\\n\\n'\n",
    "    f'Precision train_set for MLPClassifier: {precision_score(y_train_short, pred_mlp_train1)}\\n'\n",
    "    f'Precision test_set for MLPClassifier: {precision_score(y_test_short, pred_mlp_test1)}\\n\\n'\n",
    "    f'Recall train_set for MLPClassifier: {recall_score(y_train_short, pred_mlp_train1)}\\n'\n",
    "    f'Recall test_set for MLPClassifier: {recall_score(y_test_short, pred_mlp_test1)}\\n\\n'\n",
    "    f'Confusion_matrix test_set for MLPClassifier:\\n {confusion_matrix(y_test_short, pred_mlp_test1)}'\n",
    "    )"
   ]
  },
  {
   "cell_type": "code",
   "execution_count": 71,
   "id": "91bc276b",
   "metadata": {
    "ExecuteTime": {
     "end_time": "2024-04-06T12:40:46.736895Z",
     "start_time": "2024-04-06T12:39:08.296327Z"
    },
    "hidden": true
   },
   "outputs": [
    {
     "name": "stdout",
     "output_type": "stream",
     "text": [
      "ROC-AUC train_set for MLPClassifier: 0.7208926687159083\n",
      "ROC-AUC test_set for MLPClassifier: 0.7077581421436907\n",
      "\n",
      "Precision train_set for MLPClassifier: 0.22857142857142856\n",
      "Precision test_set for MLPClassifier: 0.15384615384615385\n",
      "\n",
      "Recall train_set for MLPClassifier: 0.002122015915119363\n",
      "Recall test_set for MLPClassifier: 0.001238390092879257\n",
      "\n",
      "Confusion_matrix test_set for MLPClassifier:\n",
      " [[43374    11]\n",
      " [ 1613     2]]\n"
     ]
    }
   ],
   "source": [
    "# ROC-AUC\n",
    "mlp2 = MLPClassifier(hidden_layer_sizes=(450,), solver='lbfgs', activation='logistic', max_iter=1000, random_state=42)\n",
    "mlp2.fit(X_train_short, y_train_short)\n",
    "\n",
    "pred_mlp_train2 = mlp2.predict(X_train_short)\n",
    "pred_mlp_test2 = mlp2.predict(X_test_short)\n",
    "\n",
    "print(\n",
    "    f'ROC-AUC train_set for MLPClassifier: {roc_auc_score(y_train_short, mlp2.predict_proba(X_train_short)[:, 1])}\\n'\n",
    "    f'ROC-AUC test_set for MLPClassifier: {roc_auc_score(y_test_short, mlp2.predict_proba(X_test_short)[:, 1])}\\n\\n'\n",
    "    f'Precision train_set for MLPClassifier: {precision_score(y_train_short, pred_mlp_train2)}\\n'\n",
    "    f'Precision test_set for MLPClassifier: {precision_score(y_test_short, pred_mlp_test2)}\\n\\n'\n",
    "    f'Recall train_set for MLPClassifier: {recall_score(y_train_short, pred_mlp_train2)}\\n'\n",
    "    f'Recall test_set for MLPClassifier: {recall_score(y_test_short, pred_mlp_test2)}\\n\\n'\n",
    "    f'Confusion_matrix test_set for MLPClassifier:\\n {confusion_matrix(y_test_short, pred_mlp_test2)}'\n",
    "    )"
   ]
  },
  {
   "cell_type": "markdown",
   "id": "3e891f73",
   "metadata": {
    "heading_collapsed": true,
    "hidden": true
   },
   "source": [
    "### 2.3.2. Best MLP classifier"
   ]
  },
  {
   "cell_type": "code",
   "execution_count": 75,
   "id": "100e8eb5",
   "metadata": {
    "ExecuteTime": {
     "end_time": "2024-04-07T05:18:47.614907Z",
     "start_time": "2024-04-06T15:10:02.660719Z"
    },
    "hidden": true
   },
   "outputs": [
    {
     "name": "stdout",
     "output_type": "stream",
     "text": [
      "ROC-AUC train_set for MLPClassifier: 0.7908948121913789\n",
      "ROC-AUC test_set for MLPClassifier: 0.7492846030360887\n",
      "\n",
      "Precision train_set for MLPClassifier: 0.6277056277056277\n",
      "Precision test_set for MLPClassifier: 0.38461538461538464\n",
      "\n",
      "Recall train_set for MLPClassifier: 0.0051083918547572636\n",
      "Recall test_set for MLPClassifier: 0.003288237504697482\n",
      "\n",
      "Confusion_matrix test_set for MLPClassifier:\n",
      " [[578600    112]\n",
      " [ 21218     70]]\n"
     ]
    }
   ],
   "source": [
    "mlp_best = MLPClassifier(hidden_layer_sizes=(450,), solver='lbfgs', activation='relu', max_iter=1000, random_state=42)\n",
    "mlp_best.fit(X_train, y_train)\n",
    "\n",
    "pred_mlp_best_train = mlp_best.predict(X_train)\n",
    "pred_mlp_best_test = mlp_best.predict(X_test)\n",
    "\n",
    "print(\n",
    "    f'ROC-AUC train_set for MLPClassifier: {roc_auc_score(y_train, mlp_best.predict_proba(X_train)[:, 1])}\\n'\n",
    "    f'ROC-AUC test_set for MLPClassifier: {roc_auc_score(y_test, mlp_best.predict_proba(X_test)[:, 1])}\\n\\n'\n",
    "    f'Precision train_set for MLPClassifier: {precision_score(y_train, pred_mlp_best_train)}\\n'\n",
    "    f'Precision test_set for MLPClassifier: {precision_score(y_test, pred_mlp_best_test)}\\n\\n'\n",
    "    f'Recall train_set for MLPClassifier: {recall_score(y_train, pred_mlp_best_train)}\\n'\n",
    "    f'Recall test_set for MLPClassifier: {recall_score(y_test, pred_mlp_best_test)}\\n\\n'\n",
    "    f'Confusion_matrix test_set for MLPClassifier:\\n {confusion_matrix(y_test, pred_mlp_best_test)}'\n",
    "    )"
   ]
  },
  {
   "cell_type": "markdown",
   "id": "93f1064a",
   "metadata": {
    "heading_collapsed": true
   },
   "source": [
    "## 2.4. Cat Boost Classifier"
   ]
  },
  {
   "cell_type": "code",
   "execution_count": 76,
   "id": "60cc9658",
   "metadata": {
    "ExecuteTime": {
     "end_time": "2024-04-07T05:30:06.094403Z",
     "start_time": "2024-04-07T05:18:47.637947Z"
    },
    "hidden": true
   },
   "outputs": [
    {
     "data": {
      "application/vnd.jupyter.widget-view+json": {
       "model_id": "4ba3aa0a45914242998377b076858385",
       "version_major": 2,
       "version_minor": 0
      },
      "text/plain": [
       "MetricVisualizer(layout=Layout(align_self='stretch', height='500px'))"
      ]
     },
     "metadata": {},
     "output_type": "display_data"
    },
    {
     "name": "stdout",
     "output_type": "stream",
     "text": [
      "ROC-AUC train_set for CatBoostClassifier: 0.7534597694601646\n",
      "ROC-AUC test_set for CatBoostClassifier: 0.7497831635820731\n",
      "\n",
      "Precision train_set for CatBoostClassifier: 0.07227058082513335\n",
      "Precision test_set for CatBoostClassifier: 0.0717400015264845\n",
      "\n",
      "Recall train_set for CatBoostClassifier: 0.7101016980999131\n",
      "Recall test_set for CatBoostClassifier: 0.7064543404735062\n",
      "\n",
      "Confusion_matrix test_set for CatBoostClassifier:\n",
      " [[384119 194593]\n",
      " [  6249  15039]]\n"
     ]
    }
   ],
   "source": [
    "cat_model = CatBoostClassifier(iterations=1000, eval_metric ='AUC', auto_class_weights='Balanced',\n",
    "                               learning_rate=0.01, random_seed=42)\n",
    "\n",
    "cat_model.fit(X_train, y_train, eval_set=(X_test, y_test), verbose=False, plot=True)\n",
    "\n",
    "pred_cat_model_train = cat_model.predict(X_train)\n",
    "pred_cat_model_test = cat_model.predict(X_test)\n",
    "\n",
    "print(\n",
    "    f'ROC-AUC train_set for CatBoostClassifier: {roc_auc_score(y_train, cat_model.predict_proba(X_train)[:, 1])}\\n'\n",
    "    f'ROC-AUC test_set for CatBoostClassifier: {roc_auc_score(y_test, cat_model.predict_proba(X_test)[:, 1])}\\n\\n'\n",
    "    f'Precision train_set for CatBoostClassifier: {precision_score(y_train, pred_cat_model_train)}\\n'\n",
    "    f'Precision test_set for CatBoostClassifier: {precision_score(y_test, pred_cat_model_test)}\\n\\n'\n",
    "    f'Recall train_set for CatBoostClassifier: {recall_score(y_train, pred_cat_model_train)}\\n'\n",
    "    f'Recall test_set for CatBoostClassifier: {recall_score(y_test, pred_cat_model_test)}\\n\\n'\n",
    "    f'Confusion_matrix test_set for CatBoostClassifier:\\n {confusion_matrix(y_test, pred_cat_model_test)}'\n",
    "    )"
   ]
  },
  {
   "cell_type": "markdown",
   "id": "53c2df58",
   "metadata": {
    "heading_collapsed": true,
    "hidden": true
   },
   "source": [
    "### 2.4.1. Hyperparameter Selection"
   ]
  },
  {
   "cell_type": "markdown",
   "id": "d19cd32c",
   "metadata": {
    "hidden": true
   },
   "source": [
    "**Reduce the dataset so that to speed up hyperparameter selection.**"
   ]
  },
  {
   "cell_type": "code",
   "execution_count": 77,
   "id": "8c298bc1",
   "metadata": {
    "ExecuteTime": {
     "end_time": "2024-04-07T05:30:45.194490Z",
     "start_time": "2024-04-07T05:30:06.095514Z"
    },
    "hidden": true
   },
   "outputs": [
    {
     "data": {
      "application/vnd.jupyter.widget-view+json": {
       "model_id": "30ba22140d394308bc15be60e1f889b4",
       "version_major": 2,
       "version_minor": 0
      },
      "text/plain": [
       "MetricVisualizer(layout=Layout(align_self='stretch', height='500px'))"
      ]
     },
     "metadata": {},
     "output_type": "display_data"
    },
    {
     "name": "stdout",
     "output_type": "stream",
     "text": [
      "ROC-AUC train for CatBoostClassifier: 0.7850580223987657\n",
      "ROC-AUC test for CatBoostClassifier: 0.7317251793021727\n",
      "\n",
      "Precision train_set for CatBoostClassifier: 0.08080601889653563\n",
      "Precision test_set for CatBoostClassifier: 0.07073452469932731\n",
      "\n",
      "Recall train_set for CatBoostClassifier: 0.7350132625994695\n",
      "Recall test_set for CatBoostClassifier: 0.6445820433436532\n",
      "\n",
      "Confusion_matrix test_set for CatBoostClassifier:\n",
      " [[29709 13676]\n",
      " [  574  1041]]\n"
     ]
    }
   ],
   "source": [
    "cat_model = CatBoostClassifier(iterations=1000, eval_metric ='AUC', auto_class_weights='Balanced',\n",
    "                               learning_rate=0.01, random_seed=42)\n",
    "\n",
    "cat_model.fit(X_train_short, y_train_short, eval_set=(X_test_short, y_test_short), verbose=False, plot=True)\n",
    "\n",
    "pred_cat_model_train = cat_model.predict(X_train_short)\n",
    "pred_cat_model_test = cat_model.predict(X_test_short)\n",
    "\n",
    "print(\n",
    "    f'ROC-AUC train for CatBoostClassifier: {roc_auc_score(y_train_short, cat_model.predict_proba(X_train_short)[:, 1])}\\n'\n",
    "    f'ROC-AUC test for CatBoostClassifier: {roc_auc_score(y_test_short, cat_model.predict_proba(X_test_short)[:, 1])}\\n\\n'\n",
    "    f'Precision train_set for CatBoostClassifier: {precision_score(y_train_short, pred_cat_model_train)}\\n'\n",
    "    f'Precision test_set for CatBoostClassifier: {precision_score(y_test_short, pred_cat_model_test)}\\n\\n'\n",
    "    f'Recall train_set for CatBoostClassifier: {recall_score(y_train_short, pred_cat_model_train)}\\n'\n",
    "    f'Recall test_set for CatBoostClassifier: {recall_score(y_test_short, pred_cat_model_test)}\\n\\n'\n",
    "    f'Confusion_matrix test_set for CatBoostClassifier:\\n {confusion_matrix(y_test_short, pred_cat_model_test)}'\n",
    "    )"
   ]
  },
  {
   "cell_type": "code",
   "execution_count": 78,
   "id": "464be127",
   "metadata": {
    "ExecuteTime": {
     "end_time": "2024-04-07T06:33:05.910251Z",
     "start_time": "2024-04-07T05:30:45.198478Z"
    },
    "hidden": true,
    "scrolled": true
   },
   "outputs": [
    {
     "name": "stderr",
     "output_type": "stream",
     "text": [
      "[I 2024-04-07 07:30:45,204] A new study created in memory with name: no-name-c612e08a-21fa-4cab-9478-ed175a371fc8\n",
      "[I 2024-04-07 07:32:24,699] Trial 0 finished with value: 0.7055621512478633 and parameters: {'objective': 'Logloss', 'iterations': 667, 'learning_rate': 0.004088047188766204, 'colsample_bylevel': 0.09583205764974473, 'depth': 7, 'boosting_type': 'Ordered', 'bootstrap_type': 'Bayesian', 'auto_class_weights': 'SqrtBalanced', 'bagging_temperature': 4.016027064671346}. Best is trial 0 with value: 0.7055621512478633.\n",
      "[I 2024-04-07 07:34:00,353] Trial 1 finished with value: 0.6523181136851239 and parameters: {'objective': 'Logloss', 'iterations': 772, 'learning_rate': 0.0033493631667625345, 'colsample_bylevel': 0.03695659437707056, 'depth': 12, 'boosting_type': 'Plain', 'bootstrap_type': 'Bayesian', 'auto_class_weights': 'Balanced', 'bagging_temperature': 5.469118943617923}. Best is trial 0 with value: 0.7055621512478633.\n",
      "[I 2024-04-07 07:36:34,540] Trial 2 finished with value: 0.7093083133910472 and parameters: {'objective': 'Logloss', 'iterations': 790, 'learning_rate': 0.0018539610595453145, 'colsample_bylevel': 0.07910420138983659, 'depth': 9, 'boosting_type': 'Ordered', 'bootstrap_type': 'Bayesian', 'auto_class_weights': 'Balanced', 'bagging_temperature': 1.9556755544622462}. Best is trial 2 with value: 0.7093083133910472.\n",
      "[I 2024-04-07 07:38:12,589] Trial 3 finished with value: 0.6615562012094891 and parameters: {'objective': 'Logloss', 'iterations': 872, 'learning_rate': 0.0018089672682814356, 'colsample_bylevel': 0.031719696159663996, 'depth': 4, 'boosting_type': 'Ordered', 'bootstrap_type': 'Bernoulli', 'auto_class_weights': 'SqrtBalanced', 'subsample': 0.472272926201151}. Best is trial 2 with value: 0.7093083133910472.\n",
      "[I 2024-04-07 07:38:30,439] Trial 4 finished with value: 0.728248595714588 and parameters: {'objective': 'Logloss', 'iterations': 956, 'learning_rate': 0.09602568897053111, 'colsample_bylevel': 0.08942970982289188, 'depth': 5, 'boosting_type': 'Plain', 'bootstrap_type': 'Bernoulli', 'auto_class_weights': 'Balanced', 'subsample': 0.5501957773392575}. Best is trial 4 with value: 0.728248595714588.\n",
      "[I 2024-04-07 07:48:17,984] Trial 5 finished with value: 0.7171221666760029 and parameters: {'objective': 'Logloss', 'iterations': 718, 'learning_rate': 0.0073778218601459914, 'colsample_bylevel': 0.036282032533269996, 'depth': 11, 'boosting_type': 'Ordered', 'bootstrap_type': 'Bernoulli', 'auto_class_weights': 'Balanced', 'subsample': 0.45803236668114233}. Best is trial 4 with value: 0.728248595714588.\n",
      "[I 2024-04-07 07:49:13,302] Trial 6 finished with value: 0.6589204655130767 and parameters: {'objective': 'Logloss', 'iterations': 580, 'learning_rate': 0.018970696829307316, 'colsample_bylevel': 0.01178857437354179, 'depth': 12, 'boosting_type': 'Plain', 'bootstrap_type': 'Bayesian', 'auto_class_weights': 'Balanced', 'bagging_temperature': 7.791573299544108}. Best is trial 4 with value: 0.728248595714588.\n",
      "[I 2024-04-07 07:50:42,161] Trial 7 finished with value: 0.6518078290316629 and parameters: {'objective': 'Logloss', 'iterations': 626, 'learning_rate': 0.018523704359897836, 'colsample_bylevel': 0.09323094745024765, 'depth': 12, 'boosting_type': 'Plain', 'bootstrap_type': 'Bayesian', 'auto_class_weights': 'Balanced', 'bagging_temperature': 9.67849894974297}. Best is trial 4 with value: 0.728248595714588.\n",
      "[I 2024-04-07 07:51:09,239] Trial 8 finished with value: 0.6998993103364612 and parameters: {'objective': 'Logloss', 'iterations': 903, 'learning_rate': 0.036178836395615976, 'colsample_bylevel': 0.055579607302198984, 'depth': 8, 'boosting_type': 'Plain', 'bootstrap_type': 'Bayesian', 'auto_class_weights': 'Balanced', 'bagging_temperature': 8.74388519214031}. Best is trial 4 with value: 0.728248595714588.\n",
      "[I 2024-04-07 07:52:05,861] Trial 9 finished with value: 0.7238513332460357 and parameters: {'objective': 'Logloss', 'iterations': 500, 'learning_rate': 0.06658684029658493, 'colsample_bylevel': 0.05161423896748553, 'depth': 4, 'boosting_type': 'Ordered', 'bootstrap_type': 'Bernoulli', 'auto_class_weights': 'Balanced', 'subsample': 0.121552516108312}. Best is trial 4 with value: 0.728248595714588.\n",
      "[I 2024-04-07 07:52:30,297] Trial 10 finished with value: 0.732060430924643 and parameters: {'objective': 'Logloss', 'iterations': 998, 'learning_rate': 0.07461149553306945, 'colsample_bylevel': 0.07584520362392083, 'depth': 6, 'boosting_type': 'Plain', 'bootstrap_type': 'Bernoulli', 'auto_class_weights': 'SqrtBalanced', 'subsample': 0.9891965796878084}. Best is trial 10 with value: 0.732060430924643.\n",
      "[I 2024-04-07 07:52:53,975] Trial 11 finished with value: 0.7285702602981228 and parameters: {'objective': 'Logloss', 'iterations': 982, 'learning_rate': 0.09993898670115303, 'colsample_bylevel': 0.07488371590332785, 'depth': 6, 'boosting_type': 'Plain', 'bootstrap_type': 'Bernoulli', 'auto_class_weights': 'SqrtBalanced', 'subsample': 0.9692621597826662}. Best is trial 10 with value: 0.732060430924643.\n",
      "[I 2024-04-07 07:53:17,851] Trial 12 finished with value: 0.7350394177554197 and parameters: {'objective': 'Logloss', 'iterations': 1000, 'learning_rate': 0.045066409693900855, 'colsample_bylevel': 0.07136869727830918, 'depth': 6, 'boosting_type': 'Plain', 'bootstrap_type': 'Bernoulli', 'auto_class_weights': 'SqrtBalanced', 'subsample': 0.9837660014509181}. Best is trial 12 with value: 0.7350394177554197.\n",
      "[I 2024-04-07 07:53:38,333] Trial 13 finished with value: 0.7332784119149198 and parameters: {'objective': 'Logloss', 'iterations': 863, 'learning_rate': 0.041464336744158364, 'colsample_bylevel': 0.06764610764046222, 'depth': 6, 'boosting_type': 'Plain', 'bootstrap_type': 'Bernoulli', 'auto_class_weights': 'SqrtBalanced', 'subsample': 0.9799713679524613}. Best is trial 12 with value: 0.7350394177554197.\n",
      "[I 2024-04-07 07:54:08,624] Trial 14 finished with value: 0.7251921399265201 and parameters: {'objective': 'Logloss', 'iterations': 856, 'learning_rate': 0.028567722042880588, 'colsample_bylevel': 0.06277957894965275, 'depth': 9, 'boosting_type': 'Plain', 'bootstrap_type': 'Bernoulli', 'auto_class_weights': 'SqrtBalanced', 'subsample': 0.7860081713613515}. Best is trial 12 with value: 0.7350394177554197.\n",
      "[I 2024-04-07 07:54:28,586] Trial 15 finished with value: 0.7329332697273422 and parameters: {'objective': 'Logloss', 'iterations': 919, 'learning_rate': 0.04175053067045532, 'colsample_bylevel': 0.06349562571510624, 'depth': 6, 'boosting_type': 'Plain', 'bootstrap_type': 'Bernoulli', 'auto_class_weights': 'SqrtBalanced', 'subsample': 0.7965042126839339}. Best is trial 12 with value: 0.7350394177554197.\n",
      "[I 2024-04-07 07:54:48,966] Trial 16 finished with value: 0.7298958671924032 and parameters: {'objective': 'Logloss', 'iterations': 812, 'learning_rate': 0.012126972238075902, 'colsample_bylevel': 0.06604275718805167, 'depth': 7, 'boosting_type': 'Plain', 'bootstrap_type': 'Bernoulli', 'auto_class_weights': 'SqrtBalanced', 'subsample': 0.7902939297621869}. Best is trial 12 with value: 0.7350394177554197.\n",
      "[I 2024-04-07 07:55:06,479] Trial 17 finished with value: 0.7314121636110695 and parameters: {'objective': 'Logloss', 'iterations': 942, 'learning_rate': 0.05105001496300224, 'colsample_bylevel': 0.047139034512617306, 'depth': 5, 'boosting_type': 'Plain', 'bootstrap_type': 'Bernoulli', 'auto_class_weights': 'SqrtBalanced', 'subsample': 0.887653758909446}. Best is trial 12 with value: 0.7350394177554197.\n",
      "[I 2024-04-07 07:55:30,678] Trial 18 finished with value: 0.730749224578982 and parameters: {'objective': 'Logloss', 'iterations': 826, 'learning_rate': 0.023365856447752156, 'colsample_bylevel': 0.08018952866105016, 'depth': 8, 'boosting_type': 'Plain', 'bootstrap_type': 'Bernoulli', 'auto_class_weights': 'SqrtBalanced', 'subsample': 0.6436915763297852}. Best is trial 12 with value: 0.7350394177554197.\n",
      "[I 2024-04-07 07:55:46,714] Trial 19 finished with value: 0.7213365321866176 and parameters: {'objective': 'Logloss', 'iterations': 719, 'learning_rate': 0.010597791938239334, 'colsample_bylevel': 0.06930355414294329, 'depth': 7, 'boosting_type': 'Plain', 'bootstrap_type': 'Bernoulli', 'auto_class_weights': 'SqrtBalanced', 'subsample': 0.29252771676070083}. Best is trial 12 with value: 0.7350394177554197.\n"
     ]
    },
    {
     "name": "stderr",
     "output_type": "stream",
     "text": [
      "[I 2024-04-07 07:56:03,463] Trial 20 finished with value: 0.7195760330056578 and parameters: {'objective': 'Logloss', 'iterations': 873, 'learning_rate': 0.0059536692954436045, 'colsample_bylevel': 0.08699082396625388, 'depth': 5, 'boosting_type': 'Plain', 'bootstrap_type': 'Bernoulli', 'auto_class_weights': 'SqrtBalanced', 'subsample': 0.6370812094349827}. Best is trial 12 with value: 0.7350394177554197.\n",
      "[I 2024-04-07 07:56:23,367] Trial 21 finished with value: 0.7338042817012771 and parameters: {'objective': 'Logloss', 'iterations': 924, 'learning_rate': 0.04554773149765551, 'colsample_bylevel': 0.06001399967276791, 'depth': 6, 'boosting_type': 'Plain', 'bootstrap_type': 'Bernoulli', 'auto_class_weights': 'SqrtBalanced', 'subsample': 0.8388485100044174}. Best is trial 12 with value: 0.7350394177554197.\n",
      "[I 2024-04-07 07:56:43,486] Trial 22 finished with value: 0.7332164424579268 and parameters: {'objective': 'Logloss', 'iterations': 920, 'learning_rate': 0.052869503804988276, 'colsample_bylevel': 0.0562345135437433, 'depth': 6, 'boosting_type': 'Plain', 'bootstrap_type': 'Bernoulli', 'auto_class_weights': 'SqrtBalanced', 'subsample': 0.891167760941516}. Best is trial 12 with value: 0.7350394177554197.\n",
      "[I 2024-04-07 07:57:01,167] Trial 23 finished with value: 0.7335847625354528 and parameters: {'objective': 'Logloss', 'iterations': 970, 'learning_rate': 0.029277995909834466, 'colsample_bylevel': 0.043721821005697104, 'depth': 5, 'boosting_type': 'Plain', 'bootstrap_type': 'Bernoulli', 'auto_class_weights': 'SqrtBalanced', 'subsample': 0.8899192751739518}. Best is trial 12 with value: 0.7350394177554197.\n",
      "[I 2024-04-07 07:57:16,412] Trial 24 finished with value: 0.7288225838851581 and parameters: {'objective': 'Logloss', 'iterations': 992, 'learning_rate': 0.014532442929388881, 'colsample_bylevel': 0.02504937514436971, 'depth': 4, 'boosting_type': 'Plain', 'bootstrap_type': 'Bernoulli', 'auto_class_weights': 'SqrtBalanced', 'subsample': 0.8634318794102737}. Best is trial 12 with value: 0.7350394177554197.\n",
      "[I 2024-04-07 07:57:33,400] Trial 25 finished with value: 0.7339613247505683 and parameters: {'objective': 'Logloss', 'iterations': 956, 'learning_rate': 0.03093698876894086, 'colsample_bylevel': 0.04851921377885127, 'depth': 5, 'boosting_type': 'Plain', 'bootstrap_type': 'Bernoulli', 'auto_class_weights': 'SqrtBalanced', 'subsample': 0.7079688489180531}. Best is trial 12 with value: 0.7350394177554197.\n",
      "[I 2024-04-07 07:59:29,550] Trial 26 finished with value: 0.7280600898214596 and parameters: {'objective': 'Logloss', 'iterations': 944, 'learning_rate': 0.06534074181903088, 'colsample_bylevel': 0.057296765443204285, 'depth': 7, 'boosting_type': 'Ordered', 'bootstrap_type': 'Bernoulli', 'auto_class_weights': 'SqrtBalanced', 'subsample': 0.7008321644148623}. Best is trial 12 with value: 0.7350394177554197.\n",
      "[I 2024-04-07 07:59:58,267] Trial 27 finished with value: 0.725546444802119 and parameters: {'objective': 'Logloss', 'iterations': 925, 'learning_rate': 0.02859141071646915, 'colsample_bylevel': 0.043353106893172025, 'depth': 9, 'boosting_type': 'Plain', 'bootstrap_type': 'Bernoulli', 'auto_class_weights': 'SqrtBalanced', 'subsample': 0.7173997671934687}. Best is trial 12 with value: 0.7350394177554197.\n",
      "[I 2024-04-07 08:00:14,482] Trial 28 finished with value: 0.7310662364580074 and parameters: {'objective': 'Logloss', 'iterations': 890, 'learning_rate': 0.016383686384896207, 'colsample_bylevel': 0.04902765980034318, 'depth': 5, 'boosting_type': 'Plain', 'bootstrap_type': 'Bernoulli', 'auto_class_weights': 'SqrtBalanced', 'subsample': 0.8191548857175829}. Best is trial 12 with value: 0.7350394177554197.\n",
      "[I 2024-04-07 08:02:33,533] Trial 29 finished with value: 0.7287112686433763 and parameters: {'objective': 'Logloss', 'iterations': 1000, 'learning_rate': 0.05064896071564859, 'colsample_bylevel': 0.09820869374994055, 'depth': 7, 'boosting_type': 'Ordered', 'bootstrap_type': 'Bayesian', 'auto_class_weights': 'SqrtBalanced', 'bagging_temperature': 0.6078047282215131}. Best is trial 12 with value: 0.7350394177554197.\n",
      "[I 2024-04-07 08:02:47,108] Trial 30 finished with value: 0.7197048458416988 and parameters: {'objective': 'Logloss', 'iterations': 843, 'learning_rate': 0.007900892629508497, 'colsample_bylevel': 0.05998284320297495, 'depth': 4, 'boosting_type': 'Plain', 'bootstrap_type': 'Bernoulli', 'auto_class_weights': 'SqrtBalanced', 'subsample': 0.7298391158389632}. Best is trial 12 with value: 0.7350394177554197.\n",
      "[I 2024-04-07 08:03:04,269] Trial 31 finished with value: 0.734688695176851 and parameters: {'objective': 'Logloss', 'iterations': 964, 'learning_rate': 0.02986617211585283, 'colsample_bylevel': 0.041163527655654654, 'depth': 5, 'boosting_type': 'Plain', 'bootstrap_type': 'Bernoulli', 'auto_class_weights': 'SqrtBalanced', 'subsample': 0.8980663851447857}. Best is trial 12 with value: 0.7350394177554197.\n",
      "[I 2024-04-07 08:03:19,963] Trial 32 finished with value: 0.733290671648581 and parameters: {'objective': 'Logloss', 'iterations': 957, 'learning_rate': 0.034760319445007896, 'colsample_bylevel': 0.025377691569841137, 'depth': 5, 'boosting_type': 'Plain', 'bootstrap_type': 'Bernoulli', 'auto_class_weights': 'SqrtBalanced', 'subsample': 0.9216981334761956}. Best is trial 12 with value: 0.7350394177554197.\n",
      "[I 2024-04-07 08:03:37,508] Trial 33 finished with value: 0.7338158563741517 and parameters: {'objective': 'Logloss', 'iterations': 900, 'learning_rate': 0.022440141367141574, 'colsample_bylevel': 0.03937425285383738, 'depth': 6, 'boosting_type': 'Plain', 'bootstrap_type': 'Bernoulli', 'auto_class_weights': 'SqrtBalanced', 'subsample': 0.830801030051762}. Best is trial 12 with value: 0.7350394177554197.\n",
      "[I 2024-04-07 08:03:52,656] Trial 34 finished with value: 0.6609921107400762 and parameters: {'objective': 'Logloss', 'iterations': 969, 'learning_rate': 0.0011765087033765538, 'colsample_bylevel': 0.0386509982393942, 'depth': 4, 'boosting_type': 'Plain', 'bootstrap_type': 'Bayesian', 'auto_class_weights': 'SqrtBalanced', 'bagging_temperature': 6.173854324425052}. Best is trial 12 with value: 0.7350394177554197.\n",
      "[I 2024-04-07 08:05:17,383] Trial 35 finished with value: 0.7287249270428102 and parameters: {'objective': 'Logloss', 'iterations': 750, 'learning_rate': 0.02294880953390726, 'colsample_bylevel': 0.029090743462269274, 'depth': 7, 'boosting_type': 'Ordered', 'bootstrap_type': 'Bernoulli', 'auto_class_weights': 'SqrtBalanced', 'subsample': 0.9389374275239243}. Best is trial 12 with value: 0.7350394177554197.\n",
      "[I 2024-04-07 08:05:31,830] Trial 36 finished with value: 0.7009135000148072 and parameters: {'objective': 'Logloss', 'iterations': 893, 'learning_rate': 0.0032670226919548134, 'colsample_bylevel': 0.03724796861259195, 'depth': 5, 'boosting_type': 'Plain', 'bootstrap_type': 'Bernoulli', 'auto_class_weights': 'SqrtBalanced', 'subsample': 0.634909321832255}. Best is trial 12 with value: 0.7350394177554197.\n",
      "[I 2024-04-07 08:06:10,136] Trial 37 finished with value: 0.709173092382231 and parameters: {'objective': 'Logloss', 'iterations': 955, 'learning_rate': 0.02420205915564058, 'colsample_bylevel': 0.0181757655041561, 'depth': 10, 'boosting_type': 'Plain', 'bootstrap_type': 'Bayesian', 'auto_class_weights': 'SqrtBalanced', 'bagging_temperature': 3.275211709283078}. Best is trial 12 with value: 0.7350394177554197.\n",
      "[I 2024-04-07 08:08:05,398] Trial 38 finished with value: 0.7258221674966487 and parameters: {'objective': 'Logloss', 'iterations': 785, 'learning_rate': 0.012883245671941183, 'colsample_bylevel': 0.042231362536565925, 'depth': 8, 'boosting_type': 'Ordered', 'bootstrap_type': 'Bernoulli', 'auto_class_weights': 'Balanced', 'subsample': 0.7414596517465798}. Best is trial 12 with value: 0.7350394177554197.\n",
      "[I 2024-04-07 08:08:21,837] Trial 39 finished with value: 0.7311215408444302 and parameters: {'objective': 'Logloss', 'iterations': 899, 'learning_rate': 0.019702014522998045, 'colsample_bylevel': 0.03242365169180307, 'depth': 6, 'boosting_type': 'Plain', 'bootstrap_type': 'Bernoulli', 'auto_class_weights': 'SqrtBalanced', 'subsample': 0.4666917139508102}. Best is trial 12 with value: 0.7350394177554197.\n",
      "[I 2024-04-07 08:08:33,998] Trial 40 finished with value: 0.731360598514774 and parameters: {'objective': 'Logloss', 'iterations': 680, 'learning_rate': 0.033198835557867915, 'colsample_bylevel': 0.04748067401296276, 'depth': 4, 'boosting_type': 'Plain', 'bootstrap_type': 'Bayesian', 'auto_class_weights': 'Balanced', 'bagging_temperature': 0.3165702128330574}. Best is trial 12 with value: 0.7350394177554197.\n"
     ]
    },
    {
     "name": "stderr",
     "output_type": "stream",
     "text": [
      "[I 2024-04-07 08:08:54,115] Trial 41 finished with value: 0.7292287107548477 and parameters: {'objective': 'Logloss', 'iterations': 928, 'learning_rate': 0.07740494645082573, 'colsample_bylevel': 0.05253838175758507, 'depth': 6, 'boosting_type': 'Plain', 'bootstrap_type': 'Bernoulli', 'auto_class_weights': 'SqrtBalanced', 'subsample': 0.8420216746036443}. Best is trial 12 with value: 0.7350394177554197.\n",
      "[I 2024-04-07 08:09:11,911] Trial 42 finished with value: 0.7334001386534488 and parameters: {'objective': 'Logloss', 'iterations': 964, 'learning_rate': 0.04811477978726596, 'colsample_bylevel': 0.04035135832124018, 'depth': 5, 'boosting_type': 'Plain', 'bootstrap_type': 'Bernoulli', 'auto_class_weights': 'SqrtBalanced', 'subsample': 0.8441143556984673}. Best is trial 12 with value: 0.7350394177554197.\n",
      "[I 2024-04-07 08:09:31,143] Trial 43 finished with value: 0.731660583778831 and parameters: {'objective': 'Logloss', 'iterations': 939, 'learning_rate': 0.06030194473221258, 'colsample_bylevel': 0.033704289861068826, 'depth': 6, 'boosting_type': 'Plain', 'bootstrap_type': 'Bernoulli', 'auto_class_weights': 'SqrtBalanced', 'subsample': 0.9261069325988357}. Best is trial 12 with value: 0.7350394177554197.\n",
      "[I 2024-04-07 08:09:49,595] Trial 44 finished with value: 0.7334638493066079 and parameters: {'objective': 'Logloss', 'iterations': 981, 'learning_rate': 0.04092541360585736, 'colsample_bylevel': 0.08358346775659138, 'depth': 5, 'boosting_type': 'Plain', 'bootstrap_type': 'Bernoulli', 'auto_class_weights': 'SqrtBalanced', 'subsample': 0.5510037859521855}. Best is trial 12 with value: 0.7350394177554197.\n",
      "[I 2024-04-07 08:10:10,963] Trial 45 finished with value: 0.723537104426456 and parameters: {'objective': 'Logloss', 'iterations': 883, 'learning_rate': 0.08480479357559836, 'colsample_bylevel': 0.05151816858312192, 'depth': 7, 'boosting_type': 'Plain', 'bootstrap_type': 'Bernoulli', 'auto_class_weights': 'Balanced', 'subsample': 0.7591033096114133}. Best is trial 12 with value: 0.7350394177554197.\n",
      "[I 2024-04-07 08:12:07,301] Trial 46 finished with value: 0.7307031256968798 and parameters: {'objective': 'Logloss', 'iterations': 909, 'learning_rate': 0.024841066591355754, 'colsample_bylevel': 0.07390144065627476, 'depth': 6, 'boosting_type': 'Ordered', 'bootstrap_type': 'Bernoulli', 'auto_class_weights': 'SqrtBalanced', 'subsample': 0.6699683431647716}. Best is trial 12 with value: 0.7350394177554197.\n",
      "[I 2024-04-07 08:12:17,332] Trial 47 finished with value: 0.72598075193271 and parameters: {'objective': 'Logloss', 'iterations': 508, 'learning_rate': 0.017839180333719215, 'colsample_bylevel': 0.06994552846011573, 'depth': 4, 'boosting_type': 'Plain', 'bootstrap_type': 'Bernoulli', 'auto_class_weights': 'SqrtBalanced', 'subsample': 0.9982721038063447}. Best is trial 12 with value: 0.7350394177554197.\n",
      "[I 2024-04-07 08:12:36,545] Trial 48 finished with value: 0.7202437745993018 and parameters: {'objective': 'Logloss', 'iterations': 848, 'learning_rate': 0.03789613167595618, 'colsample_bylevel': 0.059324107056005757, 'depth': 6, 'boosting_type': 'Plain', 'bootstrap_type': 'Bayesian', 'auto_class_weights': 'Balanced', 'bagging_temperature': 6.915071069465657}. Best is trial 12 with value: 0.7350394177554197.\n",
      "[I 2024-04-07 08:12:56,695] Trial 49 finished with value: 0.7328977250629847 and parameters: {'objective': 'Logloss', 'iterations': 975, 'learning_rate': 0.04401445408708108, 'colsample_bylevel': 0.06400619492484971, 'depth': 5, 'boosting_type': 'Plain', 'bootstrap_type': 'Bernoulli', 'auto_class_weights': 'SqrtBalanced', 'subsample': 0.9318036139143216}. Best is trial 12 with value: 0.7350394177554197.\n",
      "[I 2024-04-07 08:13:10,517] Trial 50 finished with value: 0.727893819859698 and parameters: {'objective': 'Logloss', 'iterations': 590, 'learning_rate': 0.060769302551945875, 'colsample_bylevel': 0.052506097585644146, 'depth': 7, 'boosting_type': 'Plain', 'bootstrap_type': 'Bernoulli', 'auto_class_weights': 'SqrtBalanced', 'subsample': 0.5773817489485795}. Best is trial 12 with value: 0.7350394177554197.\n",
      "[I 2024-04-07 08:13:29,863] Trial 51 finished with value: 0.7350621532102769 and parameters: {'objective': 'Logloss', 'iterations': 999, 'learning_rate': 0.02761958171142893, 'colsample_bylevel': 0.045802838394434324, 'depth': 5, 'boosting_type': 'Plain', 'bootstrap_type': 'Bernoulli', 'auto_class_weights': 'SqrtBalanced', 'subsample': 0.8929474543441441}. Best is trial 51 with value: 0.7350621532102769.\n",
      "[I 2024-04-07 08:13:50,815] Trial 52 finished with value: 0.7336447909868836 and parameters: {'objective': 'Logloss', 'iterations': 989, 'learning_rate': 0.03249430788840297, 'colsample_bylevel': 0.04699461791969539, 'depth': 6, 'boosting_type': 'Plain', 'bootstrap_type': 'Bernoulli', 'auto_class_weights': 'SqrtBalanced', 'subsample': 0.8390869478678735}. Best is trial 51 with value: 0.7350621532102769.\n",
      "[I 2024-04-07 08:14:06,379] Trial 53 finished with value: 0.7306589963645395 and parameters: {'objective': 'Logloss', 'iterations': 944, 'learning_rate': 0.020544584118453488, 'colsample_bylevel': 0.04489726298165851, 'depth': 5, 'boosting_type': 'Plain', 'bootstrap_type': 'Bernoulli', 'auto_class_weights': 'SqrtBalanced', 'subsample': 0.3614741211022583}. Best is trial 51 with value: 0.7350621532102769.\n",
      "[I 2024-04-07 08:14:23,870] Trial 54 finished with value: 0.7342003610127624 and parameters: {'objective': 'Logloss', 'iterations': 997, 'learning_rate': 0.026092453603151145, 'colsample_bylevel': 0.03606734889073815, 'depth': 4, 'boosting_type': 'Plain', 'bootstrap_type': 'Bernoulli', 'auto_class_weights': 'SqrtBalanced', 'subsample': 0.9578728424876427}. Best is trial 51 with value: 0.7350621532102769.\n",
      "[I 2024-04-07 08:14:40,930] Trial 55 finished with value: 0.7308871001983466 and parameters: {'objective': 'Logloss', 'iterations': 1000, 'learning_rate': 0.015254300521315987, 'colsample_bylevel': 0.035687798864180956, 'depth': 4, 'boosting_type': 'Plain', 'bootstrap_type': 'Bernoulli', 'auto_class_weights': 'SqrtBalanced', 'subsample': 0.9723136970222225}. Best is trial 51 with value: 0.7350621532102769.\n",
      "[I 2024-04-07 08:14:57,272] Trial 56 finished with value: 0.7338773120355546 and parameters: {'objective': 'Logloss', 'iterations': 980, 'learning_rate': 0.0258688142951363, 'colsample_bylevel': 0.029272620204649893, 'depth': 4, 'boosting_type': 'Plain', 'bootstrap_type': 'Bernoulli', 'auto_class_weights': 'SqrtBalanced', 'subsample': 0.9499699662943513}. Best is trial 51 with value: 0.7350621532102769.\n",
      "[I 2024-04-07 08:15:13,544] Trial 57 finished with value: 0.7323314152820649 and parameters: {'objective': 'Logloss', 'iterations': 976, 'learning_rate': 0.02653838053907141, 'colsample_bylevel': 0.02785385747913926, 'depth': 4, 'boosting_type': 'Plain', 'bootstrap_type': 'Bernoulli', 'auto_class_weights': 'SqrtBalanced', 'subsample': 0.9471555353459647}. Best is trial 51 with value: 0.7350621532102769.\n",
      "[I 2024-04-07 08:15:29,035] Trial 58 finished with value: 0.7206125870642685 and parameters: {'objective': 'Logloss', 'iterations': 959, 'learning_rate': 0.009802364940164942, 'colsample_bylevel': 0.019587617034262393, 'depth': 4, 'boosting_type': 'Plain', 'bootstrap_type': 'Bernoulli', 'auto_class_weights': 'SqrtBalanced', 'subsample': 0.9883216189787374}. Best is trial 51 with value: 0.7350621532102769.\n",
      "[I 2024-04-07 08:17:27,202] Trial 59 finished with value: 0.7277024880908247 and parameters: {'objective': 'Logloss', 'iterations': 1000, 'learning_rate': 0.03227661926931705, 'colsample_bylevel': 0.02038215662949533, 'depth': 4, 'boosting_type': 'Ordered', 'bootstrap_type': 'Bernoulli', 'auto_class_weights': 'Balanced', 'subsample': 0.8949355218155337}. Best is trial 51 with value: 0.7350621532102769.\n",
      "[I 2024-04-07 08:17:40,990] Trial 60 finished with value: 0.7254804077967053 and parameters: {'objective': 'Logloss', 'iterations': 941, 'learning_rate': 0.02933436453551069, 'colsample_bylevel': 0.012635925172849668, 'depth': 5, 'boosting_type': 'Plain', 'bootstrap_type': 'Bernoulli', 'auto_class_weights': 'SqrtBalanced', 'subsample': 0.10819860447815582}. Best is trial 51 with value: 0.7350621532102769.\n",
      "[I 2024-04-07 08:17:58,980] Trial 61 finished with value: 0.7338974214240629 and parameters: {'objective': 'Logloss', 'iterations': 982, 'learning_rate': 0.019352982026595123, 'colsample_bylevel': 0.041290585208781906, 'depth': 5, 'boosting_type': 'Plain', 'bootstrap_type': 'Bernoulli', 'auto_class_weights': 'SqrtBalanced', 'subsample': 0.7899245960738096}. Best is trial 51 with value: 0.7350621532102769.\n"
     ]
    },
    {
     "name": "stderr",
     "output_type": "stream",
     "text": [
      "[I 2024-04-07 08:18:16,114] Trial 62 finished with value: 0.7324221501560476 and parameters: {'objective': 'Logloss', 'iterations': 978, 'learning_rate': 0.018028368963517578, 'colsample_bylevel': 0.03098621983710981, 'depth': 5, 'boosting_type': 'Plain', 'bootstrap_type': 'Bernoulli', 'auto_class_weights': 'SqrtBalanced', 'subsample': 0.7838564829604274}. Best is trial 51 with value: 0.7350621532102769.\n",
      "[I 2024-04-07 08:18:32,244] Trial 63 finished with value: 0.7338453353961275 and parameters: {'objective': 'Logloss', 'iterations': 957, 'learning_rate': 0.03629754241775261, 'colsample_bylevel': 0.03486845594216642, 'depth': 4, 'boosting_type': 'Plain', 'bootstrap_type': 'Bernoulli', 'auto_class_weights': 'SqrtBalanced', 'subsample': 0.8793741830908532}. Best is trial 51 with value: 0.7350621532102769.\n",
      "[I 2024-04-07 08:18:51,217] Trial 64 finished with value: 0.7303446319600123 and parameters: {'objective': 'Logloss', 'iterations': 983, 'learning_rate': 0.013811037603649245, 'colsample_bylevel': 0.04066107248180782, 'depth': 5, 'boosting_type': 'Plain', 'bootstrap_type': 'Bernoulli', 'auto_class_weights': 'SqrtBalanced', 'subsample': 0.9623826389672406}. Best is trial 51 with value: 0.7350621532102769.\n",
      "[I 2024-04-07 08:19:07,812] Trial 65 finished with value: 0.732296391549347 and parameters: {'objective': 'Logloss', 'iterations': 932, 'learning_rate': 0.02132773844903321, 'colsample_bylevel': 0.044618060807219445, 'depth': 4, 'boosting_type': 'Plain', 'bootstrap_type': 'Bernoulli', 'auto_class_weights': 'SqrtBalanced', 'subsample': 0.917173610577674}. Best is trial 51 with value: 0.7350621532102769.\n",
      "[I 2024-04-07 08:19:28,171] Trial 66 finished with value: 0.7341205228869175 and parameters: {'objective': 'Logloss', 'iterations': 954, 'learning_rate': 0.02658655201896251, 'colsample_bylevel': 0.09315074630029298, 'depth': 5, 'boosting_type': 'Plain', 'bootstrap_type': 'Bernoulli', 'auto_class_weights': 'SqrtBalanced', 'subsample': 0.8025033888710885}. Best is trial 51 with value: 0.7350621532102769.\n",
      "[I 2024-04-07 08:19:48,442] Trial 67 finished with value: 0.7288869581909543 and parameters: {'objective': 'Logloss', 'iterations': 916, 'learning_rate': 0.05702195545986297, 'colsample_bylevel': 0.08919958590598727, 'depth': 5, 'boosting_type': 'Plain', 'bootstrap_type': 'Bayesian', 'auto_class_weights': 'SqrtBalanced', 'bagging_temperature': 3.704966160069261}. Best is trial 51 with value: 0.7350621532102769.\n",
      "[I 2024-04-07 08:20:09,185] Trial 68 finished with value: 0.7331920086232026 and parameters: {'objective': 'Logloss', 'iterations': 953, 'learning_rate': 0.039578273145822074, 'colsample_bylevel': 0.09618552126983095, 'depth': 5, 'boosting_type': 'Plain', 'bootstrap_type': 'Bernoulli', 'auto_class_weights': 'SqrtBalanced', 'subsample': 0.7972412540018597}. Best is trial 51 with value: 0.7350621532102769.\n",
      "[I 2024-04-07 08:20:29,907] Trial 69 finished with value: 0.7329309719192869 and parameters: {'objective': 'Logloss', 'iterations': 964, 'learning_rate': 0.016879003136866935, 'colsample_bylevel': 0.09270880853947117, 'depth': 5, 'boosting_type': 'Plain', 'bootstrap_type': 'Bernoulli', 'auto_class_weights': 'SqrtBalanced', 'subsample': 0.7761389926946898}. Best is trial 51 with value: 0.7350621532102769.\n",
      "[I 2024-04-07 08:22:19,432] Trial 70 finished with value: 0.7318744868734147 and parameters: {'objective': 'Logloss', 'iterations': 877, 'learning_rate': 0.028009217988620806, 'colsample_bylevel': 0.0499147766228943, 'depth': 5, 'boosting_type': 'Ordered', 'bootstrap_type': 'Bernoulli', 'auto_class_weights': 'SqrtBalanced', 'subsample': 0.8671558884872894}. Best is trial 51 with value: 0.7350621532102769.\n",
      "[I 2024-04-07 08:22:35,094] Trial 71 finished with value: 0.7343059816867553 and parameters: {'objective': 'Logloss', 'iterations': 988, 'learning_rate': 0.02619835428207531, 'colsample_bylevel': 0.024445609622551077, 'depth': 4, 'boosting_type': 'Plain', 'bootstrap_type': 'Bernoulli', 'auto_class_weights': 'SqrtBalanced', 'subsample': 0.9002246915691967}. Best is trial 51 with value: 0.7350621532102769.\n",
      "[I 2024-04-07 08:23:48,540] Trial 72 finished with value: 0.7194474770674117 and parameters: {'objective': 'Logloss', 'iterations': 989, 'learning_rate': 0.03204223759540483, 'colsample_bylevel': 0.054227094039537356, 'depth': 11, 'boosting_type': 'Plain', 'bootstrap_type': 'Bernoulli', 'auto_class_weights': 'SqrtBalanced', 'subsample': 0.901474412185348}. Best is trial 51 with value: 0.7350621532102769.\n",
      "[I 2024-04-07 08:24:05,411] Trial 73 finished with value: 0.7265440859808376 and parameters: {'objective': 'Logloss', 'iterations': 1000, 'learning_rate': 0.011767452547833762, 'colsample_bylevel': 0.037368314351383505, 'depth': 4, 'boosting_type': 'Plain', 'bootstrap_type': 'Bernoulli', 'auto_class_weights': 'SqrtBalanced', 'subsample': 0.809674235280842}. Best is trial 51 with value: 0.7350621532102769.\n",
      "[I 2024-04-07 08:24:21,617] Trial 74 finished with value: 0.7304324553256518 and parameters: {'objective': 'Logloss', 'iterations': 947, 'learning_rate': 0.01934605700822002, 'colsample_bylevel': 0.02437525197117735, 'depth': 5, 'boosting_type': 'Plain', 'bootstrap_type': 'Bernoulli', 'auto_class_weights': 'SqrtBalanced', 'subsample': 0.6844057328022807}. Best is trial 51 with value: 0.7350621532102769.\n",
      "[I 2024-04-07 08:24:38,385] Trial 75 finished with value: 0.733630347621965 and parameters: {'objective': 'Logloss', 'iterations': 966, 'learning_rate': 0.022854125853387166, 'colsample_bylevel': 0.046236251075361584, 'depth': 4, 'boosting_type': 'Plain', 'bootstrap_type': 'Bernoulli', 'auto_class_weights': 'SqrtBalanced', 'subsample': 0.8609428550210682}. Best is trial 51 with value: 0.7350621532102769.\n",
      "[I 2024-04-07 08:24:57,572] Trial 76 finished with value: 0.732209531550439 and parameters: {'objective': 'Logloss', 'iterations': 932, 'learning_rate': 0.04696255335356668, 'colsample_bylevel': 0.04184936119609635, 'depth': 6, 'boosting_type': 'Plain', 'bootstrap_type': 'Bernoulli', 'auto_class_weights': 'SqrtBalanced', 'subsample': 0.7435368563773967}. Best is trial 51 with value: 0.7350621532102769.\n",
      "[I 2024-04-07 08:25:19,034] Trial 77 finished with value: 0.7342952347956646 and parameters: {'objective': 'Logloss', 'iterations': 988, 'learning_rate': 0.03007984108064567, 'colsample_bylevel': 0.08133398385785551, 'depth': 5, 'boosting_type': 'Plain', 'bootstrap_type': 'Bernoulli', 'auto_class_weights': 'SqrtBalanced', 'subsample': 0.9042588499117812}. Best is trial 51 with value: 0.7350621532102769.\n",
      "[I 2024-04-07 08:25:38,026] Trial 78 finished with value: 0.7154035846519267 and parameters: {'objective': 'Logloss', 'iterations': 989, 'learning_rate': 0.004057637731814898, 'colsample_bylevel': 0.08138683467222525, 'depth': 4, 'boosting_type': 'Plain', 'bootstrap_type': 'Bayesian', 'auto_class_weights': 'Balanced', 'bagging_temperature': 1.6311403772345634}. Best is trial 51 with value: 0.7350621532102769.\n",
      "[I 2024-04-07 08:25:58,808] Trial 79 finished with value: 0.7353186656585808 and parameters: {'objective': 'Logloss', 'iterations': 969, 'learning_rate': 0.029378507973836305, 'colsample_bylevel': 0.07701887651050968, 'depth': 5, 'boosting_type': 'Plain', 'bootstrap_type': 'Bernoulli', 'auto_class_weights': 'SqrtBalanced', 'subsample': 0.9138466226668562}. Best is trial 79 with value: 0.7353186656585808.\n",
      "[I 2024-04-07 08:26:17,006] Trial 80 finished with value: 0.7344640095109273 and parameters: {'objective': 'Logloss', 'iterations': 819, 'learning_rate': 0.03486899259786163, 'colsample_bylevel': 0.07773613441713713, 'depth': 5, 'boosting_type': 'Plain', 'bootstrap_type': 'Bernoulli', 'auto_class_weights': 'SqrtBalanced', 'subsample': 0.9663789546506931}. Best is trial 79 with value: 0.7353186656585808.\n",
      "[I 2024-04-07 08:26:33,669] Trial 81 finished with value: 0.734606445066153 and parameters: {'objective': 'Logloss', 'iterations': 757, 'learning_rate': 0.038183324929717634, 'colsample_bylevel': 0.07653097536633556, 'depth': 5, 'boosting_type': 'Plain', 'bootstrap_type': 'Bernoulli', 'auto_class_weights': 'SqrtBalanced', 'subsample': 0.9611783835701032}. Best is trial 79 with value: 0.7353186656585808.\n",
      "[I 2024-04-07 08:26:52,712] Trial 82 finished with value: 0.7337219316858812 and parameters: {'objective': 'Logloss', 'iterations': 759, 'learning_rate': 0.04226597796197178, 'colsample_bylevel': 0.07766993401338496, 'depth': 6, 'boosting_type': 'Plain', 'bootstrap_type': 'Bernoulli', 'auto_class_weights': 'SqrtBalanced', 'subsample': 0.9728940678600912}. Best is trial 79 with value: 0.7353186656585808.\n"
     ]
    },
    {
     "name": "stderr",
     "output_type": "stream",
     "text": [
      "[I 2024-04-07 08:27:10,092] Trial 83 finished with value: 0.7347476603568524 and parameters: {'objective': 'Logloss', 'iterations': 811, 'learning_rate': 0.03592929706668658, 'colsample_bylevel': 0.07235186287940025, 'depth': 5, 'boosting_type': 'Plain', 'bootstrap_type': 'Bernoulli', 'auto_class_weights': 'SqrtBalanced', 'subsample': 0.9039324659480216}. Best is trial 79 with value: 0.7353186656585808.\n",
      "[I 2024-04-07 08:27:25,108] Trial 84 finished with value: 0.7297612527478252 and parameters: {'objective': 'Logloss', 'iterations': 810, 'learning_rate': 0.052417960719843185, 'colsample_bylevel': 0.07085451505449168, 'depth': 6, 'boosting_type': 'Plain', 'bootstrap_type': 'Bernoulli', 'auto_class_weights': 'SqrtBalanced', 'subsample': 0.15742125019971437}. Best is trial 79 with value: 0.7353186656585808.\n",
      "[I 2024-04-07 08:27:41,771] Trial 85 finished with value: 0.7314064904514301 and parameters: {'objective': 'Logloss', 'iterations': 778, 'learning_rate': 0.07017456842283602, 'colsample_bylevel': 0.0728046311094892, 'depth': 5, 'boosting_type': 'Plain', 'bootstrap_type': 'Bernoulli', 'auto_class_weights': 'SqrtBalanced', 'subsample': 0.9084556498339694}. Best is trial 79 with value: 0.7353186656585808.\n",
      "[I 2024-04-07 08:28:02,813] Trial 86 finished with value: 0.7322816627424339 and parameters: {'objective': 'Logloss', 'iterations': 825, 'learning_rate': 0.038675361768911294, 'colsample_bylevel': 0.08336721189248396, 'depth': 6, 'boosting_type': 'Plain', 'bootstrap_type': 'Bernoulli', 'auto_class_weights': 'SqrtBalanced', 'subsample': 0.9984311669754163}. Best is trial 79 with value: 0.7353186656585808.\n",
      "[I 2024-04-07 08:28:18,895] Trial 87 finished with value: 0.7337890034185248 and parameters: {'objective': 'Logloss', 'iterations': 735, 'learning_rate': 0.03555072467800532, 'colsample_bylevel': 0.07684867079622715, 'depth': 5, 'boosting_type': 'Plain', 'bootstrap_type': 'Bernoulli', 'auto_class_weights': 'SqrtBalanced', 'subsample': 0.933529980841465}. Best is trial 79 with value: 0.7353186656585808.\n",
      "[I 2024-04-07 08:29:52,857] Trial 88 finished with value: 0.731856960734956 and parameters: {'objective': 'Logloss', 'iterations': 705, 'learning_rate': 0.046413808419503474, 'colsample_bylevel': 0.08610981557431292, 'depth': 5, 'boosting_type': 'Ordered', 'bootstrap_type': 'Bernoulli', 'auto_class_weights': 'SqrtBalanced', 'subsample': 0.8750128653092987}. Best is trial 79 with value: 0.7353186656585808.\n",
      "[I 2024-04-07 08:30:08,046] Trial 89 finished with value: 0.7348140827089588 and parameters: {'objective': 'Logloss', 'iterations': 705, 'learning_rate': 0.02961033753157844, 'colsample_bylevel': 0.06807222727390058, 'depth': 5, 'boosting_type': 'Plain', 'bootstrap_type': 'Bernoulli', 'auto_class_weights': 'SqrtBalanced', 'subsample': 0.9079702503833617}. Best is trial 79 with value: 0.7353186656585808.\n",
      "[I 2024-04-07 08:30:27,205] Trial 90 finished with value: 0.7254321823717447 and parameters: {'objective': 'Logloss', 'iterations': 800, 'learning_rate': 0.05575046549764854, 'colsample_bylevel': 0.06709600720888628, 'depth': 6, 'boosting_type': 'Plain', 'bootstrap_type': 'Bayesian', 'auto_class_weights': 'SqrtBalanced', 'bagging_temperature': 4.825213636969915}. Best is trial 79 with value: 0.7353186656585808.\n",
      "[I 2024-04-07 08:30:42,151] Trial 91 finished with value: 0.7328250301230506 and parameters: {'objective': 'Logloss', 'iterations': 669, 'learning_rate': 0.03002481344537922, 'colsample_bylevel': 0.08000093582065432, 'depth': 5, 'boosting_type': 'Plain', 'bootstrap_type': 'Bernoulli', 'auto_class_weights': 'SqrtBalanced', 'subsample': 0.9101258623486379}. Best is trial 79 with value: 0.7353186656585808.\n",
      "[I 2024-04-07 08:30:58,291] Trial 92 finished with value: 0.7350994390708007 and parameters: {'objective': 'Logloss', 'iterations': 692, 'learning_rate': 0.0371112679635287, 'colsample_bylevel': 0.07210821646225783, 'depth': 5, 'boosting_type': 'Plain', 'bootstrap_type': 'Bernoulli', 'auto_class_weights': 'SqrtBalanced', 'subsample': 0.9497645203597671}. Best is trial 79 with value: 0.7353186656585808.\n",
      "[I 2024-04-07 08:31:12,687] Trial 93 finished with value: 0.7336112872327861 and parameters: {'objective': 'Logloss', 'iterations': 648, 'learning_rate': 0.03562229662969075, 'colsample_bylevel': 0.07296840124983195, 'depth': 5, 'boosting_type': 'Plain', 'bootstrap_type': 'Bernoulli', 'auto_class_weights': 'SqrtBalanced', 'subsample': 0.9476819533888323}. Best is trial 79 with value: 0.7353186656585808.\n",
      "[I 2024-04-07 08:31:30,925] Trial 94 finished with value: 0.7338705470602864 and parameters: {'objective': 'Logloss', 'iterations': 729, 'learning_rate': 0.041923063048951874, 'colsample_bylevel': 0.06469144175379135, 'depth': 6, 'boosting_type': 'Plain', 'bootstrap_type': 'Bernoulli', 'auto_class_weights': 'SqrtBalanced', 'subsample': 0.974488931293683}. Best is trial 79 with value: 0.7353186656585808.\n",
      "[I 2024-04-07 08:31:49,117] Trial 95 finished with value: 0.7362361190450111 and parameters: {'objective': 'Logloss', 'iterations': 716, 'learning_rate': 0.03399818621006923, 'colsample_bylevel': 0.07504240747734316, 'depth': 5, 'boosting_type': 'Plain', 'bootstrap_type': 'Bernoulli', 'auto_class_weights': 'SqrtBalanced', 'subsample': 0.859444633361837}. Best is trial 95 with value: 0.7362361190450111.\n",
      "[I 2024-04-07 08:32:07,545] Trial 96 finished with value: 0.7296304560899228 and parameters: {'objective': 'Logloss', 'iterations': 703, 'learning_rate': 0.04957491249636629, 'colsample_bylevel': 0.07562336679458341, 'depth': 5, 'boosting_type': 'Plain', 'bootstrap_type': 'Bernoulli', 'auto_class_weights': 'Balanced', 'subsample': 0.9293367504836371}. Best is trial 95 with value: 0.7362361190450111.\n",
      "[I 2024-04-07 08:32:22,325] Trial 97 finished with value: 0.7328213051050231 and parameters: {'objective': 'Logloss', 'iterations': 695, 'learning_rate': 0.033456300935526415, 'colsample_bylevel': 0.068399912184808, 'depth': 5, 'boosting_type': 'Plain', 'bootstrap_type': 'Bernoulli', 'auto_class_weights': 'SqrtBalanced', 'subsample': 0.8497188658924965}. Best is trial 95 with value: 0.7362361190450111.\n",
      "[I 2024-04-07 08:32:47,186] Trial 98 finished with value: 0.7281839431028473 and parameters: {'objective': 'Logloss', 'iterations': 764, 'learning_rate': 0.06365595850517679, 'colsample_bylevel': 0.07121927928285474, 'depth': 8, 'boosting_type': 'Plain', 'bootstrap_type': 'Bernoulli', 'auto_class_weights': 'SqrtBalanced', 'subsample': 0.9524660354408404}. Best is trial 95 with value: 0.7362361190450111.\n",
      "[I 2024-04-07 08:33:05,907] Trial 99 finished with value: 0.69590091023884 and parameters: {'objective': 'Logloss', 'iterations': 746, 'learning_rate': 0.0022626277538389007, 'colsample_bylevel': 0.07910940976105639, 'depth': 6, 'boosting_type': 'Plain', 'bootstrap_type': 'Bernoulli', 'auto_class_weights': 'SqrtBalanced', 'subsample': 0.9856013780928696}. Best is trial 95 with value: 0.7362361190450111.\n"
     ]
    }
   ],
   "source": [
    "def objective(trial):\n",
    "    params = {\n",
    "              \"objective\": trial.suggest_categorical(\"objective\", [\"Logloss\"]),\n",
    "              \"iterations\": trial.suggest_int(\"iterations\", 500, 1000),\n",
    "              \"learning_rate\": trial.suggest_float(\"learning_rate\", 1e-3, 1e-1, log=True),\n",
    "              \"colsample_bylevel\": trial.suggest_float(\"colsample_bylevel\", 0.01, 0.1),\n",
    "              \"depth\": trial.suggest_int(\"depth\", 4, 12),\n",
    "              \"boosting_type\": trial.suggest_categorical(\"boosting_type\", [\"Ordered\", \"Plain\"]),\n",
    "              \"bootstrap_type\": trial.suggest_categorical(\"bootstrap_type\", [\"Bayesian\", \"Bernoulli\"]),\n",
    "              \"auto_class_weights\": trial.suggest_categorical(\"auto_class_weights\", [\"Balanced\", \"SqrtBalanced\"]),\n",
    "              \"verbose\": False\n",
    "    }\n",
    "\n",
    "    if params[\"bootstrap_type\"] == \"Bayesian\":\n",
    "        params[\"bagging_temperature\"] = trial.suggest_float(\"bagging_temperature\", 0, 10)\n",
    "    elif params[\"bootstrap_type\"] == \"Bernoulli\":\n",
    "        params[\"subsample\"] = trial.suggest_float(\"subsample\", 0.1, 1)\n",
    "    \n",
    "    \n",
    "    cat_model = CatBoostClassifier(**params)\n",
    "    cat_model.fit(X_train_short, y_train_short, eval_set=[(X_test_short, y_test_short)], verbose=False)\n",
    "\n",
    "    return roc_auc_score(y_test_short, cat_model.predict_proba(X_test_short)[:, 1])\n",
    "\n",
    "\n",
    "study = optuna.create_study(direction=\"maximize\")\n",
    "study.optimize(objective, n_trials=100)"
   ]
  },
  {
   "cell_type": "code",
   "execution_count": 79,
   "id": "8a3e00e7",
   "metadata": {
    "ExecuteTime": {
     "end_time": "2024-04-07T06:33:05.917232Z",
     "start_time": "2024-04-07T06:33:05.911248Z"
    },
    "hidden": true
   },
   "outputs": [
    {
     "name": "stdout",
     "output_type": "stream",
     "text": [
      "Best trial value: 0.7362361190450111\n",
      "Best Params:\n",
      "    objective: Logloss\n",
      "    iterations: 716\n",
      "    learning_rate: 0.03399818621006923\n",
      "    colsample_bylevel: 0.07504240747734316\n",
      "    depth: 5\n",
      "    boosting_type: Plain\n",
      "    bootstrap_type: Bernoulli\n",
      "    auto_class_weights: SqrtBalanced\n",
      "    subsample: 0.859444633361837\n"
     ]
    }
   ],
   "source": [
    "trial = study.best_trial\n",
    "print(f'Best trial value:', trial.value)\n",
    "\n",
    "print('Best Params:')\n",
    "for key, value in trial.params.items():\n",
    "    print(f'    {key}: {value}')"
   ]
  },
  {
   "cell_type": "code",
   "execution_count": 81,
   "id": "27773e98",
   "metadata": {
    "ExecuteTime": {
     "end_time": "2024-04-07T06:34:54.204020Z",
     "start_time": "2024-04-07T06:34:30.374878Z"
    },
    "hidden": true
   },
   "outputs": [
    {
     "data": {
      "application/vnd.jupyter.widget-view+json": {
       "model_id": "5ca4ce4bf0b44c828f7944b37f20d8fe",
       "version_major": 2,
       "version_minor": 0
      },
      "text/plain": [
       "MetricVisualizer(layout=Layout(align_self='stretch', height='500px'))"
      ]
     },
     "metadata": {},
     "output_type": "display_data"
    },
    {
     "name": "stdout",
     "output_type": "stream",
     "text": [
      "ROC-AUC train for CatBoostClassifier: 0.8157781266548771\n",
      "ROC-AUC test for CatBoostClassifier: 0.7340018931940281\n",
      "\n",
      "Precision train_set for CatBoostClassifier: 0.5012562814070352\n",
      "Precision test_set for CatBoostClassifier: 0.21739130434782608\n",
      "\n",
      "Recall train_set for CatBoostClassifier: 0.10583554376657825\n",
      "Recall test_set for CatBoostClassifier: 0.04024767801857585\n",
      "\n",
      "Confusion_matrix test_set for CatBoostClassifier:\n",
      " [[43151   234]\n",
      " [ 1550    65]]\n"
     ]
    }
   ],
   "source": [
    "cat_model = CatBoostClassifier(objective='Logloss', iterations=1000, eval_metric ='AUC', auto_class_weights='SqrtBalanced',\n",
    "                               learning_rate=0.034, colsample_bylevel=0.075, depth=5, boosting_type='Plain',\n",
    "                               bootstrap_type='Bernoulli', subsample=0.859, random_seed=42)\n",
    "\n",
    "cat_model.fit(X_train_short, y_train_short, eval_set=(X_test_short, y_test_short), verbose=False, plot=True)\n",
    "\n",
    "pred_cat_model_train = cat_model.predict(X_train_short)\n",
    "pred_cat_model_test = cat_model.predict(X_test_short)\n",
    "\n",
    "print(\n",
    "    f'ROC-AUC train for CatBoostClassifier: {roc_auc_score(y_train_short, cat_model.predict_proba(X_train_short)[:, 1])}\\n'\n",
    "    f'ROC-AUC test for CatBoostClassifier: {roc_auc_score(y_test_short, cat_model.predict_proba(X_test_short)[:, 1])}\\n\\n'\n",
    "    f'Precision train_set for CatBoostClassifier: {precision_score(y_train_short, pred_cat_model_train)}\\n'\n",
    "    f'Precision test_set for CatBoostClassifier: {precision_score(y_test_short, pred_cat_model_test)}\\n\\n'\n",
    "    f'Recall train_set for CatBoostClassifier: {recall_score(y_train_short, pred_cat_model_train)}\\n'\n",
    "    f'Recall test_set for CatBoostClassifier: {recall_score(y_test_short, pred_cat_model_test)}\\n\\n'\n",
    "    f'Confusion_matrix test_set for CatBoostClassifier:\\n {confusion_matrix(y_test_short, pred_cat_model_test)}'\n",
    "    )"
   ]
  },
  {
   "cell_type": "markdown",
   "id": "a4006506",
   "metadata": {
    "heading_collapsed": true,
    "hidden": true
   },
   "source": [
    "### 2.4.2. Best Cat Boost Classifier"
   ]
  },
  {
   "cell_type": "code",
   "execution_count": 82,
   "id": "82eea7d8",
   "metadata": {
    "ExecuteTime": {
     "end_time": "2024-04-09T17:55:11.359814Z",
     "start_time": "2024-04-09T17:30:41.873007Z"
    },
    "hidden": true
   },
   "outputs": [
    {
     "data": {
      "application/vnd.jupyter.widget-view+json": {
       "model_id": "a328705f535446d7a16a67cea1c8f85d",
       "version_major": 2,
       "version_minor": 0
      },
      "text/plain": [
       "MetricVisualizer(layout=Layout(align_self='stretch', height='500px'))"
      ]
     },
     "metadata": {},
     "output_type": "display_data"
    },
    {
     "name": "stdout",
     "output_type": "stream",
     "text": [
      "ROC-AUC train for CatBoostClassifier: 0.7910349597297153\n",
      "ROC-AUC test for CatBoostClassifier: 0.7630153156311499\n",
      "\n",
      "Precision train_set for CatBoostClassifier: 0.08261872507504534\n",
      "Precision test_set for CatBoostClassifier: 0.07714441451168251\n",
      "\n",
      "Recall train_set for CatBoostClassifier: 0.7398360617234657\n",
      "Recall test_set for CatBoostClassifier: 0.6914223975948891\n",
      "\n",
      "Confusion_matrix test_set for CatBoostClassifier:\n",
      " [[402633 176079]\n",
      " [  6569  14719]]\n"
     ]
    }
   ],
   "source": [
    "cat_model_best = CatBoostClassifier(objective='Logloss', iterations=5000, eval_metric ='AUC',\n",
    "                                    auto_class_weights='Balanced',learning_rate=0.034, colsample_bylevel=0.075,\n",
    "                                    depth=5, boosting_type='Plain', bootstrap_type='Bernoulli', subsample=0.859,\n",
    "                                    random_seed=42)\n",
    "\n",
    "cat_model_best.fit(X_train, y_train, eval_set=(X_test, y_test), verbose=False, plot=True)\n",
    "\n",
    "pred_cat_model_best_train = cat_model_best.predict(X_train)\n",
    "pred_cat_model_best_test = cat_model_best.predict(X_test)\n",
    "\n",
    "print(\n",
    "    f'ROC-AUC train for CatBoostClassifier: {roc_auc_score(y_train, cat_model_best.predict_proba(X_train)[:, 1])}\\n'\n",
    "    f'ROC-AUC test for CatBoostClassifier: {roc_auc_score(y_test, cat_model_best.predict_proba(X_test)[:, 1])}\\n\\n'\n",
    "    f'Precision train_set for CatBoostClassifier: {precision_score(y_train, pred_cat_model_best_train)}\\n'\n",
    "    f'Precision test_set for CatBoostClassifier: {precision_score(y_test, pred_cat_model_best_test)}\\n\\n'\n",
    "    f'Recall train_set for CatBoostClassifier: {recall_score(y_train, pred_cat_model_best_train)}\\n'\n",
    "    f'Recall test_set for CatBoostClassifier: {recall_score(y_test, pred_cat_model_best_test)}\\n\\n'\n",
    "    f'Confusion_matrix test_set for CatBoostClassifier:\\n {confusion_matrix(y_test, pred_cat_model_best_test)}'\n",
    "    )"
   ]
  },
  {
   "cell_type": "markdown",
   "id": "cb533860",
   "metadata": {},
   "source": [
    "## 2.5.Best Model"
   ]
  },
  {
   "cell_type": "markdown",
   "id": "785ab959",
   "metadata": {},
   "source": [
    "**The best model - CatBoostClassifier with ROC-AUC for the rest dataset = 0.762**"
   ]
  },
  {
   "cell_type": "code",
   "execution_count": 83,
   "id": "60ddd2ce",
   "metadata": {
    "ExecuteTime": {
     "end_time": "2024-04-09T17:56:53.887648Z",
     "start_time": "2024-04-09T17:56:53.458769Z"
    }
   },
   "outputs": [
    {
     "data": {
      "text/html": [
       "<div>\n",
       "<style scoped>\n",
       "    .dataframe tbody tr th:only-of-type {\n",
       "        vertical-align: middle;\n",
       "    }\n",
       "\n",
       "    .dataframe tbody tr th {\n",
       "        vertical-align: top;\n",
       "    }\n",
       "\n",
       "    .dataframe thead th {\n",
       "        text-align: right;\n",
       "    }\n",
       "</style>\n",
       "<table border=\"1\" class=\"dataframe\">\n",
       "  <thead>\n",
       "    <tr style=\"text-align: right;\">\n",
       "      <th></th>\n",
       "      <th>id</th>\n",
       "      <th>flag_pred</th>\n",
       "    </tr>\n",
       "  </thead>\n",
       "  <tbody>\n",
       "    <tr>\n",
       "      <th>1679350</th>\n",
       "      <td>1679350</td>\n",
       "      <td>0</td>\n",
       "    </tr>\n",
       "    <tr>\n",
       "      <th>385353</th>\n",
       "      <td>385353</td>\n",
       "      <td>0</td>\n",
       "    </tr>\n",
       "    <tr>\n",
       "      <th>2137282</th>\n",
       "      <td>2137282</td>\n",
       "      <td>1</td>\n",
       "    </tr>\n",
       "    <tr>\n",
       "      <th>896053</th>\n",
       "      <td>896053</td>\n",
       "      <td>1</td>\n",
       "    </tr>\n",
       "    <tr>\n",
       "      <th>2824317</th>\n",
       "      <td>2824317</td>\n",
       "      <td>1</td>\n",
       "    </tr>\n",
       "    <tr>\n",
       "      <th>...</th>\n",
       "      <td>...</td>\n",
       "      <td>...</td>\n",
       "    </tr>\n",
       "    <tr>\n",
       "      <th>1567263</th>\n",
       "      <td>1567263</td>\n",
       "      <td>1</td>\n",
       "    </tr>\n",
       "    <tr>\n",
       "      <th>2359992</th>\n",
       "      <td>2359992</td>\n",
       "      <td>0</td>\n",
       "    </tr>\n",
       "    <tr>\n",
       "      <th>410308</th>\n",
       "      <td>410308</td>\n",
       "      <td>0</td>\n",
       "    </tr>\n",
       "    <tr>\n",
       "      <th>2452516</th>\n",
       "      <td>2452516</td>\n",
       "      <td>0</td>\n",
       "    </tr>\n",
       "    <tr>\n",
       "      <th>1555722</th>\n",
       "      <td>1555722</td>\n",
       "      <td>0</td>\n",
       "    </tr>\n",
       "  </tbody>\n",
       "</table>\n",
       "<p>600000 rows × 2 columns</p>\n",
       "</div>"
      ],
      "text/plain": [
       "              id  flag_pred\n",
       "1679350  1679350          0\n",
       "385353    385353          0\n",
       "2137282  2137282          1\n",
       "896053    896053          1\n",
       "2824317  2824317          1\n",
       "...          ...        ...\n",
       "1567263  1567263          1\n",
       "2359992  2359992          0\n",
       "410308    410308          0\n",
       "2452516  2452516          0\n",
       "1555722  1555722          0\n",
       "\n",
       "[600000 rows x 2 columns]"
      ]
     },
     "execution_count": 83,
     "metadata": {},
     "output_type": "execute_result"
    }
   ],
   "source": [
    "# save predicted flag for the test dataset\n",
    "df_result_test = pd.DataFrame(data={'id': df_test['id'], 'flag_pred': pred_cat_model_best_test})\n",
    "df_result_test.to_csv('df_result_test.csv', index=False)\n",
    "df_result_test"
   ]
  },
  {
   "cell_type": "markdown",
   "id": "da8d1219",
   "metadata": {
    "heading_collapsed": true
   },
   "source": [
    "# 3. PipeLine"
   ]
  },
  {
   "cell_type": "markdown",
   "id": "bcecc29d",
   "metadata": {
    "hidden": true
   },
   "source": [
    "**Pack the resulting model into an automated PipeLine, which, when fit() is called, will prepare the data and train the model, and when predict() is called, will make predictions on a given data set**"
   ]
  },
  {
   "cell_type": "code",
   "execution_count": 84,
   "id": "e9b6581e",
   "metadata": {
    "ExecuteTime": {
     "end_time": "2024-04-09T17:57:44.648910Z",
     "start_time": "2024-04-09T17:57:44.641897Z"
    },
    "hidden": true
   },
   "outputs": [],
   "source": [
    "class MyClassificationModel():\n",
    "    def __init__(self):\n",
    "        pass\n",
    "\n",
    "    def fit(self, X: pd.DataFrame, y: pd.Series) -> None:\n",
    "        numerical_features = X.columns\n",
    "        numerical_transformer = MinMaxScaler()\n",
    "        preprocessor = ColumnTransformer(transformers=[('numerical', numerical_transformer, numerical_features)])\n",
    "        \n",
    "        model = CatBoostClassifier(objective='Logloss', iterations=5000, eval_metric ='AUC',\n",
    "                                   auto_class_weights='Balanced',learning_rate=0.034, colsample_bylevel=0.075,\n",
    "                                   depth=5, boosting_type='Plain', bootstrap_type='Bernoulli', subsample=0.859,\n",
    "                                   random_seed=42, verbose=False)\n",
    "\n",
    "        self.pipe = Pipeline([\n",
    "            ('preprocessor', preprocessor),\n",
    "            ('classifier', model)\n",
    "        ])\n",
    "\n",
    "        self.pipe.fit(X, y)\n",
    "\n",
    "        return self\n",
    "\n",
    "    def predict(self, X: pd.DataFrame) -> np.ndarray:\n",
    "        try:\n",
    "            y_pred = self.pipe.predict(X)\n",
    "        except AttributeError:\n",
    "            print('!!!EROR!!! \\n The Model did not fit. First you need to train the Model using the fit() method!')\n",
    "            \n",
    "            return self\n",
    "\n",
    "        return y_pred\n",
    "\n",
    "    def predict_proba(self, X: pd.DataFrame) -> np.ndarray:\n",
    "        try:\n",
    "            y_pred_prob = self.pipe.predict_proba(X)\n",
    "        except AttributeError:\n",
    "            print('!!!EROR!!! \\n The Model did not fit. First you need to train the Model using the fit() method!')\n",
    "            \n",
    "            return self\n",
    "\n",
    "        return y_pred_prob"
   ]
  },
  {
   "cell_type": "markdown",
   "id": "37cf2e02",
   "metadata": {
    "heading_collapsed": true
   },
   "source": [
    "# 4. Results"
   ]
  },
  {
   "cell_type": "markdown",
   "id": "7036870b",
   "metadata": {
    "hidden": true
   },
   "source": [
    "**We trained PipeLine on the entire dataset and saved the training result in binary format рiскlе.**"
   ]
  },
  {
   "cell_type": "code",
   "execution_count": 86,
   "id": "ca3cc706",
   "metadata": {
    "ExecuteTime": {
     "end_time": "2024-04-09T17:59:34.876205Z",
     "start_time": "2024-04-09T17:59:12.313590Z"
    },
    "hidden": true
   },
   "outputs": [],
   "source": [
    "# using the full dataset for training the Model \n",
    "y = df_full['flag']\n",
    "X = df_full.drop(columns=['flag', 'id'])"
   ]
  },
  {
   "cell_type": "code",
   "execution_count": 88,
   "id": "685b4ada",
   "metadata": {
    "ExecuteTime": {
     "end_time": "2024-04-09T18:27:39.675660Z",
     "start_time": "2024-04-09T18:00:07.313232Z"
    },
    "hidden": true
   },
   "outputs": [
    {
     "data": {
      "text/plain": [
       "<__main__.MyClassificationModel at 0x133f4edae50>"
      ]
     },
     "execution_count": 88,
     "metadata": {},
     "output_type": "execute_result"
    }
   ],
   "source": [
    "my_model = MyClassificationModel()\n",
    "my_model.fit(X, y)"
   ]
  },
  {
   "cell_type": "code",
   "execution_count": 94,
   "id": "14a6df03",
   "metadata": {
    "ExecuteTime": {
     "end_time": "2024-04-09T18:30:51.888830Z",
     "start_time": "2024-04-09T18:30:51.849831Z"
    },
    "hidden": true
   },
   "outputs": [],
   "source": [
    "with open('./model.pkl', 'wb') as file:\n",
    "    dill.dump({\n",
    "        'model': my_model,\n",
    "        'metadata': {\n",
    "            'name': 'ML model for predicting the fact of default',\n",
    "            'author': 'Aleksandr Ezerskiy',\n",
    "            'version': 1.0,\n",
    "            'date': datetime.datetime.now(),\n",
    "            'type': type(my_model).__name__\n",
    "        }\n",
    "    }, file)"
   ]
  },
  {
   "cell_type": "code",
   "execution_count": null,
   "id": "644f0830",
   "metadata": {
    "hidden": true
   },
   "outputs": [],
   "source": []
  }
 ],
 "metadata": {
  "kernelspec": {
   "display_name": "Python [conda env:base] *",
   "language": "python",
   "name": "conda-base-py"
  },
  "language_info": {
   "codemirror_mode": {
    "name": "ipython",
    "version": 3
   },
   "file_extension": ".py",
   "mimetype": "text/x-python",
   "name": "python",
   "nbconvert_exporter": "python",
   "pygments_lexer": "ipython3",
   "version": "3.12.7"
  }
 },
 "nbformat": 4,
 "nbformat_minor": 5
}
